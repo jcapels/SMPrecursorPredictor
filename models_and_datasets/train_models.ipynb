{
 "cells": [
  {
   "cell_type": "code",
   "execution_count": 1,
   "metadata": {
    "collapsed": true,
    "ExecuteTime": {
     "end_time": "2023-07-03T17:22:39.276419292Z",
     "start_time": "2023-07-03T17:22:38.624822724Z"
    }
   },
   "outputs": [
    {
     "name": "stdout",
     "output_type": "stream",
     "text": [
      "2023-07-03 18:22:39,261 — INFO — Assuming multitask since y has more than one dimension. If otherwise, explicitly set the mode to 'classification' or 'regression'!\n"
     ]
    }
   ],
   "source": [
    "from deepmol.loaders import CSVLoader\n",
    "from deepmol.splitters import MultiTaskStratifiedSplitter\n",
    "from rdkit import RDLogger\n",
    "import logging\n",
    "import warnings\n",
    "\n",
    "warnings.filterwarnings(\"ignore\")\n",
    "logger = logging.getLogger()\n",
    "logger.setLevel(logging.CRITICAL)\n",
    "RDLogger.DisableLog('rdApp.*')\n",
    "\n",
    "dataset = CSVLoader(\"final_dataset_top.csv\", labels_fields = ['C00073', 'C00078', 'C00079', 'C00082', 'C00235', 'C00341',\n",
    "                                                 'C00353', 'C00448', 'C01789', 'C03506',\n",
    "                                                 'C00047', 'C00108', 'C00187', 'C00148', 'C00041',\n",
    "                                                 'C00129', 'C00062', 'C01852', 'C00049', 'C00135'],\n",
    "          id_field=\"ids\", smiles_field=\"smiles\").create_dataset()\n",
    "\n",
    "train, test = MultiTaskStratifiedSplitter().train_test_split(dataset, seed=123)"
   ]
  },
  {
   "cell_type": "code",
   "execution_count": 2,
   "metadata": {
    "ExecuteTime": {
     "end_time": "2023-07-03T17:22:41.928327146Z",
     "start_time": "2023-07-03T17:22:41.925201575Z"
    }
   },
   "outputs": [
    {
     "data": {
      "text/plain": "(1131, 20)"
     },
     "execution_count": 2,
     "metadata": {},
     "output_type": "execute_result"
    }
   ],
   "source": [
    "train.y.shape"
   ]
  },
  {
   "cell_type": "code",
   "execution_count": 3,
   "metadata": {
    "ExecuteTime": {
     "end_time": "2023-07-03T17:22:47.566525320Z",
     "start_time": "2023-07-03T17:22:45.147735659Z"
    }
   },
   "outputs": [
    {
     "name": "stderr",
     "output_type": "stream",
     "text": [
      "2023-07-03 18:22:45.410796: I tensorflow/tsl/cuda/cudart_stub.cc:28] Could not find cuda drivers on your machine, GPU will not be used.\n",
      "2023-07-03 18:22:45.439640: I tensorflow/tsl/cuda/cudart_stub.cc:28] Could not find cuda drivers on your machine, GPU will not be used.\n",
      "2023-07-03 18:22:45.440054: I tensorflow/core/platform/cpu_feature_guard.cc:182] This TensorFlow binary is optimized to use available CPU instructions in performance-critical operations.\n",
      "To enable the following instructions: AVX2 FMA, in other operations, rebuild TensorFlow with the appropriate compiler flags.\n",
      "2023-07-03 18:22:45.991542: W tensorflow/compiler/tf2tensorrt/utils/py_utils.cc:38] TF-TRT Warning: Could not find TensorRT\n"
     ]
    }
   ],
   "source": [
    "from deepmol.pipeline_optimization._feature_selector_objectives import _get_feature_selector\n",
    "from deepmol.base import PassThroughTransformer\n",
    "from deepmol.pipeline_optimization._scaler_objectives import _get_scaler\n",
    "from deepmol.pipeline_optimization._featurizer_objectives import _get_featurizer\n",
    "from deepmol.pipeline_optimization._standardizer_objectives import _get_standardizer\n",
    "from deepmol.models import SklearnModel\n",
    "from sklearn.linear_model import RidgeClassifier, RidgeClassifierCV\n",
    "from sklearn.neural_network import MLPClassifier\n",
    "from sklearn.neighbors import KNeighborsClassifier, RadiusNeighborsClassifier\n",
    "from sklearn.ensemble import ExtraTreesClassifier, RandomForestClassifier\n",
    "from sklearn.tree import ExtraTreeClassifier, DecisionTreeClassifier\n",
    "\n",
    "\n",
    "def get_hyperparameters_for_models(model, trial):\n",
    "    if model.__name__ == \"DecisionTreeClassifier\":\n",
    "        criterion = trial.suggest_categorical(\"model__criterion\", [\"gini\", \"entropy\"])\n",
    "        max_depth = trial.suggest_int(\"model__max_depth\", 10, 500)\n",
    "        min_samples_split = trial.suggest_int(\"model__min_samples_split\", 2, 10)\n",
    "        min_samples_leaf = trial.suggest_int(\"model__min_samples_leaf\", 1, 10)\n",
    "        model(criterion=criterion, max_depth=max_depth, min_samples_split=min_samples_split,\n",
    "              min_samples_leaf=min_samples_leaf)\n",
    "        return SklearnModel(model, model_dir=\"model\")\n",
    "    elif model.__name__ == \"ExtraTreeClassifier\":\n",
    "        criterion = trial.suggest_categorical(\"model__criterion\", [\"gini\", \"entropy\"])\n",
    "        max_depth = trial.suggest_int(\"model__max_depth\", 10, 500)\n",
    "        min_samples_split = trial.suggest_int(\"model__min_samples_split\", 2, 10)\n",
    "        min_samples_leaf = trial.suggest_int(\"model__min_samples_leaf\", 1, 10)\n",
    "        model(criterion=criterion, max_depth=max_depth, min_samples_split=min_samples_split,\n",
    "              min_samples_leaf=min_samples_leaf)\n",
    "        return SklearnModel(model, model_dir=\"model\")\n",
    "    elif model.__name__ == \"ExtraTreesClassifier\":\n",
    "        criterion = trial.suggest_categorical(\"model__criterion\", [\"gini\", \"entropy\"])\n",
    "        max_depth = trial.suggest_int(\"model__max_depth\", 10, 500)\n",
    "        min_samples_split = trial.suggest_int(\"model__min_samples_split\", 2, 10)\n",
    "        min_samples_leaf = trial.suggest_int(\"model__min_samples_leaf\", 1, 10)\n",
    "        model(criterion=criterion, max_depth=max_depth, min_samples_split=min_samples_split,\n",
    "              min_samples_leaf=min_samples_leaf)\n",
    "        return SklearnModel(model, model_dir=\"model\")\n",
    "    elif model.__name__ == \"KNeighborsClassifier\":\n",
    "        n_neighbors =  trial.suggest_int(\"model__n_neighbors\", 1, 100)\n",
    "        weights =  trial.suggest_categorical(\"model__weights\", [\"uniform\", \"distance\"])\n",
    "        algorithm =  trial.suggest_categorical(\"model__algorithm\", [\"auto\", \"ball_tree\", \"kd_tree\", \"brute\"])\n",
    "        model(n_neighbors=n_neighbors, weights=weights, algorithm=algorithm)\n",
    "        return SklearnModel(model, model_dir=\"model\")\n",
    "    elif model.__name__ == \"MLPClassifier\":\n",
    "        hidden_layer_sizes = trial.suggest_categorical(\"model__hidden_layer_sizes\", [(100,), (100, 100), (100, 100, 100)])\n",
    "        activation = trial.suggest_categorical(\"model__activation\", [\"identity\", \"logistic\", \"tanh\", \"relu\"])\n",
    "        solver = trial.suggest_categorical(\"model__solver\", [\"lbfgs\", \"sgd\", \"adam\"])\n",
    "        batch_size = trial.suggest_categorical(\"model__batch_size\", [16, 32, 64, 128, 256])\n",
    "        early_stopping = True\n",
    "        if solver == \"adam\" or solver == \"sgd\":\n",
    "            learning_rate_init = trial.suggest_categorical(\"model__learning_rate\", [0.00001, 0.0001, 0.001, 0.01, 0.1])\n",
    "            learning_rate = trial.suggest_categorical(\"model__learning_rate\", [\"constant\", \"invscaling\", \"adaptive\"])\n",
    "\n",
    "            model(hidden_layer_sizes=hidden_layer_sizes, activation=activation, solver=solver, batch_size=batch_size,\n",
    "              learning_rate_init=learning_rate_init, learning_rate=learning_rate, early_stopping=early_stopping)\n",
    "        else:\n",
    "            model(hidden_layer_sizes=hidden_layer_sizes, activation=activation, solver=solver, batch_size=batch_size,\n",
    "              early_stopping=early_stopping)\n",
    "\n",
    "        return SklearnModel(model, model_dir=\"model\")\n",
    "    elif model.__name__ == \"RadiusNeighborsClassifier\":\n",
    "        radius = trial.suggest_int(\"model__radius\", 1, 5)\n",
    "        weights = trial.suggest_categorical(\"model__weights\", [\"uniform\", \"distance\"])\n",
    "        algorithm = trial.suggest_categorical(\"model__algorithm\", [\"auto\", \"ball_tree\", \"kd_tree\", \"brute\"])\n",
    "        model(radius=radius, weights=weights, algorithm=algorithm)\n",
    "        return SklearnModel(model, model_dir=\"model\")\n",
    "    elif model.__name__ == \"RandomForestClassifier\":\n",
    "        criterion = trial.suggest_categorical(\"model__criterion\", [\"gini\", \"entropy\"])\n",
    "        max_depth = trial.suggest_int(\"model__max_depth\", 10, 500)\n",
    "        min_samples_split = trial.suggest_int(\"model__min_samples_split\", 2, 10)\n",
    "        min_samples_leaf = trial.suggest_int(\"model__min_samples_leaf\", 1, 10)\n",
    "        n_estimators = trial.suggest_int(\"model__n_estimators\", 10, 1000)\n",
    "        model(criterion=criterion, max_depth=max_depth, min_samples_split=min_samples_split,\n",
    "              min_samples_leaf=min_samples_leaf, n_estimators=n_estimators)\n",
    "        return SklearnModel(model, model_dir=\"model\")\n",
    "    elif model.__name__ == \"RidgeClassifier\":\n",
    "        alpha = trial.suggest_categorical(\"model__alpha\", [0.1, 1.0, 10.0])\n",
    "        solver = trial.suggest_categorical(\"model__solver\", [\"auto\", \"svd\", \"cholesky\", \"lsqr\", \"sparse_cg\", \"sag\", \"saga\"])\n",
    "        tol = trial.suggest_categorical(\"model__tol\", [0.0001, 0.001, 0.01, 0.1])\n",
    "        fit_intercept = trial.suggest_categorical(\"model__fit_intercept\", [True, False])\n",
    "        model(alpha=alpha, solver=solver, tol=tol, fit_intercept=fit_intercept)\n",
    "        return SklearnModel(model, model_dir=\"model\")\n",
    "    elif model.__name__ == \"RidgeClassifierCV\":\n",
    "        alpha = trial.suggest_categorical(\"model__alpha\", [0.1, 1.0, 10.0])\n",
    "        solver = trial.suggest_categorical(\"model__solver\", [\"auto\", \"svd\", \"cholesky\", \"lsqr\", \"sparse_cg\", \"sag\", \"saga\"])\n",
    "        tol = trial.suggest_categorical(\"model__tol\", [0.0001, 0.001, 0.01, 0.1])\n",
    "        fit_intercept = trial.suggest_categorical(\"model__fit_intercept\", [True, False])\n",
    "        model(alpha=alpha, solver=solver, tol=tol, fit_intercept=fit_intercept)\n",
    "        return SklearnModel(model, model_dir=\"model\")\n",
    "\n",
    "\n",
    "\n",
    "def objective(trial):\n",
    "    models = [DecisionTreeClassifier, ExtraTreeClassifier, ExtraTreesClassifier, KNeighborsClassifier,\n",
    "              MLPClassifier, RadiusNeighborsClassifier, RandomForestClassifier, RidgeClassifier, RidgeClassifierCV]\n",
    "    model = trial.suggest_categorical('model', models)\n",
    "    model = get_hyperparameters_for_models(model, trial)\n",
    "    standardizer = _get_standardizer(trial)\n",
    "    featurizer = _get_featurizer(trial, '1D')\n",
    "    if featurizer.__class__.__name__ == 'TwoDimensionDescriptors' or \\\n",
    "            featurizer.__class__.__name__ == 'All3DDescriptors':\n",
    "        scaler = _get_scaler(trial)\n",
    "    else:\n",
    "        scaler = PassThroughTransformer()\n",
    "    feature_selection = _get_feature_selector(trial, \"classification\")\n",
    "    final_steps = [('standardizer', standardizer), ('featurizer', featurizer), ('scaler', scaler),\n",
    "                   ('feature_selector', feature_selection), ('model', model)]\n",
    "    return final_steps\n"
   ]
  },
  {
   "cell_type": "code",
   "execution_count": 4,
   "outputs": [
    {
     "name": "stderr",
     "output_type": "stream",
     "text": [
      "\u001B[32m[I 2023-07-03 18:23:01,271]\u001B[0m A new study created in memory with name: test_predictor_pipeline\u001B[0m\n",
      "\u001B[32m[I 2023-07-03 18:23:01,273]\u001B[0m Trial 0 finished with value: -inf and parameters: {'model': <class 'sklearn.neural_network._multilayer_perceptron.MLPClassifier'>, 'model__hidden_layer_sizes': (100, 100, 100), 'model__activation': 'relu', 'model__solver': 'sgd', 'model__batch_size': 16, 'model__learning_rate': 0.01}. Best is trial 0 with value: -inf.\u001B[0m\n",
      "\u001B[32m[I 2023-07-03 18:23:01,275]\u001B[0m Trial 1 finished with value: -inf and parameters: {'model': <class 'sklearn.neural_network._multilayer_perceptron.MLPClassifier'>, 'model__hidden_layer_sizes': (100, 100, 100), 'model__activation': 'identity', 'model__solver': 'adam', 'model__batch_size': 256, 'model__learning_rate': 0.001}. Best is trial 0 with value: -inf.\u001B[0m\n"
     ]
    },
    {
     "name": "stdout",
     "output_type": "stream",
     "text": [
      "CategoricalDistribution does not support dynamic value space.\n",
      "CategoricalDistribution does not support dynamic value space.\n",
      "2023-07-03 18:23:01,276 — INFO — Standardizer CustomStandardizer initialized with -1 jobs.\n"
     ]
    },
    {
     "name": "stderr",
     "output_type": "stream",
     "text": [
      "\u001B[33m[W 2023-07-03 18:23:02,477]\u001B[0m Trial 2 failed with parameters: {'model': <class 'sklearn.ensemble._forest.ExtraTreesClassifier'>, 'model__criterion': 'entropy', 'model__max_depth': 170, 'model__min_samples_split': 10, 'model__min_samples_leaf': 8, 'standardizer': 'custom_standardizer', 'standardization_type': 'heavy_standardisation', '1D_featurizer': 'maccs', 'feature_selector': 'pass_through_transformer'} because of the following error: TypeError(\"fit() missing 1 required positional argument: 'y'\").\u001B[0m\n",
      "Traceback (most recent call last):\n",
      "  File \"/home/bisbii/anaconda3/envs/sm_precursor_predictor/lib/python3.9/site-packages/optuna/study/_optimize.py\", line 200, in _run_trial\n",
      "    value_or_values = func(trial)\n",
      "  File \"/home/bisbii/anaconda3/envs/sm_precursor_predictor/lib/python3.9/site-packages/deepmol/pipeline_optimization/objective_wrapper.py\", line 64, in __call__\n",
      "    pipeline.fit(train_dataset)\n",
      "  File \"/home/bisbii/anaconda3/envs/sm_precursor_predictor/lib/python3.9/site-packages/deepmol/pipeline/pipeline.py\", line 113, in fit\n",
      "    self._fit(train_dataset, validation_dataset)\n",
      "  File \"/home/bisbii/anaconda3/envs/sm_precursor_predictor/lib/python3.9/site-packages/deepmol/pipeline/pipeline.py\", line 138, in _fit\n",
      "    self.steps[-1][1].fit(train_dataset)\n",
      "  File \"/home/bisbii/anaconda3/envs/sm_precursor_predictor/lib/python3.9/site-packages/deepmol/base/predictor.py\", line 74, in fit\n",
      "    self._fit(dataset)\n",
      "  File \"/home/bisbii/anaconda3/envs/sm_precursor_predictor/lib/python3.9/site-packages/deepmol/models/sklearn_models.py\", line 89, in _fit\n",
      "    return self.model.fit(features, y)\n",
      "TypeError: fit() missing 1 required positional argument: 'y'\n",
      "\u001B[33m[W 2023-07-03 18:23:02,478]\u001B[0m Trial 2 failed with value None.\u001B[0m\n"
     ]
    },
    {
     "ename": "TypeError",
     "evalue": "fit() missing 1 required positional argument: 'y'",
     "output_type": "error",
     "traceback": [
      "\u001B[0;31m---------------------------------------------------------------------------\u001B[0m",
      "\u001B[0;31mTypeError\u001B[0m                                 Traceback (most recent call last)",
      "Cell \u001B[0;32mIn[4], line 9\u001B[0m\n\u001B[1;32m      6\u001B[0m     \u001B[38;5;28;01mreturn\u001B[39;00m f1_score(y_true, y_pred, average\u001B[38;5;241m=\u001B[39m\u001B[38;5;124m'\u001B[39m\u001B[38;5;124mmacro\u001B[39m\u001B[38;5;124m'\u001B[39m)\n\u001B[1;32m      7\u001B[0m metric \u001B[38;5;241m=\u001B[39m Metric(f1_score_macro)\n\u001B[0;32m----> 9\u001B[0m \u001B[43mpo\u001B[49m\u001B[38;5;241;43m.\u001B[39;49m\u001B[43moptimize\u001B[49m\u001B[43m(\u001B[49m\u001B[43mtrain_dataset\u001B[49m\u001B[38;5;241;43m=\u001B[39;49m\u001B[43mtrain\u001B[49m\u001B[43m,\u001B[49m\u001B[43m \u001B[49m\u001B[43mtest_dataset\u001B[49m\u001B[38;5;241;43m=\u001B[39;49m\u001B[43mtest\u001B[49m\u001B[43m,\u001B[49m\u001B[43m \u001B[49m\u001B[43mobjective_steps\u001B[49m\u001B[38;5;241;43m=\u001B[39;49m\u001B[43mobjective\u001B[49m\u001B[43m,\u001B[49m\n\u001B[1;32m     10\u001B[0m \u001B[43m            \u001B[49m\u001B[43mmetric\u001B[49m\u001B[38;5;241;43m=\u001B[39;49m\u001B[43mmetric\u001B[49m\u001B[43m,\u001B[49m\u001B[43m \u001B[49m\u001B[43mn_trials\u001B[49m\u001B[38;5;241;43m=\u001B[39;49m\u001B[38;5;241;43m10\u001B[39;49m\u001B[43m,\u001B[49m\u001B[43m \u001B[49m\u001B[43msave_top_n\u001B[49m\u001B[38;5;241;43m=\u001B[39;49m\u001B[38;5;241;43m2\u001B[39;49m\u001B[43m)\u001B[49m\n",
      "File \u001B[0;32m~/anaconda3/envs/sm_precursor_predictor/lib/python3.9/site-packages/deepmol/pipeline_optimization/pipeline_optimization.py:121\u001B[0m, in \u001B[0;36mPipelineOptimization.optimize\u001B[0;34m(self, train_dataset, test_dataset, objective_steps, metric, n_trials, save_top_n, **kwargs)\u001B[0m\n\u001B[1;32m    118\u001B[0m     objective_steps \u001B[38;5;241m=\u001B[39m _get_preset(objective_steps)\n\u001B[1;32m    119\u001B[0m objective \u001B[38;5;241m=\u001B[39m Objective(objective_steps, \u001B[38;5;28mself\u001B[39m\u001B[38;5;241m.\u001B[39mstudy, \u001B[38;5;28mself\u001B[39m\u001B[38;5;241m.\u001B[39mdirection, train_dataset, test_dataset, metric,\n\u001B[1;32m    120\u001B[0m                       save_top_n, \u001B[38;5;241m*\u001B[39m\u001B[38;5;241m*\u001B[39mkwargs)\n\u001B[0;32m--> 121\u001B[0m \u001B[38;5;28;43mself\u001B[39;49m\u001B[38;5;241;43m.\u001B[39;49m\u001B[43mstudy\u001B[49m\u001B[38;5;241;43m.\u001B[39;49m\u001B[43moptimize\u001B[49m\u001B[43m(\u001B[49m\u001B[43mobjective\u001B[49m\u001B[43m,\u001B[49m\u001B[43m \u001B[49m\u001B[43mn_trials\u001B[49m\u001B[38;5;241;43m=\u001B[39;49m\u001B[43mn_trials\u001B[49m\u001B[43m)\u001B[49m\n",
      "File \u001B[0;32m~/anaconda3/envs/sm_precursor_predictor/lib/python3.9/site-packages/optuna/study/study.py:425\u001B[0m, in \u001B[0;36mStudy.optimize\u001B[0;34m(self, func, n_trials, timeout, n_jobs, catch, callbacks, gc_after_trial, show_progress_bar)\u001B[0m\n\u001B[1;32m    321\u001B[0m \u001B[38;5;28;01mdef\u001B[39;00m \u001B[38;5;21moptimize\u001B[39m(\n\u001B[1;32m    322\u001B[0m     \u001B[38;5;28mself\u001B[39m,\n\u001B[1;32m    323\u001B[0m     func: ObjectiveFuncType,\n\u001B[0;32m   (...)\u001B[0m\n\u001B[1;32m    330\u001B[0m     show_progress_bar: \u001B[38;5;28mbool\u001B[39m \u001B[38;5;241m=\u001B[39m \u001B[38;5;28;01mFalse\u001B[39;00m,\n\u001B[1;32m    331\u001B[0m ) \u001B[38;5;241m-\u001B[39m\u001B[38;5;241m>\u001B[39m \u001B[38;5;28;01mNone\u001B[39;00m:\n\u001B[1;32m    332\u001B[0m     \u001B[38;5;124;03m\"\"\"Optimize an objective function.\u001B[39;00m\n\u001B[1;32m    333\u001B[0m \n\u001B[1;32m    334\u001B[0m \u001B[38;5;124;03m    Optimization is done by choosing a suitable set of hyperparameter values from a given\u001B[39;00m\n\u001B[0;32m   (...)\u001B[0m\n\u001B[1;32m    422\u001B[0m \u001B[38;5;124;03m            If nested invocation of this method occurs.\u001B[39;00m\n\u001B[1;32m    423\u001B[0m \u001B[38;5;124;03m    \"\"\"\u001B[39;00m\n\u001B[0;32m--> 425\u001B[0m     \u001B[43m_optimize\u001B[49m\u001B[43m(\u001B[49m\n\u001B[1;32m    426\u001B[0m \u001B[43m        \u001B[49m\u001B[43mstudy\u001B[49m\u001B[38;5;241;43m=\u001B[39;49m\u001B[38;5;28;43mself\u001B[39;49m\u001B[43m,\u001B[49m\n\u001B[1;32m    427\u001B[0m \u001B[43m        \u001B[49m\u001B[43mfunc\u001B[49m\u001B[38;5;241;43m=\u001B[39;49m\u001B[43mfunc\u001B[49m\u001B[43m,\u001B[49m\n\u001B[1;32m    428\u001B[0m \u001B[43m        \u001B[49m\u001B[43mn_trials\u001B[49m\u001B[38;5;241;43m=\u001B[39;49m\u001B[43mn_trials\u001B[49m\u001B[43m,\u001B[49m\n\u001B[1;32m    429\u001B[0m \u001B[43m        \u001B[49m\u001B[43mtimeout\u001B[49m\u001B[38;5;241;43m=\u001B[39;49m\u001B[43mtimeout\u001B[49m\u001B[43m,\u001B[49m\n\u001B[1;32m    430\u001B[0m \u001B[43m        \u001B[49m\u001B[43mn_jobs\u001B[49m\u001B[38;5;241;43m=\u001B[39;49m\u001B[43mn_jobs\u001B[49m\u001B[43m,\u001B[49m\n\u001B[1;32m    431\u001B[0m \u001B[43m        \u001B[49m\u001B[43mcatch\u001B[49m\u001B[38;5;241;43m=\u001B[39;49m\u001B[38;5;28;43mtuple\u001B[39;49m\u001B[43m(\u001B[49m\u001B[43mcatch\u001B[49m\u001B[43m)\u001B[49m\u001B[43m \u001B[49m\u001B[38;5;28;43;01mif\u001B[39;49;00m\u001B[43m \u001B[49m\u001B[38;5;28;43misinstance\u001B[39;49m\u001B[43m(\u001B[49m\u001B[43mcatch\u001B[49m\u001B[43m,\u001B[49m\u001B[43m \u001B[49m\u001B[43mIterable\u001B[49m\u001B[43m)\u001B[49m\u001B[43m \u001B[49m\u001B[38;5;28;43;01melse\u001B[39;49;00m\u001B[43m \u001B[49m\u001B[43m(\u001B[49m\u001B[43mcatch\u001B[49m\u001B[43m,\u001B[49m\u001B[43m)\u001B[49m\u001B[43m,\u001B[49m\n\u001B[1;32m    432\u001B[0m \u001B[43m        \u001B[49m\u001B[43mcallbacks\u001B[49m\u001B[38;5;241;43m=\u001B[39;49m\u001B[43mcallbacks\u001B[49m\u001B[43m,\u001B[49m\n\u001B[1;32m    433\u001B[0m \u001B[43m        \u001B[49m\u001B[43mgc_after_trial\u001B[49m\u001B[38;5;241;43m=\u001B[39;49m\u001B[43mgc_after_trial\u001B[49m\u001B[43m,\u001B[49m\n\u001B[1;32m    434\u001B[0m \u001B[43m        \u001B[49m\u001B[43mshow_progress_bar\u001B[49m\u001B[38;5;241;43m=\u001B[39;49m\u001B[43mshow_progress_bar\u001B[49m\u001B[43m,\u001B[49m\n\u001B[1;32m    435\u001B[0m \u001B[43m    \u001B[49m\u001B[43m)\u001B[49m\n",
      "File \u001B[0;32m~/anaconda3/envs/sm_precursor_predictor/lib/python3.9/site-packages/optuna/study/_optimize.py:66\u001B[0m, in \u001B[0;36m_optimize\u001B[0;34m(study, func, n_trials, timeout, n_jobs, catch, callbacks, gc_after_trial, show_progress_bar)\u001B[0m\n\u001B[1;32m     64\u001B[0m \u001B[38;5;28;01mtry\u001B[39;00m:\n\u001B[1;32m     65\u001B[0m     \u001B[38;5;28;01mif\u001B[39;00m n_jobs \u001B[38;5;241m==\u001B[39m \u001B[38;5;241m1\u001B[39m:\n\u001B[0;32m---> 66\u001B[0m         \u001B[43m_optimize_sequential\u001B[49m\u001B[43m(\u001B[49m\n\u001B[1;32m     67\u001B[0m \u001B[43m            \u001B[49m\u001B[43mstudy\u001B[49m\u001B[43m,\u001B[49m\n\u001B[1;32m     68\u001B[0m \u001B[43m            \u001B[49m\u001B[43mfunc\u001B[49m\u001B[43m,\u001B[49m\n\u001B[1;32m     69\u001B[0m \u001B[43m            \u001B[49m\u001B[43mn_trials\u001B[49m\u001B[43m,\u001B[49m\n\u001B[1;32m     70\u001B[0m \u001B[43m            \u001B[49m\u001B[43mtimeout\u001B[49m\u001B[43m,\u001B[49m\n\u001B[1;32m     71\u001B[0m \u001B[43m            \u001B[49m\u001B[43mcatch\u001B[49m\u001B[43m,\u001B[49m\n\u001B[1;32m     72\u001B[0m \u001B[43m            \u001B[49m\u001B[43mcallbacks\u001B[49m\u001B[43m,\u001B[49m\n\u001B[1;32m     73\u001B[0m \u001B[43m            \u001B[49m\u001B[43mgc_after_trial\u001B[49m\u001B[43m,\u001B[49m\n\u001B[1;32m     74\u001B[0m \u001B[43m            \u001B[49m\u001B[43mreseed_sampler_rng\u001B[49m\u001B[38;5;241;43m=\u001B[39;49m\u001B[38;5;28;43;01mFalse\u001B[39;49;00m\u001B[43m,\u001B[49m\n\u001B[1;32m     75\u001B[0m \u001B[43m            \u001B[49m\u001B[43mtime_start\u001B[49m\u001B[38;5;241;43m=\u001B[39;49m\u001B[38;5;28;43;01mNone\u001B[39;49;00m\u001B[43m,\u001B[49m\n\u001B[1;32m     76\u001B[0m \u001B[43m            \u001B[49m\u001B[43mprogress_bar\u001B[49m\u001B[38;5;241;43m=\u001B[39;49m\u001B[43mprogress_bar\u001B[49m\u001B[43m,\u001B[49m\n\u001B[1;32m     77\u001B[0m \u001B[43m        \u001B[49m\u001B[43m)\u001B[49m\n\u001B[1;32m     78\u001B[0m     \u001B[38;5;28;01melse\u001B[39;00m:\n\u001B[1;32m     79\u001B[0m         \u001B[38;5;28;01mif\u001B[39;00m n_jobs \u001B[38;5;241m==\u001B[39m \u001B[38;5;241m-\u001B[39m\u001B[38;5;241m1\u001B[39m:\n",
      "File \u001B[0;32m~/anaconda3/envs/sm_precursor_predictor/lib/python3.9/site-packages/optuna/study/_optimize.py:163\u001B[0m, in \u001B[0;36m_optimize_sequential\u001B[0;34m(study, func, n_trials, timeout, catch, callbacks, gc_after_trial, reseed_sampler_rng, time_start, progress_bar)\u001B[0m\n\u001B[1;32m    160\u001B[0m         \u001B[38;5;28;01mbreak\u001B[39;00m\n\u001B[1;32m    162\u001B[0m \u001B[38;5;28;01mtry\u001B[39;00m:\n\u001B[0;32m--> 163\u001B[0m     frozen_trial \u001B[38;5;241m=\u001B[39m \u001B[43m_run_trial\u001B[49m\u001B[43m(\u001B[49m\u001B[43mstudy\u001B[49m\u001B[43m,\u001B[49m\u001B[43m \u001B[49m\u001B[43mfunc\u001B[49m\u001B[43m,\u001B[49m\u001B[43m \u001B[49m\u001B[43mcatch\u001B[49m\u001B[43m)\u001B[49m\n\u001B[1;32m    164\u001B[0m \u001B[38;5;28;01mfinally\u001B[39;00m:\n\u001B[1;32m    165\u001B[0m     \u001B[38;5;66;03m# The following line mitigates memory problems that can be occurred in some\u001B[39;00m\n\u001B[1;32m    166\u001B[0m     \u001B[38;5;66;03m# environments (e.g., services that use computing containers such as GitHub Actions).\u001B[39;00m\n\u001B[1;32m    167\u001B[0m     \u001B[38;5;66;03m# Please refer to the following PR for further details:\u001B[39;00m\n\u001B[1;32m    168\u001B[0m     \u001B[38;5;66;03m# https://github.com/optuna/optuna/pull/325.\u001B[39;00m\n\u001B[1;32m    169\u001B[0m     \u001B[38;5;28;01mif\u001B[39;00m gc_after_trial:\n",
      "File \u001B[0;32m~/anaconda3/envs/sm_precursor_predictor/lib/python3.9/site-packages/optuna/study/_optimize.py:251\u001B[0m, in \u001B[0;36m_run_trial\u001B[0;34m(study, func, catch)\u001B[0m\n\u001B[1;32m    244\u001B[0m         \u001B[38;5;28;01massert\u001B[39;00m \u001B[38;5;28;01mFalse\u001B[39;00m, \u001B[38;5;124m\"\u001B[39m\u001B[38;5;124mShould not reach.\u001B[39m\u001B[38;5;124m\"\u001B[39m\n\u001B[1;32m    246\u001B[0m \u001B[38;5;28;01mif\u001B[39;00m (\n\u001B[1;32m    247\u001B[0m     frozen_trial\u001B[38;5;241m.\u001B[39mstate \u001B[38;5;241m==\u001B[39m TrialState\u001B[38;5;241m.\u001B[39mFAIL\n\u001B[1;32m    248\u001B[0m     \u001B[38;5;129;01mand\u001B[39;00m func_err \u001B[38;5;129;01mis\u001B[39;00m \u001B[38;5;129;01mnot\u001B[39;00m \u001B[38;5;28;01mNone\u001B[39;00m\n\u001B[1;32m    249\u001B[0m     \u001B[38;5;129;01mand\u001B[39;00m \u001B[38;5;129;01mnot\u001B[39;00m \u001B[38;5;28misinstance\u001B[39m(func_err, catch)\n\u001B[1;32m    250\u001B[0m ):\n\u001B[0;32m--> 251\u001B[0m     \u001B[38;5;28;01mraise\u001B[39;00m func_err\n\u001B[1;32m    252\u001B[0m \u001B[38;5;28;01mreturn\u001B[39;00m frozen_trial\n",
      "File \u001B[0;32m~/anaconda3/envs/sm_precursor_predictor/lib/python3.9/site-packages/optuna/study/_optimize.py:200\u001B[0m, in \u001B[0;36m_run_trial\u001B[0;34m(study, func, catch)\u001B[0m\n\u001B[1;32m    198\u001B[0m \u001B[38;5;28;01mwith\u001B[39;00m get_heartbeat_thread(trial\u001B[38;5;241m.\u001B[39m_trial_id, study\u001B[38;5;241m.\u001B[39m_storage):\n\u001B[1;32m    199\u001B[0m     \u001B[38;5;28;01mtry\u001B[39;00m:\n\u001B[0;32m--> 200\u001B[0m         value_or_values \u001B[38;5;241m=\u001B[39m \u001B[43mfunc\u001B[49m\u001B[43m(\u001B[49m\u001B[43mtrial\u001B[49m\u001B[43m)\u001B[49m\n\u001B[1;32m    201\u001B[0m     \u001B[38;5;28;01mexcept\u001B[39;00m exceptions\u001B[38;5;241m.\u001B[39mTrialPruned \u001B[38;5;28;01mas\u001B[39;00m e:\n\u001B[1;32m    202\u001B[0m         \u001B[38;5;66;03m# TODO(mamu): Handle multi-objective cases.\u001B[39;00m\n\u001B[1;32m    203\u001B[0m         state \u001B[38;5;241m=\u001B[39m TrialState\u001B[38;5;241m.\u001B[39mPRUNED\n",
      "File \u001B[0;32m~/anaconda3/envs/sm_precursor_predictor/lib/python3.9/site-packages/deepmol/pipeline_optimization/objective_wrapper.py:64\u001B[0m, in \u001B[0;36mObjective.__call__\u001B[0;34m(self, trial)\u001B[0m\n\u001B[1;32m     62\u001B[0m path \u001B[38;5;241m=\u001B[39m os\u001B[38;5;241m.\u001B[39mpath\u001B[38;5;241m.\u001B[39mjoin(\u001B[38;5;28mself\u001B[39m\u001B[38;5;241m.\u001B[39msave_dir, \u001B[38;5;124mf\u001B[39m\u001B[38;5;124m'\u001B[39m\u001B[38;5;124mtrial_\u001B[39m\u001B[38;5;132;01m{\u001B[39;00mtrial_id\u001B[38;5;132;01m}\u001B[39;00m\u001B[38;5;124m'\u001B[39m)\n\u001B[1;32m     63\u001B[0m pipeline \u001B[38;5;241m=\u001B[39m Pipeline(steps\u001B[38;5;241m=\u001B[39m\u001B[38;5;28mself\u001B[39m\u001B[38;5;241m.\u001B[39mobjective_steps(trial, \u001B[38;5;241m*\u001B[39m\u001B[38;5;241m*\u001B[39m\u001B[38;5;28mself\u001B[39m\u001B[38;5;241m.\u001B[39mkwargs), path\u001B[38;5;241m=\u001B[39mpath)\n\u001B[0;32m---> 64\u001B[0m \u001B[43mpipeline\u001B[49m\u001B[38;5;241;43m.\u001B[39;49m\u001B[43mfit\u001B[49m\u001B[43m(\u001B[49m\u001B[43mtrain_dataset\u001B[49m\u001B[43m)\u001B[49m\n\u001B[1;32m     65\u001B[0m score \u001B[38;5;241m=\u001B[39m pipeline\u001B[38;5;241m.\u001B[39mevaluate(test_dataset, [\u001B[38;5;28mself\u001B[39m\u001B[38;5;241m.\u001B[39mmetric])[\u001B[38;5;241m0\u001B[39m][\u001B[38;5;28mself\u001B[39m\u001B[38;5;241m.\u001B[39mmetric\u001B[38;5;241m.\u001B[39mname]\n\u001B[1;32m     67\u001B[0m best_scores \u001B[38;5;241m=\u001B[39m \u001B[38;5;28mself\u001B[39m\u001B[38;5;241m.\u001B[39mstudy\u001B[38;5;241m.\u001B[39muser_attrs[\u001B[38;5;124m'\u001B[39m\u001B[38;5;124mbest_scores\u001B[39m\u001B[38;5;124m'\u001B[39m]\n",
      "File \u001B[0;32m~/anaconda3/envs/sm_precursor_predictor/lib/python3.9/site-packages/deepmol/pipeline/pipeline.py:113\u001B[0m, in \u001B[0;36mPipeline.fit\u001B[0;34m(self, train_dataset, validation_dataset)\u001B[0m\n\u001B[1;32m     97\u001B[0m \u001B[38;5;28;01mdef\u001B[39;00m \u001B[38;5;21mfit\u001B[39m(\u001B[38;5;28mself\u001B[39m, train_dataset: Dataset, validation_dataset: Dataset \u001B[38;5;241m=\u001B[39m \u001B[38;5;28;01mNone\u001B[39;00m) \u001B[38;5;241m-\u001B[39m\u001B[38;5;241m>\u001B[39m \u001B[38;5;124m'\u001B[39m\u001B[38;5;124mPipeline\u001B[39m\u001B[38;5;124m'\u001B[39m:\n\u001B[1;32m     98\u001B[0m     \u001B[38;5;124;03m\"\"\"\u001B[39;00m\n\u001B[1;32m     99\u001B[0m \u001B[38;5;124;03m    Fit the pipeline to the train data.\u001B[39;00m\n\u001B[1;32m    100\u001B[0m \n\u001B[0;32m   (...)\u001B[0m\n\u001B[1;32m    111\u001B[0m \u001B[38;5;124;03m        Fitted pipeline.\u001B[39;00m\n\u001B[1;32m    112\u001B[0m \u001B[38;5;124;03m    \"\"\"\u001B[39;00m\n\u001B[0;32m--> 113\u001B[0m     \u001B[38;5;28;43mself\u001B[39;49m\u001B[38;5;241;43m.\u001B[39;49m\u001B[43m_fit\u001B[49m\u001B[43m(\u001B[49m\u001B[43mtrain_dataset\u001B[49m\u001B[43m,\u001B[49m\u001B[43m \u001B[49m\u001B[43mvalidation_dataset\u001B[49m\u001B[43m)\u001B[49m\n\u001B[1;32m    114\u001B[0m     \u001B[38;5;28;01mreturn\u001B[39;00m \u001B[38;5;28mself\u001B[39m\n",
      "File \u001B[0;32m~/anaconda3/envs/sm_precursor_predictor/lib/python3.9/site-packages/deepmol/pipeline/pipeline.py:138\u001B[0m, in \u001B[0;36mPipeline._fit\u001B[0;34m(self, train_dataset, validation_dataset)\u001B[0m\n\u001B[1;32m    136\u001B[0m     \u001B[38;5;28;01mfor\u001B[39;00m name, transformer \u001B[38;5;129;01min\u001B[39;00m \u001B[38;5;28mself\u001B[39m\u001B[38;5;241m.\u001B[39msteps[:\u001B[38;5;241m-\u001B[39m\u001B[38;5;241m1\u001B[39m]:\n\u001B[1;32m    137\u001B[0m         train_dataset \u001B[38;5;241m=\u001B[39m transformer\u001B[38;5;241m.\u001B[39mfit_transform(train_dataset)\n\u001B[0;32m--> 138\u001B[0m     \u001B[38;5;28;43mself\u001B[39;49m\u001B[38;5;241;43m.\u001B[39;49m\u001B[43msteps\u001B[49m\u001B[43m[\u001B[49m\u001B[38;5;241;43m-\u001B[39;49m\u001B[38;5;241;43m1\u001B[39;49m\u001B[43m]\u001B[49m\u001B[43m[\u001B[49m\u001B[38;5;241;43m1\u001B[39;49m\u001B[43m]\u001B[49m\u001B[38;5;241;43m.\u001B[39;49m\u001B[43mfit\u001B[49m\u001B[43m(\u001B[49m\u001B[43mtrain_dataset\u001B[49m\u001B[43m)\u001B[49m\n\u001B[1;32m    139\u001B[0m \u001B[38;5;28;01melse\u001B[39;00m:\n\u001B[1;32m    140\u001B[0m     \u001B[38;5;28;01mfor\u001B[39;00m name, transformer \u001B[38;5;129;01min\u001B[39;00m \u001B[38;5;28mself\u001B[39m\u001B[38;5;241m.\u001B[39msteps:\n",
      "File \u001B[0;32m~/anaconda3/envs/sm_precursor_predictor/lib/python3.9/site-packages/deepmol/base/predictor.py:74\u001B[0m, in \u001B[0;36mPredictor.fit\u001B[0;34m(self, dataset)\u001B[0m\n\u001B[1;32m     60\u001B[0m \u001B[38;5;28;01mdef\u001B[39;00m \u001B[38;5;21mfit\u001B[39m(\u001B[38;5;28mself\u001B[39m, dataset: Dataset) \u001B[38;5;241m-\u001B[39m\u001B[38;5;241m>\u001B[39m \u001B[38;5;124m'\u001B[39m\u001B[38;5;124mPredictor\u001B[39m\u001B[38;5;124m'\u001B[39m:\n\u001B[1;32m     61\u001B[0m     \u001B[38;5;124;03m\"\"\"\u001B[39;00m\n\u001B[1;32m     62\u001B[0m \u001B[38;5;124;03m    Fits a model on data in a Dataset object.\u001B[39;00m\n\u001B[1;32m     63\u001B[0m \n\u001B[0;32m   (...)\u001B[0m\n\u001B[1;32m     72\u001B[0m \u001B[38;5;124;03m        self\u001B[39;00m\n\u001B[1;32m     73\u001B[0m \u001B[38;5;124;03m    \"\"\"\u001B[39;00m\n\u001B[0;32m---> 74\u001B[0m     \u001B[38;5;28;43mself\u001B[39;49m\u001B[38;5;241;43m.\u001B[39;49m\u001B[43m_fit\u001B[49m\u001B[43m(\u001B[49m\u001B[43mdataset\u001B[49m\u001B[43m)\u001B[49m\n\u001B[1;32m     75\u001B[0m     \u001B[38;5;28mself\u001B[39m\u001B[38;5;241m.\u001B[39m_is_fitted \u001B[38;5;241m=\u001B[39m \u001B[38;5;28;01mTrue\u001B[39;00m\n\u001B[1;32m     76\u001B[0m     \u001B[38;5;28;01mreturn\u001B[39;00m \u001B[38;5;28mself\u001B[39m\n",
      "File \u001B[0;32m~/anaconda3/envs/sm_precursor_predictor/lib/python3.9/site-packages/deepmol/models/sklearn_models.py:89\u001B[0m, in \u001B[0;36mSklearnModel._fit\u001B[0;34m(self, dataset)\u001B[0m\n\u001B[1;32m     87\u001B[0m features \u001B[38;5;241m=\u001B[39m dataset\u001B[38;5;241m.\u001B[39mX\n\u001B[1;32m     88\u001B[0m y \u001B[38;5;241m=\u001B[39m np\u001B[38;5;241m.\u001B[39msqueeze(dataset\u001B[38;5;241m.\u001B[39my)\n\u001B[0;32m---> 89\u001B[0m \u001B[38;5;28;01mreturn\u001B[39;00m \u001B[38;5;28;43mself\u001B[39;49m\u001B[38;5;241;43m.\u001B[39;49m\u001B[43mmodel\u001B[49m\u001B[38;5;241;43m.\u001B[39;49m\u001B[43mfit\u001B[49m\u001B[43m(\u001B[49m\u001B[43mfeatures\u001B[49m\u001B[43m,\u001B[49m\u001B[43m \u001B[49m\u001B[43my\u001B[49m\u001B[43m)\u001B[49m\n",
      "\u001B[0;31mTypeError\u001B[0m: fit() missing 1 required positional argument: 'y'"
     ]
    }
   ],
   "source": [
    "from deepmol.pipeline_optimization import PipelineOptimization\n",
    "from deepmol.metrics import Metric\n",
    "\n",
    "po = PipelineOptimization(direction='maximize', study_name='test_predictor_pipeline')\n",
    "def f1_score_macro(y_true, y_pred):\n",
    "    return f1_score(y_true, y_pred, average='macro')\n",
    "metric = Metric(f1_score_macro)\n",
    "\n",
    "po.optimize(train_dataset=train, test_dataset=test, objective_steps=objective,\n",
    "            metric=metric, n_trials=10, save_top_n=2)"
   ],
   "metadata": {
    "collapsed": false,
    "ExecuteTime": {
     "end_time": "2023-07-03T17:23:03.290150406Z",
     "start_time": "2023-07-03T17:23:01.272995549Z"
    }
   }
  },
  {
   "cell_type": "code",
   "execution_count": 10,
   "metadata": {},
   "outputs": [
    {
     "data": {
      "text/plain": [
       "({'f1_score_macro': 0.6312369289383678},\n",
       " {'f1_score_macro': [0.9427942794279429,\n",
       "   0.9131830732678354,\n",
       "   0.9213231476674331,\n",
       "   0.9014936247723133,\n",
       "   0.8611893815808986,\n",
       "   0.8394648829431439,\n",
       "   0.9006720905553591,\n",
       "   0.7346938775510203,\n",
       "   1.0,\n",
       "   0.4926829268292683,\n",
       "   0.6701902748414377,\n",
       "   0.8275290215588722,\n",
       "   0.8317152103559871,\n",
       "   0.6821731748726656,\n",
       "   0.4951456310679612,\n",
       "   0.8768064439706231,\n",
       "   0.7287742683280208,\n",
       "   0.8723613156602849,\n",
       "   0.8733766233766234,\n",
       "   0.7832831673998611]})"
      ]
     },
     "execution_count": 10,
     "metadata": {},
     "output_type": "execute_result"
    }
   ],
   "source": [
    "pipeline.evaluate(test, metrics=[Metric(f1_score_macro)], per_task_metrics=True)"
   ]
  },
  {
   "cell_type": "code",
   "execution_count": 12,
   "metadata": {
    "ExecuteTime": {
     "end_time": "2023-07-03T16:05:35.574393893Z",
     "start_time": "2023-07-03T16:05:31.478540623Z"
    }
   },
   "outputs": [
    {
     "name": "stderr",
     "output_type": "stream",
     "text": [
      "\u001B[32m[I 2023-07-03 17:26:05,848]\u001B[0m A new study created in RDB with name: test_pipeline\u001B[0m\n",
      "\u001B[32m[I 2023-07-03 17:26:05,938]\u001B[0m Trial 0 finished with value: -inf and parameters: {'1D_featurizer': 'layered', 'fpSize': 2048, 'minPath': 3, 'maxPath': 5, 'feature_selector': 'select_from_model_fs', 'n_estimators': 799}. Best is trial 0 with value: -inf.\u001B[0m\n",
      "\u001B[32m[I 2023-07-03 17:26:05,995]\u001B[0m Trial 1 finished with value: -inf and parameters: {'1D_featurizer': 'morgan', 'radius': 6, 'n_bits': 1024, 'feature_selector': 'pass_through_transformer'}. Best is trial 0 with value: -inf.\u001B[0m\n",
      "\u001B[32m[I 2023-07-03 17:26:06,036]\u001B[0m Trial 2 finished with value: -inf and parameters: {'1D_featurizer': 'maccs', 'feature_selector': 'pass_through_transformer'}. Best is trial 0 with value: -inf.\u001B[0m\n"
     ]
    },
    {
     "name": "stdout",
     "output_type": "stream",
     "text": [
      "['classification', 'classification', 'classification', 'classification', 'classification', 'classification', 'classification', 'classification', 'classification', 'classification', 'classification', 'classification', 'classification', 'classification', 'classification', 'classification', 'classification', 'classification', 'classification', 'classification']\n",
      "Unknown task type: ['classification', 'classification', 'classification', 'classification', 'classification', 'classification', 'classification', 'classification', 'classification', 'classification', 'classification', 'classification', 'classification', 'classification', 'classification', 'classification', 'classification', 'classification', 'classification', 'classification']\n",
      "['classification', 'classification', 'classification', 'classification', 'classification', 'classification', 'classification', 'classification', 'classification', 'classification', 'classification', 'classification', 'classification', 'classification', 'classification', 'classification', 'classification', 'classification', 'classification', 'classification']\n",
      "Unknown task type: ['classification', 'classification', 'classification', 'classification', 'classification', 'classification', 'classification', 'classification', 'classification', 'classification', 'classification', 'classification', 'classification', 'classification', 'classification', 'classification', 'classification', 'classification', 'classification', 'classification']\n",
      "['classification', 'classification', 'classification', 'classification', 'classification', 'classification', 'classification', 'classification', 'classification', 'classification', 'classification', 'classification', 'classification', 'classification', 'classification', 'classification', 'classification', 'classification', 'classification', 'classification']\n",
      "Unknown task type: ['classification', 'classification', 'classification', 'classification', 'classification', 'classification', 'classification', 'classification', 'classification', 'classification', 'classification', 'classification', 'classification', 'classification', 'classification', 'classification', 'classification', 'classification', 'classification', 'classification']\n",
      "['classification', 'classification', 'classification', 'classification', 'classification', 'classification', 'classification', 'classification', 'classification', 'classification', 'classification', 'classification', 'classification', 'classification', 'classification', 'classification', 'classification', 'classification', 'classification', 'classification']\n"
     ]
    },
    {
     "name": "stderr",
     "output_type": "stream",
     "text": [
      "\u001B[32m[I 2023-07-03 17:26:06,106]\u001B[0m Trial 3 finished with value: -inf and parameters: {'1D_featurizer': 'morgan', 'radius': 4, 'n_bits': 2048, 'feature_selector': 'percentil_fs', 'percentile': 40}. Best is trial 0 with value: -inf.\u001B[0m\n",
      "\u001B[32m[I 2023-07-03 17:26:06,174]\u001B[0m Trial 4 finished with value: -inf and parameters: {'1D_featurizer': 'morgan', 'radius': 2, 'n_bits': 2048, 'feature_selector': 'boruta_algorithm', 'support_weak': False}. Best is trial 0 with value: -inf.\u001B[0m\n",
      "\u001B[32m[I 2023-07-03 17:26:06,233]\u001B[0m Trial 5 finished with value: -inf and parameters: {'1D_featurizer': 'mixed', 'f1': '2d_descriptors', 'f2': 'rdk', 'feature_selector': 'pass_through_transformer'}. Best is trial 0 with value: -inf.\u001B[0m\n"
     ]
    },
    {
     "name": "stdout",
     "output_type": "stream",
     "text": [
      "Unknown task type: ['classification', 'classification', 'classification', 'classification', 'classification', 'classification', 'classification', 'classification', 'classification', 'classification', 'classification', 'classification', 'classification', 'classification', 'classification', 'classification', 'classification', 'classification', 'classification', 'classification']\n",
      "['classification', 'classification', 'classification', 'classification', 'classification', 'classification', 'classification', 'classification', 'classification', 'classification', 'classification', 'classification', 'classification', 'classification', 'classification', 'classification', 'classification', 'classification', 'classification', 'classification']\n",
      "Unknown task type: ['classification', 'classification', 'classification', 'classification', 'classification', 'classification', 'classification', 'classification', 'classification', 'classification', 'classification', 'classification', 'classification', 'classification', 'classification', 'classification', 'classification', 'classification', 'classification', 'classification']\n",
      "['classification', 'classification', 'classification', 'classification', 'classification', 'classification', 'classification', 'classification', 'classification', 'classification', 'classification', 'classification', 'classification', 'classification', 'classification', 'classification', 'classification', 'classification', 'classification', 'classification']\n",
      "Unknown task type: ['classification', 'classification', 'classification', 'classification', 'classification', 'classification', 'classification', 'classification', 'classification', 'classification', 'classification', 'classification', 'classification', 'classification', 'classification', 'classification', 'classification', 'classification', 'classification', 'classification']\n",
      "['classification', 'classification', 'classification', 'classification', 'classification', 'classification', 'classification', 'classification', 'classification', 'classification', 'classification', 'classification', 'classification', 'classification', 'classification', 'classification', 'classification', 'classification', 'classification', 'classification']\n"
     ]
    },
    {
     "name": "stderr",
     "output_type": "stream",
     "text": [
      "\u001B[32m[I 2023-07-03 17:26:06,311]\u001B[0m Trial 6 finished with value: -inf and parameters: {'1D_featurizer': 'atom_pair', 'nBits': 1024, 'minLength': 1, 'maxLength': 20, 'feature_selector': 'percentil_fs', 'percentile': 92}. Best is trial 0 with value: -inf.\u001B[0m\n",
      "\u001B[32m[I 2023-07-03 17:26:06,396]\u001B[0m Trial 7 finished with value: -inf and parameters: {'1D_featurizer': 'layered', 'fpSize': 1024, 'minPath': 2, 'maxPath': 9, 'feature_selector': 'percentil_fs', 'percentile': 40}. Best is trial 0 with value: -inf.\u001B[0m\n",
      "\u001B[32m[I 2023-07-03 17:26:06,479]\u001B[0m Trial 8 finished with value: -inf and parameters: {'1D_featurizer': 'atom_pair', 'nBits': 1024, 'minLength': 3, 'maxLength': 20, 'feature_selector': 'boruta_algorithm', 'support_weak': True}. Best is trial 0 with value: -inf.\u001B[0m\n"
     ]
    },
    {
     "name": "stdout",
     "output_type": "stream",
     "text": [
      "Unknown task type: ['classification', 'classification', 'classification', 'classification', 'classification', 'classification', 'classification', 'classification', 'classification', 'classification', 'classification', 'classification', 'classification', 'classification', 'classification', 'classification', 'classification', 'classification', 'classification', 'classification']\n",
      "['classification', 'classification', 'classification', 'classification', 'classification', 'classification', 'classification', 'classification', 'classification', 'classification', 'classification', 'classification', 'classification', 'classification', 'classification', 'classification', 'classification', 'classification', 'classification', 'classification']\n",
      "Unknown task type: ['classification', 'classification', 'classification', 'classification', 'classification', 'classification', 'classification', 'classification', 'classification', 'classification', 'classification', 'classification', 'classification', 'classification', 'classification', 'classification', 'classification', 'classification', 'classification', 'classification']\n",
      "['classification', 'classification', 'classification', 'classification', 'classification', 'classification', 'classification', 'classification', 'classification', 'classification', 'classification', 'classification', 'classification', 'classification', 'classification', 'classification', 'classification', 'classification', 'classification', 'classification']\n",
      "Unknown task type: ['classification', 'classification', 'classification', 'classification', 'classification', 'classification', 'classification', 'classification', 'classification', 'classification', 'classification', 'classification', 'classification', 'classification', 'classification', 'classification', 'classification', 'classification', 'classification', 'classification']\n",
      "['classification', 'classification', 'classification', 'classification', 'classification', 'classification', 'classification', 'classification', 'classification', 'classification', 'classification', 'classification', 'classification', 'classification', 'classification', 'classification', 'classification', 'classification', 'classification', 'classification']\n"
     ]
    },
    {
     "name": "stderr",
     "output_type": "stream",
     "text": [
      "\u001B[32m[I 2023-07-03 17:26:06,570]\u001B[0m Trial 9 finished with value: -inf and parameters: {'1D_featurizer': 'atom_pair', 'nBits': 1024, 'minLength': 3, 'maxLength': 20, 'feature_selector': 'k_best', 'k': 21}. Best is trial 0 with value: -inf.\u001B[0m\n"
     ]
    },
    {
     "name": "stdout",
     "output_type": "stream",
     "text": [
      "Unknown task type: ['classification', 'classification', 'classification', 'classification', 'classification', 'classification', 'classification', 'classification', 'classification', 'classification', 'classification', 'classification', 'classification', 'classification', 'classification', 'classification', 'classification', 'classification', 'classification', 'classification']\n"
     ]
    }
   ],
   "source": [
    "from sklearn.metrics import f1_score\n",
    "from deepmol.metrics import Metric\n",
    "from deepmol.pipeline_optimization import PipelineOptimization\n",
    "\n",
    "po = PipelineOptimization(direction='maximize', study_name='test_pipeline', storage='sqlite:///test_pipeline.db')\n",
    "metric = Metric(f1_score_macro)\n",
    "\n",
    "po.optimize(train_dataset=train, test_dataset=test, objective_steps='sklearn',\n",
    "            metric=metric, n_trials=10, data=train, save_top_n=2)"
   ]
  }
 ],
 "metadata": {
  "kernelspec": {
   "display_name": "Python 3 (ipykernel)",
   "language": "python",
   "name": "python3"
  },
  "language_info": {
   "codemirror_mode": {
    "name": "ipython",
    "version": 3
   },
   "file_extension": ".py",
   "mimetype": "text/x-python",
   "name": "python",
   "nbconvert_exporter": "python",
   "pygments_lexer": "ipython3",
   "version": "3.9.16"
  }
 },
 "nbformat": 4,
 "nbformat_minor": 1
}
