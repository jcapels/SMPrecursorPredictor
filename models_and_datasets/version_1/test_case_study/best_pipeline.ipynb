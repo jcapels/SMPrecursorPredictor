{
 "cells": [
  {
   "cell_type": "code",
   "execution_count": 26,
   "metadata": {},
   "outputs": [],
   "source": [
    "from rdkit import Chem\n",
    "from rdkit.Chem import MolToSmiles\n",
    "\n",
    "reader1 = Chem.SmilesMolSupplier(\"../compounds_to_test/LOTUS_DB.smi\", delimiter=\"\\t\")\n",
    "mols = [mol for mol in reader1]\n",
    "ids = [mol.GetProp(\"_Name\") for mol in mols]\n",
    "smiles=[MolToSmiles(mol) for mol in mols]"
   ]
  },
  {
   "cell_type": "code",
   "execution_count": 2,
   "metadata": {},
   "outputs": [
    {
     "name": "stderr",
     "output_type": "stream",
     "text": [
      "2023-07-16 13:33:09.552176: I tensorflow/core/util/port.cc:110] oneDNN custom operations are on. You may see slightly different numerical results due to floating-point round-off errors from different computation orders. To turn them off, set the environment variable `TF_ENABLE_ONEDNN_OPTS=0`.\n",
      "2023-07-16 13:33:09.554836: I tensorflow/tsl/cuda/cudart_stub.cc:28] Could not find cuda drivers on your machine, GPU will not be used.\n",
      "2023-07-16 13:33:09.606574: I tensorflow/tsl/cuda/cudart_stub.cc:28] Could not find cuda drivers on your machine, GPU will not be used.\n",
      "2023-07-16 13:33:09.607363: I tensorflow/core/platform/cpu_feature_guard.cc:182] This TensorFlow binary is optimized to use available CPU instructions in performance-critical operations.\n",
      "To enable the following instructions: AVX2 AVX512F AVX512_VNNI FMA, in other operations, rebuild TensorFlow with the appropriate compiler flags.\n",
      "2023-07-16 13:33:10.271784: W tensorflow/compiler/tf2tensorrt/utils/py_utils.cc:38] TF-TRT Warning: Could not find TensorRT\n",
      "Skipped loading modules with pytorch-lightning dependency, missing a dependency. No module named 'pytorch_lightning'\n",
      "Skipped loading some Jax models, missing a dependency. jax requires jaxlib to be installed. See https://github.com/google/jax#installation for installation instructions.\n",
      "[13:33:12] Initializing Normalizer\n",
      "/home/jcapela/miniconda3/envs/sm_precursors/lib/python3.8/site-packages/deepmol/compound_featurization/__init__.py:20: UserWarning: Mol2Vec not available. Please install it to use it. (pip install git+https://github.com/samoturk/mol2vec#egg=mol2vec)\n",
      "  warnings.warn(\"Mol2Vec not available. Please install it to use it. \"\n"
     ]
    }
   ],
   "source": [
    "from deepmol.pipeline import Pipeline\n",
    "\n",
    "best_pipeline = Pipeline.load(\"sm_predictor_pipeline_tpe/trial_485\")"
   ]
  },
  {
   "cell_type": "code",
   "execution_count": 3,
   "metadata": {},
   "outputs": [
    {
     "name": "stderr",
     "output_type": "stream",
     "text": [
      " 98%|█████████▊| 270000/276517 [10:52<00:15, 412.90it/s]"
     ]
    }
   ],
   "source": [
    "from tqdm import tqdm\n",
    "bar = tqdm(total=len(smiles))\n",
    "\n",
    "import numpy as np\n",
    "from deepmol.datasets import SmilesDataset\n",
    "\n",
    "predictions = []\n",
    "last_i = 0\n",
    "\n",
    "import rdkit.rdBase as rkrb\n",
    "import rdkit.RDLogger as rkl\n",
    "logger = rkl.logger()\n",
    "logger.setLevel(rkl.ERROR)\n",
    "rkrb.DisableLog('rdApp.error')\n",
    "\n",
    "for i in range(10000, len(smiles), 10000):\n",
    "    lotus_dataset = SmilesDataset(smiles=smiles[last_i:i], mols=mols[last_i:i], ids=ids[last_i:i])\n",
    "    prediction = best_pipeline.predict(lotus_dataset)\n",
    "    if i == 10000:\n",
    "        predictions = prediction\n",
    "    else:\n",
    "        predictions = np.concatenate((predictions, prediction))\n",
    "\n",
    "    last_i += 10000\n",
    "    bar.update(10000)\n",
    "\n",
    "\n",
    "lotus_dataset = SmilesDataset(smiles=smiles[last_i:], mols=mols[last_i:], ids=ids[last_i:])\n",
    "prediction = best_pipeline.predict(lotus_dataset)\n",
    "predictions = np.concatenate((predictions, prediction))"
   ]
  },
  {
   "cell_type": "code",
   "execution_count": 5,
   "metadata": {},
   "outputs": [],
   "source": [
    "lotus_dataset = SmilesDataset(smiles=smiles[last_i:], mols=mols[last_i:], ids=ids[last_i:])\n",
    "prediction = best_pipeline.predict(lotus_dataset)\n",
    "predictions = np.concatenate((predictions, prediction))"
   ]
  },
  {
   "cell_type": "code",
   "execution_count": 6,
   "metadata": {},
   "outputs": [
    {
     "data": {
      "text/plain": [
       "(276517, 20)"
      ]
     },
     "execution_count": 6,
     "metadata": {},
     "output_type": "execute_result"
    }
   ],
   "source": [
    "predictions.shape"
   ]
  },
  {
   "cell_type": "code",
   "execution_count": 7,
   "metadata": {},
   "outputs": [],
   "source": [
    "import pickle\n",
    "\n",
    "# open a file, where you ant to store the data\n",
    "file = open('predictions.pkl', 'wb')\n",
    "\n",
    "# dump information to that file\n",
    "pickle.dump(predictions, file)\n",
    "\n",
    "# close the file\n",
    "file.close()"
   ]
  },
  {
   "cell_type": "code",
   "execution_count": 1,
   "metadata": {
    "ExecuteTime": {
     "end_time": "2023-08-23T11:06:57.309552869Z",
     "start_time": "2023-08-23T11:06:57.253694316Z"
    }
   },
   "outputs": [],
   "source": [
    "import pickle\n",
    "\n",
    "# read pickle \n",
    "file = open('predictions.pkl', 'rb')\n",
    "predictions = pickle.load(file)\n",
    "file.close()"
   ]
  },
  {
   "cell_type": "code",
   "execution_count": 28,
   "metadata": {},
   "outputs": [
    {
     "data": {
      "text/plain": [
       "array(['L-Methionine', 'Tryptophan', 'L-Phenylalanine', 'L-Tyrosine',\n",
       "       'Dimethylallyl diphosphate', 'Geranyl diphosphate',\n",
       "       'Geranylgeranyl diphosphate', 'Farnesyl diphosphate',\n",
       "       'Campesterol', 'Indoleglycerol phosphate', 'L-Lysine',\n",
       "       'Anthranilate', 'Cholesterol', 'L-Proline', 'L-Alanine',\n",
       "       'Isopentenyl diphosphate', 'L-Arginine', 'Secologanin',\n",
       "       'L-Aspartate', 'L-Histidine'], dtype='<U26')"
      ]
     },
     "execution_count": 28,
     "metadata": {},
     "output_type": "execute_result"
    }
   ],
   "source": [
    "import numpy as np\n",
    "labels = np.array(['C00073', 'C00078', 'C00079', 'C00082', 'C00235', 'C00341',\n",
    "                                       'C00353', 'C00448', 'C01789', 'C03506',\n",
    "                                       'C00047', 'C00108', 'C00187', 'C00148', 'C00041',\n",
    "                                       'C00129', 'C00062', 'C01852', 'C00049', 'C00135'])\n",
    "\n",
    "labels_ = {\n",
    "    'C00341': 'Geranyl diphosphate',\n",
    "    'C01789': 'Campesterol',\n",
    "    'C00078': 'Tryptophan',\n",
    "    'C00049': 'L-Aspartate',\n",
    "    'C00183': 'L-Valine',\n",
    "    'C03506': 'Indoleglycerol phosphate',\n",
    "    'C00187': 'Cholesterol',\n",
    "    'C00079': 'L-Phenylalanine',\n",
    "    'C00047': 'L-Lysine',\n",
    "    'C01852': 'Secologanin',\n",
    "    'C00407': 'L-Isoleucine',\n",
    "    'C00129': 'Isopentenyl diphosphate',\n",
    "    'C00235': 'Dimethylallyl diphosphate',\n",
    "    'C00062': 'L-Arginine',\n",
    "    'C00353': 'Geranylgeranyl diphosphate',\n",
    "    'C00148': 'L-Proline',\n",
    "    'C00073': 'L-Methionine',\n",
    "    'C00108': 'Anthranilate',\n",
    "    'C00123': 'L-Leucine',\n",
    "    'C00135': 'L-Histidine',\n",
    "    'C00448': 'Farnesyl diphosphate',\n",
    "    'C00082': 'L-Tyrosine',\n",
    "    'C00041': 'L-Alanine'\n",
    "}\n",
    "\n",
    "labels_names = np.array([labels_[label] for label in labels])\n",
    "labels_names"
   ]
  },
  {
   "cell_type": "code",
   "execution_count": 29,
   "metadata": {},
   "outputs": [],
   "source": [
    "ones = predictions == 1\n",
    "labels_all = []\n",
    "for i, prediction in enumerate(ones):\n",
    "    labels_all.append(\";\".join(labels_names[prediction]))"
   ]
  },
  {
   "cell_type": "code",
   "execution_count": 39,
   "metadata": {},
   "outputs": [
    {
     "data": {
      "image/png": "[encoded data removed]",
      "text/plain": [
       "<rdkit.Chem.rdchem.Mol at 0x7fed4a749510>"
      ]
     },
     "execution_count": 39,
     "metadata": {},
     "output_type": "execute_result"
    }
   ],
   "source": [
    "mols[200]"
   ]
  },
  {
   "cell_type": "code",
   "execution_count": 40,
   "metadata": {},
   "outputs": [
    {
     "data": {
      "text/plain": [
       "'LTS0118310'"
      ]
     },
     "execution_count": 40,
     "metadata": {},
     "output_type": "execute_result"
    }
   ],
   "source": [
    "ids[200]"
   ]
  },
  {
   "cell_type": "code",
   "execution_count": 38,
   "metadata": {},
   "outputs": [
    {
     "data": {
      "text/plain": [
       "'Anthranilate'"
      ]
     },
     "execution_count": 38,
     "metadata": {},
     "output_type": "execute_result"
    }
   ],
   "source": [
    "labels_all[200]"
   ]
  },
  {
   "cell_type": "code",
   "execution_count": 41,
   "metadata": {},
   "outputs": [],
   "source": [
    "import pandas as pd\n",
    "\n",
    "df = pd.DataFrame({\"ID\": ids, \"SMILES\": smiles, \"Precursors\": labels_all})"
   ]
  },
  {
   "cell_type": "code",
   "execution_count": 44,
   "metadata": {},
   "outputs": [],
   "source": [
    "df.to_csv(\"LOTUSDB_predictions.csv\", index=False)"
   ]
  }
 ],
 "metadata": {
  "kernelspec": {
   "display_name": "sm_precursors",
   "language": "python",
   "name": "python3"
  },
  "language_info": {
   "codemirror_mode": {
    "name": "ipython",
    "version": 3
   },
   "file_extension": ".py",
   "mimetype": "text/x-python",
   "name": "python",
   "nbconvert_exporter": "python",
   "pygments_lexer": "ipython3",
   "version": "3.8.17"
  },
  "orig_nbformat": 4
 },
 "nbformat": 4,
 "nbformat_minor": 2
}
