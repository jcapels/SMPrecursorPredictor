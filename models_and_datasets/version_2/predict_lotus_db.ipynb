{
 "cells": [
  {
   "cell_type": "code",
   "execution_count": null,
   "id": "initial_id",
   "metadata": {
    "collapsed": true
   },
   "outputs": [],
   "source": []
  },
  {
   "cell_type": "code",
   "execution_count": 1,
   "outputs": [],
   "source": [
    "import pandas as pd\n",
    "\n",
    "plants_db = pd.read_csv(\"LOTUSDB_predictions_plants.csv\")"
   ],
   "metadata": {
    "collapsed": false,
    "ExecuteTime": {
     "end_time": "2023-09-11T14:15:11.548657059Z",
     "start_time": "2023-09-11T14:15:11.284375523Z"
    }
   },
   "id": "2d90eab16fab89ba"
  },
  {
   "cell_type": "code",
   "execution_count": 2,
   "outputs": [
    {
     "name": "stderr",
     "output_type": "stream",
     "text": [
      "2023-09-11 15:15:17.697673: I tensorflow/core/platform/cpu_feature_guard.cc:182] This TensorFlow binary is optimized to use available CPU instructions in performance-critical operations.\n",
      "To enable the following instructions: AVX2 FMA, in other operations, rebuild TensorFlow with the appropriate compiler flags.\n",
      "2023-09-11 15:15:18.492209: W tensorflow/compiler/tf2tensorrt/utils/py_utils.cc:38] TF-TRT Warning: Could not find TensorRT\n",
      "Skipped loading modules with pytorch-lightning dependency, missing a dependency. No module named 'pytorch_lightning'\n",
      "Skipped loading some Jax models, missing a dependency. jax requires jaxlib to be installed. See https://github.com/google/jax#installation for installation instructions.\n",
      "100%|█████████▉| 190000/190273 [07:20<00:00, 428.56it/s]"
     ]
    }
   ],
   "source": [
    "from deepmol.pipeline import Pipeline\n",
    "from deepmol.datasets import SmilesDataset\n",
    "from tqdm import tqdm\n",
    "import rdkit.rdBase as rkrb\n",
    "import rdkit.RDLogger as rkl\n",
    "\n",
    "import numpy as np\n",
    "\n",
    "logger = rkl.logger()\n",
    "logger.setLevel(rkl.ERROR)\n",
    "rkrb.DisableLog('rdApp.error')\n",
    "\n",
    "smiles = plants_db.SMILES\n",
    "ids = plants_db.ID\n",
    "\n",
    "predictions = []\n",
    "last_i = 0\n",
    "\n",
    "best_pipeline = Pipeline.load(\"sm_predictor_pipeline_motpe/trial_311\")\n",
    "\n",
    "bar = tqdm(total=len(smiles))\n",
    "for i in range(10000, len(smiles), 10000):\n",
    "    lotus_dataset = SmilesDataset(smiles=smiles[last_i:i], ids=ids[last_i:i])\n",
    "    prediction = best_pipeline.predict(lotus_dataset)\n",
    "    if i == 10000:\n",
    "        predictions = prediction\n",
    "    else:\n",
    "        predictions = np.concatenate((predictions, prediction))\n",
    "\n",
    "    last_i += 10000\n",
    "    bar.update(10000)\n",
    "\n",
    "\n",
    "lotus_dataset = SmilesDataset(smiles=smiles[last_i:], ids=ids[last_i:])\n",
    "prediction = best_pipeline.predict(lotus_dataset)\n",
    "predictions = np.concatenate((predictions, prediction))"
   ],
   "metadata": {
    "collapsed": false,
    "ExecuteTime": {
     "end_time": "2023-09-11T14:22:43.157276149Z",
     "start_time": "2023-09-11T14:15:16.970955524Z"
    }
   },
   "id": "370a88e2f47e44d8"
  },
  {
   "cell_type": "code",
   "execution_count": 4,
   "outputs": [
    {
     "data": {
      "text/plain": "array(['L-Methionine', 'Tryptophan', 'L-Phenylalanine', 'L-Tyrosine',\n       'Dimethylallyl diphosphate', 'Geranyl diphosphate',\n       'Geranylgeranyl diphosphate', 'Farnesyl diphosphate',\n       'Campesterol', 'Indoleglycerol phosphate', 'L-Lysine',\n       'Anthranilate', 'Cholesterol', 'L-Proline', 'L-Alanine',\n       'Isopentenyl diphosphate', 'L-Arginine', 'Secologanin',\n       'L-Aspartate', 'L-Histidine', 'p-Coumaroyl-CoA', 'Naringenin',\n       'Cinnamoyl-CoA', 'Apigenin', 'Kaempferol', 'Pelargonin',\n       'Cyanidin', 'Delphinidin', 'Liquiritigenin'], dtype='<U26')"
     },
     "execution_count": 4,
     "metadata": {},
     "output_type": "execute_result"
    }
   ],
   "source": [
    "labels = np.array(['C00073', 'C00078', 'C00079', 'C00082', 'C00235', 'C00341', 'C00353',\n",
    "       'C00448', 'C01789', 'C03506', 'C00047', 'C00108', 'C00187', 'C00148',\n",
    "       'C00041', 'C00129', 'C00062', 'C01852', 'C00049', 'C00135', 'C00223',\n",
    "       'C00509', 'C00540', 'C01477', 'C05903', 'C05904', 'C05905', 'C05908',\n",
    "       'C09762'])\n",
    "\n",
    "labels_ = {\n",
    "    'C00341': 'Geranyl diphosphate',\n",
    "    'C01789': 'Campesterol',\n",
    "    'C00078': 'Tryptophan',\n",
    "    'C00049': 'L-Aspartate',\n",
    "    'C00183': 'L-Valine',\n",
    "    'C03506': 'Indoleglycerol phosphate',\n",
    "    'C00187': 'Cholesterol',\n",
    "    'C00079': 'L-Phenylalanine',\n",
    "    'C00047': 'L-Lysine',\n",
    "    'C01852': 'Secologanin',\n",
    "    'C00407': 'L-Isoleucine',\n",
    "    'C00129': 'Isopentenyl diphosphate',\n",
    "    'C00235': 'Dimethylallyl diphosphate',\n",
    "    'C00062': 'L-Arginine',\n",
    "    'C00353': 'Geranylgeranyl diphosphate',\n",
    "    'C00148': 'L-Proline',\n",
    "    'C00073': 'L-Methionine',\n",
    "    'C00108': 'Anthranilate',\n",
    "    'C00123': 'L-Leucine',\n",
    "    'C00135': 'L-Histidine',\n",
    "    'C00448': 'Farnesyl diphosphate',\n",
    "    'C00082': 'L-Tyrosine',\n",
    "    'C00041': 'L-Alanine',\n",
    "    'C00540': 'Cinnamoyl-CoA',\n",
    "    'C01477': 'Apigenin',\n",
    "    'C05903': 'Kaempferol',\n",
    "    'C05904': 'Pelargonin',\n",
    "    'C05905': 'Cyanidin',\n",
    "    'C05908': 'Delphinidin',\n",
    "    'C00389': 'Quercetin',\n",
    "    'C01514': 'Luteolin',\n",
    "    'C09762': \"Liquiritigenin\",\n",
    "    'C00509': 'Naringenin',\n",
    "    'C00223': 'p-Coumaroyl-CoA'\n",
    "}\n",
    "\n",
    "labels_names = np.array([labels_[label] for label in labels])\n",
    "labels_names"
   ],
   "metadata": {
    "collapsed": false,
    "ExecuteTime": {
     "end_time": "2023-09-11T14:28:39.914892203Z",
     "start_time": "2023-09-11T14:28:39.907879917Z"
    }
   },
   "id": "254b3014f66c96c9"
  },
  {
   "cell_type": "code",
   "execution_count": 5,
   "outputs": [],
   "source": [
    "ones = predictions == 1\n",
    "labels_all = []\n",
    "for i, prediction in enumerate(ones):\n",
    "    labels_all.append(\";\".join(labels_names[prediction]))"
   ],
   "metadata": {
    "collapsed": false,
    "ExecuteTime": {
     "end_time": "2023-09-11T14:28:45.289580953Z",
     "start_time": "2023-09-11T14:28:44.975481421Z"
    }
   },
   "id": "6aee83a42701c796"
  },
  {
   "cell_type": "code",
   "execution_count": 6,
   "outputs": [],
   "source": [
    "plants_db[\"prediction version 2\"] = labels_all"
   ],
   "metadata": {
    "collapsed": false,
    "ExecuteTime": {
     "end_time": "2023-09-11T14:28:52.284196629Z",
     "start_time": "2023-09-11T14:28:52.272882602Z"
    }
   },
   "id": "f9d9debaa841f72b"
  },
  {
   "cell_type": "code",
   "execution_count": 8,
   "outputs": [],
   "source": [
    "plants_db.to_csv(\"LOTUSDB_predictions_plants_version_2.csv\", index=False)"
   ],
   "metadata": {
    "collapsed": false,
    "ExecuteTime": {
     "end_time": "2023-09-11T14:32:26.582230449Z",
     "start_time": "2023-09-11T14:32:26.130574090Z"
    }
   },
   "id": "3bff32065e10d1ef"
  },
  {
   "cell_type": "markdown",
   "source": [],
   "metadata": {
    "collapsed": false
   },
   "id": "477ae99a2657bf23"
  }
 ],
 "metadata": {
  "kernelspec": {
   "display_name": "Python 3",
   "language": "python",
   "name": "python3"
  },
  "language_info": {
   "codemirror_mode": {
    "name": "ipython",
    "version": 2
   },
   "file_extension": ".py",
   "mimetype": "text/x-python",
   "name": "python",
   "nbconvert_exporter": "python",
   "pygments_lexer": "ipython2",
   "version": "2.7.6"
  }
 },
 "nbformat": 4,
 "nbformat_minor": 5
}
