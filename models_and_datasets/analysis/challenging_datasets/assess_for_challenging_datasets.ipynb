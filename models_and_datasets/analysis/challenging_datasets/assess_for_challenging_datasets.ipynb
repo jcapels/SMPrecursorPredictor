{
 "cells": [
  {
   "cell_type": "code",
   "execution_count": null,
   "metadata": {},
   "outputs": [],
   "source": []
  },
  {
   "cell_type": "code",
   "execution_count": 1,
   "metadata": {},
   "outputs": [
    {
     "name": "stderr",
     "output_type": "stream",
     "text": [
      "2024-03-08 11:02:04.239444: I tensorflow/tsl/cuda/cudart_stub.cc:28] Could not find cuda drivers on your machine, GPU will not be used.\n",
      "2024-03-08 11:02:04.284198: E tensorflow/compiler/xla/stream_executor/cuda/cuda_dnn.cc:9342] Unable to register cuDNN factory: Attempting to register factory for plugin cuDNN when one has already been registered\n",
      "2024-03-08 11:02:04.284247: E tensorflow/compiler/xla/stream_executor/cuda/cuda_fft.cc:609] Unable to register cuFFT factory: Attempting to register factory for plugin cuFFT when one has already been registered\n",
      "2024-03-08 11:02:04.284280: E tensorflow/compiler/xla/stream_executor/cuda/cuda_blas.cc:1518] Unable to register cuBLAS factory: Attempting to register factory for plugin cuBLAS when one has already been registered\n",
      "2024-03-08 11:02:04.292712: I tensorflow/tsl/cuda/cudart_stub.cc:28] Could not find cuda drivers on your machine, GPU will not be used.\n",
      "2024-03-08 11:02:04.293383: I tensorflow/core/platform/cpu_feature_guard.cc:182] This TensorFlow binary is optimized to use available CPU instructions in performance-critical operations.\n",
      "To enable the following instructions: AVX2 AVX512F FMA, in other operations, rebuild TensorFlow with the appropriate compiler flags.\n",
      "2024-03-08 11:02:05.124947: W tensorflow/compiler/tf2tensorrt/utils/py_utils.cc:38] TF-TRT Warning: Could not find TensorRT\n",
      "Skipped loading modules with pytorch-lightning dependency, missing a dependency. No module named 'pytorch_lightning'\n",
      "Skipped loading some Jax models, missing a dependency. No module named 'jax'\n",
      "/home/jcapela/miniforge3/envs/sm_precursor_predictor/lib/python3.10/site-packages/deepmol/compound_featurization/__init__.py:20: UserWarning: Mol2Vec not available. Please install it to use it. (pip install git+https://github.com/samoturk/mol2vec#egg=mol2vec)\n",
      "  warnings.warn(\"Mol2Vec not available. Please install it to use it. \"\n",
      "[11:02:08] Initializing Normalizer\n"
     ]
    }
   ],
   "source": [
    "from deepmol.pipeline import Pipeline\n",
    "\n",
    "from deepmol.scalers import StandardScaler\n",
    "from sklearn.ensemble import RandomForestClassifier, RandomForestRegressor\n",
    "from deepmol.models import SklearnModel\n",
    "from deepmol.compound_featurization import MorganFingerprint, TwoDimensionDescriptors, LayeredFingerprint\n",
    "from deepmol.standardizer import ChEMBLStandardizer\n",
    "from sklearn.linear_model import RidgeClassifier\n",
    "from sklearn.neighbors import KNeighborsClassifier\n",
    "from sklearn.neural_network import MLPClassifier\n",
    "\n",
    "steps = [\n",
    "         ('morgan fingerprints', MorganFingerprint(radius=2, size=1024, n_jobs=10)),\n",
    "         ('random forest', SklearnModel(model=RidgeClassifier(random_state=42)))\n",
    "         ]\n",
    "pipeline_morgan_fp = Pipeline(steps=steps, path=\"morgan_fp\")\n",
    "\n",
    "pipeline_layered_fingerprints_baseline_ridge_classifier = Pipeline(steps=[('layered fingerprints', LayeredFingerprint()),\n",
    "                                                                           ('ridge classifier', SklearnModel(model=RidgeClassifier(random_state=42)))])\n",
    "\n"
   ]
  },
  {
   "cell_type": "code",
   "execution_count": 2,
   "metadata": {},
   "outputs": [
    {
     "name": "stdout",
     "output_type": "stream",
     "text": [
      "2024-03-08 11:02:08,546 — INFO — Assuming multitask since y has more than one dimension. If otherwise, explicitly set the mode to 'classification' or 'regression'!\n"
     ]
    }
   ],
   "source": [
    "from deepmol.loaders import CSVLoader\n",
    "import numpy as np\n",
    "\n",
    "train = CSVLoader(\"training_set_overlapping.csv\",\n",
    "                        labels_fields=['C00073', 'C00078', 'C00079', 'C00082', 'C00235', 'C00341', 'C00353',\n",
    "                                        'C00448', 'C01789', 'C03506', 'C00047', 'C00108', 'C00187', 'C00148',\n",
    "                                        'C00041', 'C00129', 'C00062', 'C01852', 'C00049', 'C00135', 'C00223',\n",
    "                                        'C00509', 'C00540', 'C01477', 'C05903', 'C05904', 'C05905', 'C05908',\n",
    "                                        'C09762'],\n",
    "                        id_field=\"ids\", smiles_field=\"smiles\").create_dataset()\n",
    "\n",
    "for column in range(train.y.shape[1]):\n",
    "    if len(np.unique(train.y[:, column])) == 1:\n",
    "        print(column)"
   ]
  },
  {
   "cell_type": "code",
   "execution_count": 3,
   "metadata": {},
   "outputs": [],
   "source": [
    "from deepmol.loaders import CSVLoader\n",
    "import numpy as np\n",
    "\n",
    "\n",
    "def fit_and_evaluate(pipeline):\n",
    "    train = CSVLoader(\"training_set_overlapping.csv\",\n",
    "                        labels_fields=['C00073', 'C00078', 'C00079', 'C00082', 'C00235', 'C00341', 'C00353',\n",
    "                                        'C00448', 'C01789', 'C03506', 'C00047', 'C00108', 'C00187', 'C00148',\n",
    "                                        'C00041', 'C00129', 'C00062', 'C01852', 'C00049', 'C00135', 'C00223',\n",
    "                                        'C00509', 'C00540', 'C01477', 'C05903', 'C05904', 'C05905', 'C05908',\n",
    "                                        'C09762'],\n",
    "                        id_field=\"ids\", smiles_field=\"smiles\").create_dataset()\n",
    "    test = CSVLoader(\"overlapping_test_set.csv\",\n",
    "                        labels_fields=['C00073', 'C00078', 'C00079', 'C00082', 'C00235', 'C00341', 'C00353',\n",
    "                                        'C00448', 'C01789', 'C03506', 'C00047', 'C00108', 'C00187', 'C00148',\n",
    "                                        'C00041', 'C00129', 'C00062', 'C01852', 'C00049', 'C00135', 'C00223',\n",
    "                                        'C00509', 'C00540', 'C01477', 'C05903', 'C05904', 'C05905', 'C05908',\n",
    "                                        'C09762'],\n",
    "                        id_field=\"ids\", smiles_field=\"smiles\").create_dataset()\n",
    "\n",
    "    pipeline.fit(train)\n",
    "    from sklearn.metrics import f1_score, precision_score, recall_score\n",
    "    from deepmol.metrics import Metric\n",
    "    \n",
    "    columns_to_remove = []\n",
    "    for i in range(test.y.shape[1]):\n",
    "        if np.sum(test.y[:, i]) == 0:\n",
    "            columns_to_remove.append(i)\n",
    "    \n",
    "\n",
    "    predictions = pipeline.predict(test)\n",
    "    f1_scores = []\n",
    "    recall_scores = []\n",
    "    precision_scores = []\n",
    "    test = pipeline.transform(test)\n",
    "\n",
    "    y_true = test.y\n",
    "    y_true = np.delete(y_true, columns_to_remove, axis=1)\n",
    "    y_pred = predictions\n",
    "    y_pred = np.delete(y_pred, columns_to_remove, axis=1)\n",
    "\n",
    "    for i in range(y_pred.shape[1]):\n",
    "        f1_score_task = f1_score(y_true[:, i], y_pred[:, i])\n",
    "        recall_score_task = recall_score(y_true[:, i], y_pred[:, i])\n",
    "        precision_score_task = precision_score(y_true[:, i], y_pred[:, i])\n",
    "        f1_scores.append(f1_score_task)\n",
    "        recall_scores.append(recall_score_task)\n",
    "        precision_scores.append(precision_score_task)\n",
    "    \n",
    "    results_test = [{}]\n",
    "    results_test[0]['f1_scores_std'] = np.array(f1_scores).std()\n",
    "    results_test[0]['recall_scores_std'] = np.array(recall_scores).std()\n",
    "    results_test[0]['precision_scores_std'] = np.array(precision_scores).std()\n",
    "    results_test[0]['macro_f1_score'] = np.array(f1_scores).mean()\n",
    "    results_test[0]['macro_recall_score'] = np.array(recall_scores).mean()\n",
    "    results_test[0]['macro_precision_score'] = np.array(precision_scores).mean()\n",
    "\n",
    "    return results_test"
   ]
  },
  {
   "cell_type": "code",
   "execution_count": 4,
   "metadata": {},
   "outputs": [
    {
     "name": "stdout",
     "output_type": "stream",
     "text": [
      "Morgan FP\n",
      "2024-03-08 11:02:08,796 — INFO — Assuming multitask since y has more than one dimension. If otherwise, explicitly set the mode to 'classification' or 'regression'!\n",
      "2024-03-08 11:02:08,833 — INFO — Assuming multitask since y has more than one dimension. If otherwise, explicitly set the mode to 'classification' or 'regression'!\n"
     ]
    },
    {
     "name": "stderr",
     "output_type": "stream",
     "text": [
      "/home/jcapela/miniforge3/envs/sm_precursor_predictor/lib/python3.10/site-packages/sklearn/metrics/_classification.py:1344: UndefinedMetricWarning: Precision is ill-defined and being set to 0.0 due to no predicted samples. Use `zero_division` parameter to control this behavior.\n",
      "  _warn_prf(average, modifier, msg_start, len(result))\n",
      "/home/jcapela/miniforge3/envs/sm_precursor_predictor/lib/python3.10/site-packages/sklearn/metrics/_classification.py:1344: UndefinedMetricWarning: Precision is ill-defined and being set to 0.0 due to no predicted samples. Use `zero_division` parameter to control this behavior.\n",
      "  _warn_prf(average, modifier, msg_start, len(result))\n",
      "/home/jcapela/miniforge3/envs/sm_precursor_predictor/lib/python3.10/site-packages/sklearn/metrics/_classification.py:1344: UndefinedMetricWarning: Precision is ill-defined and being set to 0.0 due to no predicted samples. Use `zero_division` parameter to control this behavior.\n",
      "  _warn_prf(average, modifier, msg_start, len(result))\n"
     ]
    },
    {
     "name": "stdout",
     "output_type": "stream",
     "text": [
      "Layered FP and Ridge Classifier\n",
      "2024-03-08 11:02:11,184 — INFO — Assuming multitask since y has more than one dimension. If otherwise, explicitly set the mode to 'classification' or 'regression'!\n",
      "2024-03-08 11:02:11,219 — INFO — Assuming multitask since y has more than one dimension. If otherwise, explicitly set the mode to 'classification' or 'regression'!\n"
     ]
    },
    {
     "name": "stderr",
     "output_type": "stream",
     "text": [
      "/home/jcapela/miniforge3/envs/sm_precursor_predictor/lib/python3.10/site-packages/sklearn/metrics/_classification.py:1344: UndefinedMetricWarning: Precision is ill-defined and being set to 0.0 due to no predicted samples. Use `zero_division` parameter to control this behavior.\n",
      "  _warn_prf(average, modifier, msg_start, len(result))\n",
      "/home/jcapela/miniforge3/envs/sm_precursor_predictor/lib/python3.10/site-packages/sklearn/metrics/_classification.py:1344: UndefinedMetricWarning: Precision is ill-defined and being set to 0.0 due to no predicted samples. Use `zero_division` parameter to control this behavior.\n",
      "  _warn_prf(average, modifier, msg_start, len(result))\n",
      "/home/jcapela/miniforge3/envs/sm_precursor_predictor/lib/python3.10/site-packages/sklearn/metrics/_classification.py:1344: UndefinedMetricWarning: Precision is ill-defined and being set to 0.0 due to no predicted samples. Use `zero_division` parameter to control this behavior.\n",
      "  _warn_prf(average, modifier, msg_start, len(result))\n"
     ]
    },
    {
     "name": "stdout",
     "output_type": "stream",
     "text": [
      "Layered FP and Ridge Classifier (optimized)\n",
      "2024-03-08 11:02:16,585 — INFO — Assuming multitask since y has more than one dimension. If otherwise, explicitly set the mode to 'classification' or 'regression'!\n",
      "2024-03-08 11:02:16,617 — INFO — Assuming multitask since y has more than one dimension. If otherwise, explicitly set the mode to 'classification' or 'regression'!\n"
     ]
    },
    {
     "name": "stderr",
     "output_type": "stream",
     "text": [
      "/home/jcapela/miniforge3/envs/sm_precursor_predictor/lib/python3.10/site-packages/sklearn/metrics/_classification.py:1344: UndefinedMetricWarning: Precision is ill-defined and being set to 0.0 due to no predicted samples. Use `zero_division` parameter to control this behavior.\n",
      "  _warn_prf(average, modifier, msg_start, len(result))\n",
      "/home/jcapela/miniforge3/envs/sm_precursor_predictor/lib/python3.10/site-packages/sklearn/metrics/_classification.py:1344: UndefinedMetricWarning: Precision is ill-defined and being set to 0.0 due to no predicted samples. Use `zero_division` parameter to control this behavior.\n",
      "  _warn_prf(average, modifier, msg_start, len(result))\n",
      "/home/jcapela/miniforge3/envs/sm_precursor_predictor/lib/python3.10/site-packages/sklearn/metrics/_classification.py:1344: UndefinedMetricWarning: Precision is ill-defined and being set to 0.0 due to no predicted samples. Use `zero_division` parameter to control this behavior.\n",
      "  _warn_prf(average, modifier, msg_start, len(result))\n",
      "/home/jcapela/miniforge3/envs/sm_precursor_predictor/lib/python3.10/site-packages/sklearn/metrics/_classification.py:1344: UndefinedMetricWarning: Precision is ill-defined and being set to 0.0 due to no predicted samples. Use `zero_division` parameter to control this behavior.\n",
      "  _warn_prf(average, modifier, msg_start, len(result))\n",
      "/home/jcapela/miniforge3/envs/sm_precursor_predictor/lib/python3.10/site-packages/sklearn/metrics/_classification.py:1344: UndefinedMetricWarning: Precision is ill-defined and being set to 0.0 due to no predicted samples. Use `zero_division` parameter to control this behavior.\n",
      "  _warn_prf(average, modifier, msg_start, len(result))\n"
     ]
    }
   ],
   "source": [
    "from deepmol.pipeline import Pipeline\n",
    "\n",
    "pipeline_285 = Pipeline.load('../sm_predictor_pipeline_tpe_sklearn/trial_285')\n",
    "\n",
    "print(\"Morgan FP\")\n",
    "results_pipeline_morgan_fp = fit_and_evaluate(pipeline_morgan_fp)\n",
    "print(\"Layered FP and Ridge Classifier\")\n",
    "results_pipeline_layered_fingerprints_baseline_ridge_classifier = fit_and_evaluate(pipeline_layered_fingerprints_baseline_ridge_classifier)\n",
    "print(\"Layered FP and Ridge Classifier (optimized)\")\n",
    "results_pipeline_285 = fit_and_evaluate(pipeline_285)"
   ]
  },
  {
   "cell_type": "code",
   "execution_count": 5,
   "metadata": {},
   "outputs": [],
   "source": [
    "color_map = {'Layered FP + Low Variance FS + Ridge Classifier': (0.00392156862745098,\n",
    "  0.45098039215686275,\n",
    "  0.6980392156862745),\n",
    " 'Layered FP + Ridge Classifier': (0.8705882352941177, 0.5607843137254902, 0.0196078431372549),\n",
    " 'Morgan FP + Ridge Classifier': (0.00784313725490196, 0.6196078431372549, 0.45098039215686275),\n",
    " 'Morgan FP + MLP': (0.8352941176470589, 0.3686274509803922, 0.0),\n",
    " 'MGCNN (Eguchi et al. 2019)': (0.8, 0.47058823529411764, 0.7372549019607844),\n",
    " 'Morgan FP + Random Forest': (0.792156862745098, 0.5686274509803921, 0.3803921568627451),\n",
    " 'Morgan FP + KNN': (0.984313725490196, 0.6862745098039216, 0.8941176470588236),\n",
    " 'Descriptors + Random Forest': (0.5803921568627451, 0.5803921568627451, 0.5803921568627451) }"
   ]
  },
  {
   "cell_type": "code",
   "execution_count": 6,
   "metadata": {},
   "outputs": [
    {
     "data": {
      "text/plain": [
       "[0.5437646410917689, 0.605084860230209, 0.5949724735961437]"
      ]
     },
     "execution_count": 6,
     "metadata": {},
     "output_type": "execute_result"
    }
   ],
   "source": [
    "import pandas as pd\n",
    "\n",
    "results_mgcnn = pd.read_csv(\"results_overlapping.csv\")\n",
    "results_mgcnn.fillna(0, inplace=True)\n",
    "pipeline_mgcnn_results = [results_mgcnn[\"f1_score\"].mean(), results_mgcnn[\"precision\"].mean(), results_mgcnn[\"recall\"].mean()]\n",
    "pipeline_mgcnn_results"
   ]
  },
  {
   "cell_type": "code",
   "execution_count": 7,
   "metadata": {},
   "outputs": [
    {
     "data": {
      "image/png": "[encoded data removed]",
      "text/plain": [
       "<Figure size 1000x600 with 1 Axes>"
      ]
     },
     "metadata": {},
     "output_type": "display_data"
    }
   ],
   "source": [
    "# plot the results of the three pipelines\n",
    "import matplotlib.pyplot as plt\n",
    "import numpy as np\n",
    "\n",
    "labels = ['macro_f1_score', 'macro_precision_score', 'macro_recall_score']\n",
    "pipeline_285_results = [results_pipeline_285[0]['macro_f1_score'], results_pipeline_285[0]['macro_precision_score'], results_pipeline_285[0]['macro_recall_score']]\n",
    "pipeline_morgan_fp_results = [results_pipeline_morgan_fp[0]['macro_f1_score'], results_pipeline_morgan_fp[0]['macro_precision_score'], results_pipeline_morgan_fp[0]['macro_recall_score']]\n",
    "pipeline_layered_fingerprints_baseline_ridge_classifier_results = [results_pipeline_layered_fingerprints_baseline_ridge_classifier[0]['macro_f1_score'], results_pipeline_layered_fingerprints_baseline_ridge_classifier[0]['macro_precision_score'], results_pipeline_layered_fingerprints_baseline_ridge_classifier[0]['macro_recall_score']]\n",
    "\n",
    "pipeline_285_std = [results_pipeline_285[0]['f1_scores_std'], results_pipeline_285[0]['precision_scores_std'], results_pipeline_285[0]['recall_scores_std']]\n",
    "pipeline_morgan_fp_std = [results_pipeline_morgan_fp[0]['f1_scores_std'], results_pipeline_morgan_fp[0]['precision_scores_std'], results_pipeline_morgan_fp[0]['recall_scores_std']]\n",
    "pipeline_layered_fingerprints_baseline_ridge_classifier_std = [results_pipeline_layered_fingerprints_baseline_ridge_classifier[0]['f1_scores_std'], results_pipeline_layered_fingerprints_baseline_ridge_classifier[0]['precision_scores_std'], results_pipeline_layered_fingerprints_baseline_ridge_classifier[0]['recall_scores_std']]\n",
    "\n",
    "import pandas as pd\n",
    "import seaborn as sns\n",
    "import matplotlib.pyplot as plt\n",
    "import matplotlib\n",
    "\n",
    "matplotlib.rcParams['savefig.transparent'] = True\n",
    "# Sample data setup (replace with your actual data)\n",
    "# Assuming you have your pipeline results as separate lists like before\n",
    "# Here's how you might structure them into a DataFrame:\n",
    "\n",
    "data = {\n",
    "    \"Label\": labels * 4,  # Repeat 'labels' for each pipeline\n",
    "    \"Scores\": np.concatenate([\n",
    "        pipeline_285_results,\n",
    "        pipeline_layered_fingerprints_baseline_ridge_classifier_results,\n",
    "        pipeline_morgan_fp_results,\n",
    "        pipeline_mgcnn_results,\n",
    "    ]),\n",
    "    \"Pipeline\": (\n",
    "        [\"Layered FP + Low Variance FS + Ridge Classifier\"] * len(labels) +\n",
    "        [\"Layered FP + Ridge Classifier\"] * len(labels) +\n",
    "        [\"Morgan FP + Ridge Classifier\"] * len(labels) +\n",
    "        [\"MGCNN (Eguchi et al. 2019)\"] * len(labels)\n",
    "    )\n",
    "}\n",
    "\n",
    "df = pd.DataFrame(data)\n",
    "#df.sort_values(by=\"Scores\", ascending=False, inplace=True)  # Sort by scores for better visualization\n",
    "\n",
    "# Plotting\n",
    "plt.figure(figsize=(10, 6))  # Adjust the figure size as needed\n",
    "barplot = sns.barplot(data=df, x=\"Label\", y=\"Scores\", hue=\"Pipeline\", dodge=True, palette=color_map, legend=False)\n",
    "\n",
    "# for i, p in enumerate(barplot.patches):\n",
    "#     # Calculate annotation text position\n",
    "#     if p.get_height() != 0:\n",
    "        # x = p.get_x() + p.get_width() / 2\n",
    "        # # Get the corresponding standard deviation from the DataFrame\n",
    "        # std = df.loc[i % len(df), 'STD']  # Adjust index for std\n",
    "        # # Add error bar for this bar using plt.errorbar\n",
    "        # plt.errorbar(x, p.get_height(), yerr=std, fmt='none', capsize=5, color='black')\n",
    "\n",
    "        # barplot.annotate(format(p.get_height(), '.3f'),  # Text to display\n",
    "        #                 (p.get_x() + p.get_width() / 2., p.get_height() + 0.05),  # Position\n",
    "        #                 ha='center', va='center',  # Center alignment\n",
    "        #                 xytext=(0, 9),  # Distance from the top of the bar\n",
    "        #                 textcoords='offset points',\n",
    "        #                 rotation=90)  # Text rotation (90 degrees)\n",
    "\n",
    "plt.title('Scores by pipeline for the overlapping dataset', pad=20, size=25)  # Adjust title position\n",
    "plt.ylabel('Scores', labelpad=10, size=25)  # Adjust y-axis label position\n",
    "plt.xlabel('', labelpad=10, size=25)\n",
    "# define other names for the ticks\n",
    "plt.xticks([0, 1, 2], ['mF1', 'mPrecision', 'mRecall'], size=25)\n",
    "\n",
    "#plt.legend(title='Pipeline', bbox_to_anchor=(1.05, 1), loc='upper left')\n",
    "plt.ylim(0, 1)\n",
    "plt.yticks([0, 0.1, 0.2, 0.3, 0.4, 0.5, 0.6, 0.7, 0.8, 0.9, 1.0], size=20)\n",
    "\n",
    "plt.tight_layout()  # Adjust layout\n",
    "plt.savefig(\"overlapping_dataset_results.png\", dpi=400)"
   ]
  },
  {
   "cell_type": "code",
   "execution_count": 27,
   "metadata": {},
   "outputs": [],
   "source": [
    "from deepmol.loaders import CSVLoader\n",
    "import numpy as np\n",
    "\n",
    "\n",
    "def fit_and_evaluate(pipeline, pipeline_name):\n",
    "    train = CSVLoader(\"training_set_overlapping.csv\",\n",
    "                        labels_fields=['C00073', 'C00078', 'C00079', 'C00082', 'C00235', 'C00341', 'C00353',\n",
    "                                        'C00448', 'C01789', 'C03506', 'C00047', 'C00108', 'C00187', 'C00148',\n",
    "                                        'C00041', 'C00129', 'C00062', 'C01852', 'C00049', 'C00135', 'C00223',\n",
    "                                        'C00509', 'C00540', 'C01477', 'C05903', 'C05904', 'C05905', 'C05908',\n",
    "                                        'C09762'],\n",
    "                        id_field=\"ids\", smiles_field=\"smiles\").create_dataset()\n",
    "    test = CSVLoader(\"overlapping_test_set.csv\",\n",
    "                        labels_fields=['C00073', 'C00078', 'C00079', 'C00082', 'C00235', 'C00341', 'C00353',\n",
    "                                        'C00448', 'C01789', 'C03506', 'C00047', 'C00108', 'C00187', 'C00148',\n",
    "                                        'C00041', 'C00129', 'C00062', 'C01852', 'C00049', 'C00135', 'C00223',\n",
    "                                        'C00509', 'C00540', 'C01477', 'C05903', 'C05904', 'C05905', 'C05908',\n",
    "                                        'C09762'],\n",
    "                        id_field=\"ids\", smiles_field=\"smiles\").create_dataset()\n",
    "\n",
    "    pipeline.fit(train)\n",
    "    from sklearn.metrics import f1_score, precision_score, recall_score\n",
    "    from deepmol.metrics import Metric\n",
    "    \n",
    "    columns_to_remove = []\n",
    "    for i in range(test.y.shape[1]):\n",
    "        if np.sum(test.y[:, i]) == 0:\n",
    "            columns_to_remove.append(i)\n",
    "    \n",
    "\n",
    "    predictions = pipeline.predict(test)\n",
    "    f1_scores = []\n",
    "    recall_scores = []\n",
    "    precision_scores = []\n",
    "    test = pipeline.transform(test)\n",
    "\n",
    "    y_true = test.y\n",
    "    y_true = np.delete(y_true, columns_to_remove, axis=1)\n",
    "    y_pred = predictions\n",
    "    y_pred = np.delete(y_pred, columns_to_remove, axis=1)\n",
    "    tasks = []\n",
    "    for i in range(y_pred.shape[1]):\n",
    "        f1_score_task = f1_score(y_true[:, i], y_pred[:, i])\n",
    "        recall_score_task = recall_score(y_true[:, i], y_pred[:, i])\n",
    "        precision_score_task = precision_score(y_true[:, i], y_pred[:, i])\n",
    "        f1_scores.append(f1_score_task)\n",
    "        recall_scores.append(recall_score_task)\n",
    "        precision_scores.append(precision_score_task)\n",
    "        tasks.append(i)\n",
    "    \n",
    "    results_test = pd.DataFrame({'task': tasks, 'f1_score': f1_scores, 'precision': precision_scores, 'recall': recall_scores, 'pipeline': [pipeline_name]*len(f1_scores)})\n",
    "\n",
    "    return results_test"
   ]
  },
  {
   "cell_type": "code",
   "execution_count": 28,
   "metadata": {},
   "outputs": [
    {
     "name": "stdout",
     "output_type": "stream",
     "text": [
      "Layered FP + Low Variance FS + Ridge Classifier\n",
      "2024-03-08 11:04:58,009 — INFO — Assuming multitask since y has more than one dimension. If otherwise, explicitly set the mode to 'classification' or 'regression'!\n",
      "2024-03-08 11:04:58,045 — INFO — Assuming multitask since y has more than one dimension. If otherwise, explicitly set the mode to 'classification' or 'regression'!\n"
     ]
    },
    {
     "name": "stderr",
     "output_type": "stream",
     "text": [
      "/home/jcapela/miniforge3/envs/sm_precursor_predictor/lib/python3.10/site-packages/sklearn/metrics/_classification.py:1344: UndefinedMetricWarning: Precision is ill-defined and being set to 0.0 due to no predicted samples. Use `zero_division` parameter to control this behavior.\n",
      "  _warn_prf(average, modifier, msg_start, len(result))\n",
      "/home/jcapela/miniforge3/envs/sm_precursor_predictor/lib/python3.10/site-packages/sklearn/metrics/_classification.py:1344: UndefinedMetricWarning: Precision is ill-defined and being set to 0.0 due to no predicted samples. Use `zero_division` parameter to control this behavior.\n",
      "  _warn_prf(average, modifier, msg_start, len(result))\n",
      "/home/jcapela/miniforge3/envs/sm_precursor_predictor/lib/python3.10/site-packages/sklearn/metrics/_classification.py:1344: UndefinedMetricWarning: Precision is ill-defined and being set to 0.0 due to no predicted samples. Use `zero_division` parameter to control this behavior.\n",
      "  _warn_prf(average, modifier, msg_start, len(result))\n"
     ]
    },
    {
     "name": "stdout",
     "output_type": "stream",
     "text": [
      "Layered FP + Ridge Classifier\n",
      "2024-03-08 11:05:05,722 — INFO — Assuming multitask since y has more than one dimension. If otherwise, explicitly set the mode to 'classification' or 'regression'!\n",
      "2024-03-08 11:05:05,757 — INFO — Assuming multitask since y has more than one dimension. If otherwise, explicitly set the mode to 'classification' or 'regression'!\n"
     ]
    },
    {
     "name": "stderr",
     "output_type": "stream",
     "text": [
      "/home/jcapela/miniforge3/envs/sm_precursor_predictor/lib/python3.10/site-packages/sklearn/metrics/_classification.py:1344: UndefinedMetricWarning: Precision is ill-defined and being set to 0.0 due to no predicted samples. Use `zero_division` parameter to control this behavior.\n",
      "  _warn_prf(average, modifier, msg_start, len(result))\n",
      "/home/jcapela/miniforge3/envs/sm_precursor_predictor/lib/python3.10/site-packages/sklearn/metrics/_classification.py:1344: UndefinedMetricWarning: Precision is ill-defined and being set to 0.0 due to no predicted samples. Use `zero_division` parameter to control this behavior.\n",
      "  _warn_prf(average, modifier, msg_start, len(result))\n",
      "/home/jcapela/miniforge3/envs/sm_precursor_predictor/lib/python3.10/site-packages/sklearn/metrics/_classification.py:1344: UndefinedMetricWarning: Precision is ill-defined and being set to 0.0 due to no predicted samples. Use `zero_division` parameter to control this behavior.\n",
      "  _warn_prf(average, modifier, msg_start, len(result))\n",
      "/home/jcapela/miniforge3/envs/sm_precursor_predictor/lib/python3.10/site-packages/sklearn/metrics/_classification.py:1344: UndefinedMetricWarning: Precision is ill-defined and being set to 0.0 due to no predicted samples. Use `zero_division` parameter to control this behavior.\n",
      "  _warn_prf(average, modifier, msg_start, len(result))\n",
      "/home/jcapela/miniforge3/envs/sm_precursor_predictor/lib/python3.10/site-packages/sklearn/metrics/_classification.py:1344: UndefinedMetricWarning: Precision is ill-defined and being set to 0.0 due to no predicted samples. Use `zero_division` parameter to control this behavior.\n",
      "  _warn_prf(average, modifier, msg_start, len(result))\n"
     ]
    },
    {
     "name": "stdout",
     "output_type": "stream",
     "text": [
      "Morgan FP + Ridge Classifier\n",
      "2024-03-08 11:05:13,139 — INFO — Assuming multitask since y has more than one dimension. If otherwise, explicitly set the mode to 'classification' or 'regression'!\n",
      "2024-03-08 11:05:13,171 — INFO — Assuming multitask since y has more than one dimension. If otherwise, explicitly set the mode to 'classification' or 'regression'!\n"
     ]
    },
    {
     "name": "stderr",
     "output_type": "stream",
     "text": [
      "/home/jcapela/miniforge3/envs/sm_precursor_predictor/lib/python3.10/site-packages/sklearn/metrics/_classification.py:1344: UndefinedMetricWarning: Precision is ill-defined and being set to 0.0 due to no predicted samples. Use `zero_division` parameter to control this behavior.\n",
      "  _warn_prf(average, modifier, msg_start, len(result))\n",
      "/home/jcapela/miniforge3/envs/sm_precursor_predictor/lib/python3.10/site-packages/sklearn/metrics/_classification.py:1344: UndefinedMetricWarning: Precision is ill-defined and being set to 0.0 due to no predicted samples. Use `zero_division` parameter to control this behavior.\n",
      "  _warn_prf(average, modifier, msg_start, len(result))\n",
      "/home/jcapela/miniforge3/envs/sm_precursor_predictor/lib/python3.10/site-packages/sklearn/metrics/_classification.py:1344: UndefinedMetricWarning: Precision is ill-defined and being set to 0.0 due to no predicted samples. Use `zero_division` parameter to control this behavior.\n",
      "  _warn_prf(average, modifier, msg_start, len(result))\n"
     ]
    }
   ],
   "source": [
    "pipeline_names = [\"Layered FP + Low Variance FS + Ridge Classifier\", \"Layered FP + Ridge Classifier\", \"Morgan FP + Ridge Classifier\", \"MGCNN (Eguchi et al. 2019)\"]\n",
    "\n",
    "import pandas as pd\n",
    "results = pd.DataFrame()\n",
    "for pipeline, name in zip([pipeline_layered_fingerprints_baseline_ridge_classifier, pipeline_285, pipeline_morgan_fp], pipeline_names):\n",
    "    print(name)\n",
    "    results_ = fit_and_evaluate(pipeline, name)\n",
    "    results = pd.concat([results, results_], axis=0)"
   ]
  },
  {
   "cell_type": "code",
   "execution_count": 29,
   "metadata": {},
   "outputs": [],
   "source": [
    "import pandas as pd\n",
    "\n",
    "results_mgcnn = pd.read_csv(\"results_overlapping.csv\")\n",
    "results_mgcnn.fillna(0, inplace=True)\n",
    "\n",
    "f1_scores = []\n",
    "precision_scores = []\n",
    "recall_scores = []\n",
    "tasks = []\n",
    "\n",
    "for i in range(results_mgcnn.shape[0]):\n",
    "    f1_scores.append(results_mgcnn[\"f1_score\"][i])\n",
    "    precision_scores.append(results_mgcnn[\"precision\"][i])\n",
    "    recall_scores.append(results_mgcnn[\"recall\"][i])\n",
    "    tasks.append(i)\n",
    "\n",
    "results_mgcnn = pd.DataFrame({'task': tasks, 'f1_score': f1_scores, 'precision': precision_scores, 'recall': recall_scores, 'pipeline': [\"MGCNN (Eguchi et al. 2019)\"]*len(f1_scores)})\n",
    "results = pd.concat([results, results_mgcnn], axis=0)"
   ]
  },
  {
   "cell_type": "code",
   "execution_count": 32,
   "metadata": {},
   "outputs": [
    {
     "name": "stdout",
     "output_type": "stream",
     "text": [
      "Layered FP + Low Variance FS + Ridge Classifier\n",
      "F1 score: (0.508585594504307, 0.41945053381029346)\n",
      "Precision: (0.6033113608669727, 0.45536050174497344)\n",
      "Recall: (0.48884273970710146, 0.4137837949821511)\n",
      "Layered FP + Ridge Classifier\n",
      "F1 score: (0.5120001327056052, 0.423045133782092)\n",
      "Precision: (0.6420921985815603, 0.4669320962183981)\n",
      "Recall: (0.48560951459887625, 0.42296369983124366)\n",
      "Morgan FP + Ridge Classifier\n",
      "F1 score: (0.5596574187231188, 0.3641630451044442)\n",
      "Precision: (0.7267246240601504, 0.40679499943455005)\n",
      "Recall: (0.4997693308464585, 0.3747488595550486)\n",
      "MGCNN (Eguchi et al. 2019)\n",
      "F1 score: (0.5437646410917689, 0.3551322083456117)\n",
      "Precision: (0.605084860230209, 0.4025649335323634)\n",
      "Recall: (0.5949724735961437, 0.3819275050668797)\n"
     ]
    }
   ],
   "source": [
    "pipeline_names = results['pipeline'].unique()\n",
    "for pipeline in pipeline_names:\n",
    "    print(pipeline)\n",
    "    print(\"F1 score:\", (results[results['pipeline'] == pipeline]['f1_score'].mean(), results[results['pipeline'] == pipeline]['f1_score'].std()))\n",
    "    print(\"Precision:\", (results[results['pipeline'] == pipeline]['precision'].mean(), results[results['pipeline'] == pipeline]['precision'].std()))\n",
    "    print(\"Recall:\", (results[results['pipeline'] == pipeline]['recall'].mean(), results[results['pipeline'] == pipeline]['recall'].std()))"
   ]
  },
  {
   "cell_type": "code",
   "execution_count": 12,
   "metadata": {},
   "outputs": [
    {
     "name": "stderr",
     "output_type": "stream",
     "text": [
      "/home/jcapela/miniforge3/envs/sm_precursor_predictor/lib/python3.10/site-packages/scipy/stats/_morestats.py:3145: UserWarning: Exact p-value calculation does not work if there are ties. Switching to normal approximation.\n",
      "  warnings.warn(\"Exact p-value calculation does not work if there are \"\n",
      "/home/jcapela/miniforge3/envs/sm_precursor_predictor/lib/python3.10/site-packages/scipy/stats/_morestats.py:3159: UserWarning: Sample size too small for normal approximation.\n",
      "  warnings.warn(\"Sample size too small for normal approximation.\")\n"
     ]
    }
   ],
   "source": [
    "import itertools\n",
    "import pandas as pd\n",
    "from scipy import stats\n",
    "\n",
    "# Assuming 'results' is your DataFrame containing the dataset\n",
    "pipeline_names = results['pipeline'].unique()\n",
    "significant_differences_f1 = []\n",
    "\n",
    "for pipeline1, pipeline2 in itertools.combinations(pipeline_names, 2):\n",
    "    f1_scores1 = results[(results['pipeline'] == pipeline1)]['f1_score']\n",
    "    f1_scores2 = results[(results['pipeline'] == pipeline2)]['f1_score']\n",
    "    \n",
    "    # Ensure both series have the same length for paired test\n",
    "    if len(f1_scores1) == len(f1_scores2):\n",
    "        stat, p_value = stats.wilcoxon(f1_scores1, f1_scores2)\n",
    "        if p_value < 0.05:\n",
    "            significant_differences_f1.append((pipeline1, pipeline2, p_value))\n",
    "\n",
    "# Print out the pairs of pipelines that have significantly different F1 scores\n",
    "for diff in significant_differences_f1:\n",
    "    print(f\"Significant difference between {diff[0]} and {diff[1]} with p-value {diff[2]}\")\n"
   ]
  },
  {
   "cell_type": "code",
   "execution_count": 13,
   "metadata": {},
   "outputs": [],
   "source": [
    "import itertools\n",
    "import pandas as pd\n",
    "from scipy import stats\n",
    "\n",
    "# Assuming 'results' is your DataFrame containing the dataset\n",
    "pipeline_names = results['pipeline'].unique()\n",
    "significant_differences_f1 = []\n",
    "\n",
    "for pipeline1, pipeline2 in itertools.combinations(pipeline_names, 2):\n",
    "    f1_scores1 = results[(results['pipeline'] == pipeline1)]['recall']\n",
    "    f1_scores2 = results[(results['pipeline'] == pipeline2)]['recall']\n",
    "    \n",
    "    # Ensure both series have the same length for paired test\n",
    "    if len(f1_scores1) == len(f1_scores2):\n",
    "        stat, p_value = stats.wilcoxon(f1_scores1, f1_scores2)\n",
    "        if p_value < 0.05:\n",
    "            significant_differences_f1.append((pipeline1, pipeline2, p_value))\n",
    "\n",
    "# Print out the pairs of pipelines that have significantly different F1 scores\n",
    "for diff in significant_differences_f1:\n",
    "    print(f\"Significant difference between {diff[0]} and {diff[1]} with p-value {diff[2]}\")\n"
   ]
  },
  {
   "cell_type": "code",
   "execution_count": 14,
   "metadata": {},
   "outputs": [
    {
     "name": "stdout",
     "output_type": "stream",
     "text": [
      "Significant difference between Layered FP + Low Variance FS + Ridge Classifier and Morgan FP + Ridge Classifier with p-value 0.0499499764547464\n"
     ]
    }
   ],
   "source": [
    "import itertools\n",
    "import pandas as pd\n",
    "from scipy import stats\n",
    "\n",
    "# Assuming 'results' is your DataFrame containing the dataset\n",
    "pipeline_names = results['pipeline'].unique()\n",
    "significant_differences_f1 = []\n",
    "\n",
    "for pipeline1, pipeline2 in itertools.combinations(pipeline_names, 2):\n",
    "    f1_scores1 = results[(results['pipeline'] == pipeline1)]['precision']\n",
    "    f1_scores2 = results[(results['pipeline'] == pipeline2)]['precision']\n",
    "    \n",
    "    # Ensure both series have the same length for paired test\n",
    "    if len(f1_scores1) == len(f1_scores2):\n",
    "        stat, p_value = stats.wilcoxon(f1_scores1, f1_scores2)\n",
    "        if p_value < 0.05:\n",
    "            significant_differences_f1.append((pipeline1, pipeline2, p_value))\n",
    "\n",
    "# Print out the pairs of pipelines that have significantly different F1 scores\n",
    "for diff in significant_differences_f1:\n",
    "    print(f\"Significant difference between {diff[0]} and {diff[1]} with p-value {diff[2]}\")\n"
   ]
  },
  {
   "cell_type": "markdown",
   "metadata": {},
   "source": [
    "# Clustering dataset"
   ]
  },
  {
   "cell_type": "code",
   "execution_count": 15,
   "metadata": {},
   "outputs": [
    {
     "name": "stdout",
     "output_type": "stream",
     "text": [
      "2024-03-08 11:02:39,304 — INFO — Assuming multitask since y has more than one dimension. If otherwise, explicitly set the mode to 'classification' or 'regression'!\n"
     ]
    }
   ],
   "source": [
    "from deepmol.loaders import CSVLoader\n",
    "import numpy as np\n",
    "\n",
    "train = CSVLoader(\"training_set_clustered.csv\",\n",
    "                        labels_fields=['C00073', 'C00078', 'C00079', 'C00082', 'C00235', 'C00341', 'C00353',\n",
    "                                        'C00448', 'C01789', 'C03506', 'C00047', 'C00108', 'C00187', 'C00148',\n",
    "                                        'C00041', 'C00129', 'C00062', 'C01852', 'C00049', 'C00135', 'C00223',\n",
    "                                        'C00509', 'C00540', 'C01477', 'C05903', 'C05904', 'C05905', 'C05908',\n",
    "                                        'C09762'],\n",
    "                        id_field=\"ids\", smiles_field=\"smiles\").create_dataset()\n",
    "\n",
    "for column in range(train.y.shape[1]):\n",
    "    if len(np.unique(train.y[:, column])) == 1:\n",
    "        print(train.label_names[column])"
   ]
  },
  {
   "cell_type": "code",
   "execution_count": 16,
   "metadata": {},
   "outputs": [],
   "source": [
    "from deepmol.loaders import CSVLoader\n",
    "import numpy as np\n",
    "\n",
    "\n",
    "def fit_and_evaluate(pipeline):\n",
    "    train = CSVLoader(\"training_set_clustered.csv\",\n",
    "                        labels_fields=['C00073', 'C00078', 'C00079', 'C00082', 'C00235', 'C00341', 'C00353',\n",
    "                                        'C00448', 'C01789', 'C03506', 'C00047', 'C00108', 'C00187', 'C00148',\n",
    "                                        'C00041', 'C00129', 'C00062', 'C01852', 'C00049', 'C00135', 'C00223',\n",
    "                                        'C00509', 'C00540', 'C01477', 'C05903', 'C05904', 'C05905', 'C05908',\n",
    "                                        'C09762'],\n",
    "                        id_field=\"ids\", smiles_field=\"smiles\").create_dataset()\n",
    "    test = CSVLoader(\"clustered_test_set.csv\",\n",
    "                        labels_fields=['C00073', 'C00078', 'C00079', 'C00082', 'C00235', 'C00341', 'C00353',\n",
    "                                        'C00448', 'C01789', 'C03506', 'C00047', 'C00108', 'C00187', 'C00148',\n",
    "                                        'C00041', 'C00129', 'C00062', 'C01852', 'C00049', 'C00135', 'C00223',\n",
    "                                        'C00509', 'C00540', 'C01477', 'C05903', 'C05904', 'C05905', 'C05908',\n",
    "                                        'C09762'],\n",
    "                        id_field=\"ids\", smiles_field=\"smiles\").create_dataset()\n",
    "\n",
    "    pipeline.fit(train)\n",
    "    from sklearn.metrics import f1_score, precision_score, recall_score\n",
    "    from deepmol.metrics import Metric\n",
    "    \n",
    "    columns_to_remove = []\n",
    "    for i in range(test.y.shape[1]):\n",
    "        if np.sum(test.y[:, i]) == 0:\n",
    "            columns_to_remove.append(i)\n",
    "    \n",
    "\n",
    "    predictions = pipeline.predict(test)\n",
    "    f1_scores = []\n",
    "    recall_scores = []\n",
    "    precision_scores = []\n",
    "    test = pipeline.transform(test)\n",
    "\n",
    "    y_true = test.y\n",
    "    y_true = np.delete(y_true, columns_to_remove, axis=1)\n",
    "    y_pred = predictions\n",
    "    y_pred = np.delete(y_pred, columns_to_remove, axis=1)\n",
    "\n",
    "    for i in range(y_pred.shape[1]):\n",
    "        f1_score_task = f1_score(y_true[:, i], y_pred[:, i])\n",
    "        recall_score_task = recall_score(y_true[:, i], y_pred[:, i])\n",
    "        precision_score_task = precision_score(y_true[:, i], y_pred[:, i])\n",
    "        f1_scores.append(f1_score_task)\n",
    "        recall_scores.append(recall_score_task)\n",
    "        precision_scores.append(precision_score_task)\n",
    "    \n",
    "    results_test = [{}]\n",
    "    results_test[0]['f1_scores_std'] = np.array(f1_scores).std()\n",
    "    results_test[0]['recall_scores_std'] = np.array(recall_scores).std()\n",
    "    results_test[0]['precision_scores_std'] = np.array(precision_scores).std()\n",
    "    results_test[0]['macro_f1_score'] = np.array(f1_scores).mean()\n",
    "    results_test[0]['macro_recall_score'] = np.array(recall_scores).mean()\n",
    "    results_test[0]['macro_precision_score'] = np.array(precision_scores).mean()\n",
    "\n",
    "    return results_test"
   ]
  },
  {
   "cell_type": "code",
   "execution_count": 17,
   "metadata": {},
   "outputs": [
    {
     "name": "stdout",
     "output_type": "stream",
     "text": [
      "Morgan FP\n",
      "2024-03-08 11:02:39,558 — INFO — Assuming multitask since y has more than one dimension. If otherwise, explicitly set the mode to 'classification' or 'regression'!\n",
      "2024-03-08 11:02:39,613 — INFO — Assuming multitask since y has more than one dimension. If otherwise, explicitly set the mode to 'classification' or 'regression'!\n"
     ]
    },
    {
     "name": "stderr",
     "output_type": "stream",
     "text": [
      "/home/jcapela/miniforge3/envs/sm_precursor_predictor/lib/python3.10/site-packages/sklearn/metrics/_classification.py:1344: UndefinedMetricWarning: Precision is ill-defined and being set to 0.0 due to no predicted samples. Use `zero_division` parameter to control this behavior.\n",
      "  _warn_prf(average, modifier, msg_start, len(result))\n"
     ]
    },
    {
     "name": "stdout",
     "output_type": "stream",
     "text": [
      "Layered FP and Ridge Classifier\n",
      "2024-03-08 11:02:41,865 — INFO — Assuming multitask since y has more than one dimension. If otherwise, explicitly set the mode to 'classification' or 'regression'!\n",
      "2024-03-08 11:02:41,917 — INFO — Assuming multitask since y has more than one dimension. If otherwise, explicitly set the mode to 'classification' or 'regression'!\n"
     ]
    },
    {
     "name": "stderr",
     "output_type": "stream",
     "text": [
      "/home/jcapela/miniforge3/envs/sm_precursor_predictor/lib/python3.10/site-packages/sklearn/metrics/_classification.py:1344: UndefinedMetricWarning: Precision is ill-defined and being set to 0.0 due to no predicted samples. Use `zero_division` parameter to control this behavior.\n",
      "  _warn_prf(average, modifier, msg_start, len(result))\n"
     ]
    },
    {
     "name": "stdout",
     "output_type": "stream",
     "text": [
      "Layered FP and Ridge Classifier (optimized)\n",
      "2024-03-08 11:02:48,602 — INFO — Assuming multitask since y has more than one dimension. If otherwise, explicitly set the mode to 'classification' or 'regression'!\n",
      "2024-03-08 11:02:48,658 — INFO — Assuming multitask since y has more than one dimension. If otherwise, explicitly set the mode to 'classification' or 'regression'!\n"
     ]
    },
    {
     "name": "stderr",
     "output_type": "stream",
     "text": [
      "/home/jcapela/miniforge3/envs/sm_precursor_predictor/lib/python3.10/site-packages/sklearn/metrics/_classification.py:1344: UndefinedMetricWarning: Precision is ill-defined and being set to 0.0 due to no predicted samples. Use `zero_division` parameter to control this behavior.\n",
      "  _warn_prf(average, modifier, msg_start, len(result))\n"
     ]
    }
   ],
   "source": [
    "from deepmol.pipeline import Pipeline\n",
    "\n",
    "pipeline_285 = Pipeline.load('../sm_predictor_pipeline_tpe_sklearn/trial_285')\n",
    "\n",
    "print(\"Morgan FP\")\n",
    "results_pipeline_morgan_fp = fit_and_evaluate(pipeline_morgan_fp)\n",
    "print(\"Layered FP and Ridge Classifier\")\n",
    "results_pipeline_layered_fingerprints_baseline_ridge_classifier = fit_and_evaluate(pipeline_layered_fingerprints_baseline_ridge_classifier)\n",
    "print(\"Layered FP and Ridge Classifier (optimized)\")\n",
    "results_pipeline_285 = fit_and_evaluate(pipeline_285)"
   ]
  },
  {
   "cell_type": "code",
   "execution_count": 18,
   "metadata": {},
   "outputs": [
    {
     "data": {
      "text/plain": [
       "[0.4962027497203994, 0.49823149336777156, 0.5944426643944623]"
      ]
     },
     "execution_count": 18,
     "metadata": {},
     "output_type": "execute_result"
    }
   ],
   "source": [
    "import pandas as pd\n",
    "\n",
    "results_mgcnn = pd.read_csv(\"mgcnn_results_clustered.csv\")\n",
    "results_mgcnn.fillna(0, inplace=True)\n",
    "pipeline_mgcnn_results = [results_mgcnn[\"f1_score\"].mean(), results_mgcnn[\"precision\"].mean(), results_mgcnn[\"recall\"].mean()]\n",
    "pipeline_mgcnn_results"
   ]
  },
  {
   "cell_type": "code",
   "execution_count": 19,
   "metadata": {},
   "outputs": [],
   "source": [
    "color_map = {'Layered FP + Low Variance FS + Ridge Classifier': (0.00392156862745098,\n",
    "  0.45098039215686275,\n",
    "  0.6980392156862745),\n",
    " 'Layered FP + Ridge Classifier': (0.8705882352941177, 0.5607843137254902, 0.0196078431372549),\n",
    " 'Morgan FP + Ridge Classifier': (0.00784313725490196, 0.6196078431372549, 0.45098039215686275),\n",
    " 'Morgan FP + MLP': (0.8352941176470589, 0.3686274509803922, 0.0),\n",
    " 'MGCNN (Eguchi et al. 2019)': (0.8, 0.47058823529411764, 0.7372549019607844),\n",
    " 'Morgan FP + Random Forest': (0.792156862745098, 0.5686274509803921, 0.3803921568627451),\n",
    " 'Morgan FP + KNN': (0.984313725490196, 0.6862745098039216, 0.8941176470588236),\n",
    " 'Descriptors + Random Forest': (0.5803921568627451, 0.5803921568627451, 0.5803921568627451) }"
   ]
  },
  {
   "cell_type": "code",
   "execution_count": 20,
   "metadata": {},
   "outputs": [
    {
     "data": {
      "image/png": "[encoded data removed]",
      "text/plain": [
       "<Figure size 1000x600 with 1 Axes>"
      ]
     },
     "metadata": {},
     "output_type": "display_data"
    }
   ],
   "source": [
    "# plot the results of the three pipelines\n",
    "import matplotlib.pyplot as plt\n",
    "import numpy as np\n",
    "\n",
    "labels = ['macro_f1_score', 'macro_precision_score', 'macro_recall_score']\n",
    "pipeline_285_results = [results_pipeline_285[0]['macro_f1_score'], results_pipeline_285[0]['macro_precision_score'], results_pipeline_285[0]['macro_recall_score']]\n",
    "pipeline_morgan_fp_results = [results_pipeline_morgan_fp[0]['macro_f1_score'], results_pipeline_morgan_fp[0]['macro_precision_score'], results_pipeline_morgan_fp[0]['macro_recall_score']]\n",
    "pipeline_layered_fingerprints_baseline_ridge_classifier_results = [results_pipeline_layered_fingerprints_baseline_ridge_classifier[0]['macro_f1_score'], results_pipeline_layered_fingerprints_baseline_ridge_classifier[0]['macro_precision_score'], results_pipeline_layered_fingerprints_baseline_ridge_classifier[0]['macro_recall_score']]\n",
    "\n",
    "pipeline_285_std = [results_pipeline_285[0]['f1_scores_std'], results_pipeline_285[0]['precision_scores_std'], results_pipeline_285[0]['recall_scores_std']]\n",
    "pipeline_morgan_fp_std = [results_pipeline_morgan_fp[0]['f1_scores_std'], results_pipeline_morgan_fp[0]['precision_scores_std'], results_pipeline_morgan_fp[0]['recall_scores_std']]\n",
    "pipeline_layered_fingerprints_baseline_ridge_classifier_std = [results_pipeline_layered_fingerprints_baseline_ridge_classifier[0]['f1_scores_std'], results_pipeline_layered_fingerprints_baseline_ridge_classifier[0]['precision_scores_std'], results_pipeline_layered_fingerprints_baseline_ridge_classifier[0]['recall_scores_std']]\n",
    "pipeline_mgcnn_results_std = [results_mgcnn[\"f1_score\"].std(), results_mgcnn[\"precision\"].std(), results_mgcnn[\"recall\"].std()]\n",
    "\n",
    "import pandas as pd\n",
    "import seaborn as sns\n",
    "import matplotlib.pyplot as plt\n",
    "\n",
    "import matplotlib\n",
    "matplotlib.rcParams['savefig.transparent'] = True\n",
    "\n",
    "# Sample data setup (replace with your actual data)\n",
    "# Assuming you have your pipeline results as separate lists like before\n",
    "# Here's how you might structure them into a DataFrame:\n",
    "\n",
    "data = {\n",
    "    \"Label\": labels * 4,  # Repeat 'labels' for each pipeline\n",
    "    \"Scores\": np.concatenate([\n",
    "        pipeline_285_results,\n",
    "        pipeline_layered_fingerprints_baseline_ridge_classifier_results,\n",
    "        pipeline_morgan_fp_results,\n",
    "        pipeline_mgcnn_results,\n",
    "    ]),\n",
    "    \"Pipeline\": (\n",
    "        [\"Layered FP + Low Variance FS + Ridge Classifier\"] * len(labels) +\n",
    "        [\"Layered FP + Ridge Classifier\"] * len(labels) +\n",
    "        [\"Morgan FP + Ridge Classifier\"] * len(labels) +\n",
    "         [\"MGCNN (Eguchi et al. 2019)\"] * len(labels)\n",
    "    )\n",
    "}\n",
    "\n",
    "df = pd.DataFrame(data)\n",
    "#df.sort_values(by=\"Scores\", ascending=False, inplace=True)  # Sort by scores for better visualization\n",
    "\n",
    "# Plotting\n",
    "plt.figure(figsize=(10, 6))  # Adjust the figure size as needed\n",
    "barplot = sns.barplot(data=df, x=\"Label\", y=\"Scores\", hue=\"Pipeline\", dodge=True, palette=color_map, legend=False)\n",
    "\n",
    "# for i, p in enumerate(barplot.patches):\n",
    "#     # Calculate annotation text position\n",
    "#     if p.get_height() != 0:\n",
    "        # x = p.get_x() + p.get_width() / 2\n",
    "        # # Get the corresponding standard deviation from the DataFrame\n",
    "        # std = df.loc[i % len(df), 'STD']  # Adjust index for std\n",
    "        # # Add error bar for this bar using plt.errorbar\n",
    "        # plt.errorbar(x, p.get_height(), yerr=std, fmt='none', capsize=5, color='black')\n",
    "\n",
    "        # barplot.annotate(format(p.get_height(), '.3f'),  # Text to display\n",
    "        #                 (p.get_x() + p.get_width() / 2., p.get_height() + 0.05),  # Position\n",
    "        #                 ha='center', va='center',  # Center alignment\n",
    "        #                 xytext=(0, 9),  # Distance from the top of the bar\n",
    "        #                 textcoords='offset points',\n",
    "                        # rotation=90)  # Text rotation (90 degrees)\n",
    "\n",
    "plt.title('Scores by pipeline for the clustered dataset', pad=20, size=25)  # Adjust title position\n",
    "plt.ylabel('Scores', labelpad=10, size=25)  # Adjust y-axis label position\n",
    "plt.xlabel('', labelpad=10, size=25)\n",
    "# define other names for the ticks\n",
    "plt.xticks([0, 1, 2], ['mF1', 'mPrecision', 'mRecall'], size=25)\n",
    "\n",
    "#plt.legend(title='Pipeline', bbox_to_anchor=(1.05, 1), loc='upper left')\n",
    "plt.ylim(0, 1)\n",
    "plt.yticks([0, 0.1, 0.2, 0.3, 0.4, 0.5, 0.6, 0.7, 0.8, 0.9, 1.0], size=20)\n",
    "\n",
    "plt.tight_layout()  # Adjust layout\n",
    "plt.savefig(\"clustered_dataset.png\", dpi=400)"
   ]
  },
  {
   "cell_type": "code",
   "execution_count": 49,
   "metadata": {},
   "outputs": [],
   "source": [
    "from deepmol.loaders import CSVLoader\n",
    "import numpy as np\n",
    "\n",
    "labels = {\n",
    "    'C00341': 'Geranyl diphosphate',\n",
    "    'C01789': 'Campesterol',\n",
    "    'C00078': 'Tryptophan',\n",
    "    'C00049': 'L-Aspartate',\n",
    "    'C00183': 'L-Valine',\n",
    "    'C03506': 'Indoleglycerol phosphate',\n",
    "    'C00187': 'Cholesterol',\n",
    "    'C00079': 'L-Phenylalanine',\n",
    "    'C00047': 'L-Lysine',\n",
    "    'C01852': 'Secologanin',\n",
    "    'C00407': 'L-Isoleucine',\n",
    "    'C00129': 'Isopentenyl diphosphate',\n",
    "    'C00235': 'Dimethylallyl diphosphate',\n",
    "    'C00062': 'L-Arginine',\n",
    "    'C00353': 'Geranylgeranyl diphosphate',\n",
    "    'C00148': 'L-Proline',\n",
    "    'C00073': 'L-Methionine',\n",
    "    'C00108': 'Anthranilate',\n",
    "    'C00123': 'L-Leucine',\n",
    "    'C00135': 'L-Histidine',\n",
    "    'C00448': 'Farnesyl diphosphate',\n",
    "    'C00082': 'L-Tyrosine',\n",
    "    'C00041': 'L-Alanine',\n",
    "    'C00540': 'Cinnamoyl-CoA',\n",
    "    'C01477': 'Apigenin',\n",
    "    'C05903': 'Kaempferol',\n",
    "    'C05904': 'Pelargonin',\n",
    "    'C05905': 'Cyanidin',\n",
    "    'C05908': 'Delphinidin',\n",
    "    'C00389': 'Quercetin',\n",
    "    'C01514': 'Luteolin',\n",
    "    'C09762': \"Liquiritigenin\",\n",
    "    'C00509': 'Naringenin',\n",
    "    'C00223': 'p-Coumaroyl-CoA'\n",
    "}\n",
    "global columns_that_stay\n",
    "columns_that_stay = []\n",
    "\n",
    "def fit_and_evaluate(pipeline, pipeline_name):\n",
    "    train = CSVLoader(\"training_set_clustered.csv\",\n",
    "                        labels_fields=['C00073', 'C00078', 'C00079', 'C00082', 'C00235', 'C00341', 'C00353',\n",
    "                                        'C00448', 'C01789', 'C03506', 'C00047', 'C00108', 'C00187', 'C00148',\n",
    "                                        'C00041', 'C00129', 'C00062', 'C01852', 'C00049', 'C00135', 'C00223',\n",
    "                                        'C00509', 'C00540', 'C01477', 'C05903', 'C05904', 'C05905', 'C05908',\n",
    "                                        'C09762'],\n",
    "                        id_field=\"ids\", smiles_field=\"smiles\").create_dataset()\n",
    "    test = CSVLoader(\"clustered_test_set.csv\",\n",
    "                        labels_fields=['C00073', 'C00078', 'C00079', 'C00082', 'C00235', 'C00341', 'C00353',\n",
    "                                        'C00448', 'C01789', 'C03506', 'C00047', 'C00108', 'C00187', 'C00148',\n",
    "                                        'C00041', 'C00129', 'C00062', 'C01852', 'C00049', 'C00135', 'C00223',\n",
    "                                        'C00509', 'C00540', 'C01477', 'C05903', 'C05904', 'C05905', 'C05908',\n",
    "                                        'C09762'],\n",
    "                        id_field=\"ids\", smiles_field=\"smiles\").create_dataset()\n",
    "\n",
    "    pipeline.fit(train)\n",
    "    from sklearn.metrics import f1_score, precision_score, recall_score\n",
    "    from deepmol.metrics import Metric\n",
    "    \n",
    "    columns_to_remove = []\n",
    "    columns_that_stay = []\n",
    "    for i in range(test.y.shape[1]):\n",
    "        if np.sum(test.y[:, i]) == 0:\n",
    "            columns_to_remove.append(i)\n",
    "        else:\n",
    "            columns_that_stay.append(labels[test.label_names[i]])\n",
    "    \n",
    "    predictions = pipeline.predict(test)\n",
    "    f1_scores = []\n",
    "    recall_scores = []\n",
    "    precision_scores = []\n",
    "    test = pipeline.transform(test)\n",
    "\n",
    "    y_true = test.y\n",
    "    y_true = np.delete(y_true, columns_to_remove, axis=1)\n",
    "    y_pred = predictions\n",
    "    y_pred = np.delete(y_pred, columns_to_remove, axis=1)\n",
    "    tasks = []\n",
    "    for i in range(y_pred.shape[1]):\n",
    "        f1_score_task = f1_score(y_true[:, i], y_pred[:, i])\n",
    "        recall_score_task = recall_score(y_true[:, i], y_pred[:, i])\n",
    "        precision_score_task = precision_score(y_true[:, i], y_pred[:, i])\n",
    "        f1_scores.append(f1_score_task)\n",
    "        recall_scores.append(recall_score_task)\n",
    "        precision_scores.append(precision_score_task)\n",
    "        tasks.append(i)\n",
    "    \n",
    "    results_test = pd.DataFrame({'task': tasks, 'f1_score': f1_scores, 'precision': precision_scores, 'recall': recall_scores, 'pipeline': [pipeline_name]*len(f1_scores)})\n",
    "\n",
    "    return results_test"
   ]
  },
  {
   "cell_type": "code",
   "execution_count": 50,
   "metadata": {},
   "outputs": [
    {
     "name": "stdout",
     "output_type": "stream",
     "text": [
      "Layered FP + Low Variance FS + Ridge Classifier\n",
      "2024-03-08 11:34:48,980 — INFO — Assuming multitask since y has more than one dimension. If otherwise, explicitly set the mode to 'classification' or 'regression'!\n",
      "2024-03-08 11:34:49,048 — INFO — Assuming multitask since y has more than one dimension. If otherwise, explicitly set the mode to 'classification' or 'regression'!\n"
     ]
    },
    {
     "name": "stderr",
     "output_type": "stream",
     "text": [
      "/home/jcapela/miniforge3/envs/sm_precursor_predictor/lib/python3.10/site-packages/sklearn/metrics/_classification.py:1344: UndefinedMetricWarning: Precision is ill-defined and being set to 0.0 due to no predicted samples. Use `zero_division` parameter to control this behavior.\n",
      "  _warn_prf(average, modifier, msg_start, len(result))\n"
     ]
    },
    {
     "name": "stdout",
     "output_type": "stream",
     "text": [
      "Layered FP + Ridge Classifier\n",
      "2024-03-08 11:34:56,581 — INFO — Assuming multitask since y has more than one dimension. If otherwise, explicitly set the mode to 'classification' or 'regression'!\n",
      "2024-03-08 11:34:56,635 — INFO — Assuming multitask since y has more than one dimension. If otherwise, explicitly set the mode to 'classification' or 'regression'!\n"
     ]
    },
    {
     "name": "stderr",
     "output_type": "stream",
     "text": [
      "/home/jcapela/miniforge3/envs/sm_precursor_predictor/lib/python3.10/site-packages/sklearn/metrics/_classification.py:1344: UndefinedMetricWarning: Precision is ill-defined and being set to 0.0 due to no predicted samples. Use `zero_division` parameter to control this behavior.\n",
      "  _warn_prf(average, modifier, msg_start, len(result))\n"
     ]
    },
    {
     "name": "stdout",
     "output_type": "stream",
     "text": [
      "Morgan FP + Ridge Classifier\n",
      "2024-03-08 11:35:03,974 — INFO — Assuming multitask since y has more than one dimension. If otherwise, explicitly set the mode to 'classification' or 'regression'!\n",
      "2024-03-08 11:35:04,036 — INFO — Assuming multitask since y has more than one dimension. If otherwise, explicitly set the mode to 'classification' or 'regression'!\n"
     ]
    },
    {
     "name": "stderr",
     "output_type": "stream",
     "text": [
      "/home/jcapela/miniforge3/envs/sm_precursor_predictor/lib/python3.10/site-packages/sklearn/metrics/_classification.py:1344: UndefinedMetricWarning: Precision is ill-defined and being set to 0.0 due to no predicted samples. Use `zero_division` parameter to control this behavior.\n",
      "  _warn_prf(average, modifier, msg_start, len(result))\n"
     ]
    }
   ],
   "source": [
    "pipeline_names = [\"Layered FP + Low Variance FS + Ridge Classifier\", \"Layered FP + Ridge Classifier\", \"Morgan FP + Ridge Classifier\", \"MGCNN (Eguchi et al. 2019)\"]\n",
    "\n",
    "import pandas as pd\n",
    "results = pd.DataFrame()\n",
    "for pipeline, name in zip([pipeline_layered_fingerprints_baseline_ridge_classifier, pipeline_285, pipeline_morgan_fp], pipeline_names):\n",
    "    print(name)\n",
    "    results_ = fit_and_evaluate(pipeline, name)\n",
    "    results = pd.concat([results, results_], axis=0)"
   ]
  },
  {
   "cell_type": "code",
   "execution_count": 51,
   "metadata": {},
   "outputs": [
    {
     "data": {
      "text/plain": [
       "[]"
      ]
     },
     "execution_count": 51,
     "metadata": {},
     "output_type": "execute_result"
    }
   ],
   "source": [
    "columns_that_stay"
   ]
  },
  {
   "cell_type": "code",
   "execution_count": 35,
   "metadata": {},
   "outputs": [],
   "source": [
    "import pandas as pd\n",
    "\n",
    "results_mgcnn = pd.read_csv(\"mgcnn_results_clustered.csv\")\n",
    "results_mgcnn.fillna(0, inplace=True)\n",
    "\n",
    "f1_scores = []\n",
    "precision_scores = []\n",
    "recall_scores = []\n",
    "tasks = []\n",
    "\n",
    "for i in range(results_mgcnn.shape[0]):\n",
    "    f1_scores.append(results_mgcnn[\"f1_score\"][i])\n",
    "    precision_scores.append(results_mgcnn[\"precision\"][i])\n",
    "    recall_scores.append(results_mgcnn[\"recall\"][i])\n",
    "    tasks.append(i)\n",
    "\n",
    "results_mgcnn = pd.DataFrame({'task': tasks, 'f1_score': f1_scores, 'precision': precision_scores, 'recall': recall_scores, 'pipeline': [\"MGCNN (Eguchi et al. 2019)\"]*len(f1_scores)})\n",
    "results = pd.concat([results, results_mgcnn], axis=0)"
   ]
  },
  {
   "cell_type": "code",
   "execution_count": 36,
   "metadata": {},
   "outputs": [
    {
     "name": "stdout",
     "output_type": "stream",
     "text": [
      "Layered FP + Low Variance FS + Ridge Classifier\n",
      "F1 score: (0.6636671450763468, 0.3464160043337992)\n",
      "Precision: (0.7807742239094367, 0.37838182670648984)\n",
      "Recall: (0.6445845806934635, 0.36296766630641514)\n",
      "Layered FP + Ridge Classifier\n",
      "F1 score: (0.7178647864156702, 0.336990526149675)\n",
      "Precision: (0.7778718230232696, 0.38417272083876847)\n",
      "Recall: (0.7091972098018413, 0.3320009638285013)\n",
      "Morgan FP + Ridge Classifier\n",
      "F1 score: (0.6603734576481949, 0.3412470060807444)\n",
      "Precision: (0.7147111076435518, 0.3675825921955776)\n",
      "Recall: (0.7246001117290789, 0.32909143114108746)\n",
      "MGCNN (Eguchi et al. 2019)\n",
      "F1 score: (0.4962027497203994, 0.4160106624834333)\n",
      "Precision: (0.49823149336777156, 0.4525338950090575)\n",
      "Recall: (0.5944426643944623, 0.41994670377952537)\n"
     ]
    }
   ],
   "source": [
    "pipeline_names = results['pipeline'].unique()\n",
    "for pipeline in pipeline_names:\n",
    "    print(pipeline)\n",
    "    print(\"F1 score:\", (results[results['pipeline'] == pipeline]['f1_score'].mean(), results[results['pipeline'] == pipeline]['f1_score'].std()))\n",
    "    print(\"Precision:\", (results[results['pipeline'] == pipeline]['precision'].mean(), results[results['pipeline'] == pipeline]['precision'].std()))\n",
    "    print(\"Recall:\", (results[results['pipeline'] == pipeline]['recall'].mean(), results[results['pipeline'] == pipeline]['recall'].std()))"
   ]
  },
  {
   "cell_type": "code",
   "execution_count": 37,
   "metadata": {},
   "outputs": [
    {
     "name": "stdout",
     "output_type": "stream",
     "text": [
      "Layered FP + Low Variance FS + Ridge Classifier Layered FP + Ridge Classifier\n",
      "    f1_score  f1_score\n",
      "0   0.975779  0.972028\n",
      "1   0.776471  0.855556\n",
      "2   0.000000  0.000000\n",
      "3   0.685714  0.756757\n",
      "4   1.000000  1.000000\n",
      "5   0.720000  0.710526\n",
      "6   0.823529  0.823529\n",
      "7   0.000000  0.000000\n",
      "8   0.500000  0.444444\n",
      "9   0.842105  0.842105\n",
      "10  0.266667  1.000000\n",
      "11  0.967742  0.967742\n",
      "12  1.000000  0.903226\n",
      "13  0.733333  0.774194\n",
      "Layered FP + Low Variance FS + Ridge Classifier Morgan FP + Ridge Classifier\n",
      "    f1_score  f1_score\n",
      "0   0.975779  0.924188\n",
      "1   0.776471  0.880435\n",
      "2   0.000000  0.042553\n",
      "3   0.685714  0.930233\n",
      "4   1.000000  0.666667\n",
      "5   0.720000  0.297872\n",
      "6   0.823529  0.823529\n",
      "7   0.000000  0.000000\n",
      "8   0.500000  0.444444\n",
      "9   0.842105  0.782609\n",
      "10  0.266667  1.000000\n",
      "11  0.967742  0.967742\n",
      "12  1.000000  0.918919\n",
      "13  0.733333  0.566038\n",
      "Layered FP + Low Variance FS + Ridge Classifier MGCNN (Eguchi et al. 2019)\n",
      "    f1_score  f1_score\n",
      "0   0.975779  0.996700\n",
      "1   0.776471  0.842697\n",
      "2   0.000000  0.090909\n",
      "3   0.685714  0.980392\n",
      "4   1.000000  1.000000\n",
      "5   0.720000  0.724638\n",
      "6   0.823529  0.823529\n",
      "7   0.000000  0.000000\n",
      "8   0.500000  0.444444\n",
      "9   0.842105  0.323529\n",
      "10  0.266667  0.000000\n",
      "11  0.967742  0.000000\n",
      "12  1.000000  0.000000\n",
      "13  0.733333  0.720000\n",
      "Layered FP + Ridge Classifier Morgan FP + Ridge Classifier\n",
      "    f1_score  f1_score\n",
      "0   0.972028  0.924188\n",
      "1   0.855556  0.880435\n",
      "2   0.000000  0.042553\n",
      "3   0.756757  0.930233\n",
      "4   1.000000  0.666667\n",
      "5   0.710526  0.297872\n",
      "6   0.823529  0.823529\n",
      "7   0.000000  0.000000\n",
      "8   0.444444  0.444444\n",
      "9   0.842105  0.782609\n",
      "10  1.000000  1.000000\n",
      "11  0.967742  0.967742\n",
      "12  0.903226  0.918919\n",
      "13  0.774194  0.566038\n",
      "Layered FP + Ridge Classifier MGCNN (Eguchi et al. 2019)\n",
      "    f1_score  f1_score\n",
      "0   0.972028  0.996700\n",
      "1   0.855556  0.842697\n",
      "2   0.000000  0.090909\n",
      "3   0.756757  0.980392\n",
      "4   1.000000  1.000000\n",
      "5   0.710526  0.724638\n",
      "6   0.823529  0.823529\n",
      "7   0.000000  0.000000\n",
      "8   0.444444  0.444444\n",
      "9   0.842105  0.323529\n",
      "10  1.000000  0.000000\n",
      "11  0.967742  0.000000\n",
      "12  0.903226  0.000000\n",
      "13  0.774194  0.720000\n",
      "Morgan FP + Ridge Classifier MGCNN (Eguchi et al. 2019)\n",
      "    f1_score  f1_score\n",
      "0   0.924188  0.996700\n",
      "1   0.880435  0.842697\n",
      "2   0.042553  0.090909\n",
      "3   0.930233  0.980392\n",
      "4   0.666667  1.000000\n",
      "5   0.297872  0.724638\n",
      "6   0.823529  0.823529\n",
      "7   0.000000  0.000000\n",
      "8   0.444444  0.444444\n",
      "9   0.782609  0.323529\n",
      "10  1.000000  0.000000\n",
      "11  0.967742  0.000000\n",
      "12  0.918919  0.000000\n",
      "13  0.566038  0.720000\n"
     ]
    }
   ],
   "source": [
    "import itertools\n",
    "import pandas as pd\n",
    "from scipy import stats\n",
    "\n",
    "# Assuming 'results' is your DataFrame containing the dataset\n",
    "pipeline_names = results['pipeline'].unique()\n",
    "significant_differences_f1 = []\n",
    "\n",
    "for pipeline1, pipeline2 in itertools.combinations(pipeline_names, 2):\n",
    "    f1_scores1 = results[(results['pipeline'] == pipeline1)]['f1_score']\n",
    "    f1_scores2 = results[(results['pipeline'] == pipeline2)]['f1_score']\n",
    "    print(pipeline1, pipeline2)\n",
    "    # put both series side by side and print them\n",
    "    print(pd.concat([f1_scores1, f1_scores2], axis=1))\n",
    "    "
   ]
  },
  {
   "cell_type": "code",
   "execution_count": 24,
   "metadata": {},
   "outputs": [
    {
     "name": "stderr",
     "output_type": "stream",
     "text": [
      "/home/jcapela/miniforge3/envs/sm_precursor_predictor/lib/python3.10/site-packages/scipy/stats/_morestats.py:3145: UserWarning: Exact p-value calculation does not work if there are ties. Switching to normal approximation.\n",
      "  warnings.warn(\"Exact p-value calculation does not work if there are \"\n",
      "/home/jcapela/miniforge3/envs/sm_precursor_predictor/lib/python3.10/site-packages/scipy/stats/_morestats.py:3159: UserWarning: Sample size too small for normal approximation.\n",
      "  warnings.warn(\"Sample size too small for normal approximation.\")\n"
     ]
    }
   ],
   "source": [
    "import itertools\n",
    "import pandas as pd\n",
    "from scipy import stats\n",
    "\n",
    "# Assuming 'results' is your DataFrame containing the dataset\n",
    "pipeline_names = results['pipeline'].unique()\n",
    "significant_differences_f1 = []\n",
    "\n",
    "for pipeline1, pipeline2 in itertools.combinations(pipeline_names, 2):\n",
    "    f1_scores1 = results[(results['pipeline'] == pipeline1)]['f1_score']\n",
    "    f1_scores2 = results[(results['pipeline'] == pipeline2)]['f1_score']\n",
    "    \n",
    "    # Ensure both series have the same length for paired test\n",
    "    if len(f1_scores1) == len(f1_scores2):\n",
    "        stat, p_value = stats.wilcoxon(f1_scores1, f1_scores2)\n",
    "        if p_value < 0.05:\n",
    "            significant_differences_f1.append((pipeline1, pipeline2, p_value))\n",
    "\n",
    "# Print out the pairs of pipelines that have significantly different F1 scores\n",
    "for diff in significant_differences_f1:\n",
    "    print(f\"Significant difference between {diff[0]} and {diff[1]} with p-value {diff[2]}\")\n"
   ]
  },
  {
   "cell_type": "code",
   "execution_count": 25,
   "metadata": {},
   "outputs": [],
   "source": [
    "import itertools\n",
    "import pandas as pd\n",
    "from scipy import stats\n",
    "\n",
    "# Assuming 'results' is your DataFrame containing the dataset\n",
    "pipeline_names = results['pipeline'].unique()\n",
    "significant_differences_f1 = []\n",
    "\n",
    "for pipeline1, pipeline2 in itertools.combinations(pipeline_names, 2):\n",
    "    f1_scores1 = results[(results['pipeline'] == pipeline1)]['recall']\n",
    "    f1_scores2 = results[(results['pipeline'] == pipeline2)]['recall']\n",
    "    \n",
    "    # Ensure both series have the same length for paired test\n",
    "    if len(f1_scores1) == len(f1_scores2):\n",
    "        stat, p_value = stats.wilcoxon(f1_scores1, f1_scores2)\n",
    "        if p_value < 0.05:\n",
    "            significant_differences_f1.append((pipeline1, pipeline2, p_value))\n",
    "\n",
    "# Print out the pairs of pipelines that have significantly different F1 scores\n",
    "for diff in significant_differences_f1:\n",
    "    print(f\"Significant difference between {diff[0]} and {diff[1]} with p-value {diff[2]}\")\n"
   ]
  },
  {
   "cell_type": "code",
   "execution_count": 26,
   "metadata": {},
   "outputs": [],
   "source": [
    "import itertools\n",
    "import pandas as pd\n",
    "from scipy import stats\n",
    "\n",
    "# Assuming 'results' is your DataFrame containing the dataset\n",
    "pipeline_names = results['pipeline'].unique()\n",
    "significant_differences_f1 = []\n",
    "\n",
    "for pipeline1, pipeline2 in itertools.combinations(pipeline_names, 2):\n",
    "    f1_scores1 = results[(results['pipeline'] == pipeline1)]['precision']\n",
    "    f1_scores2 = results[(results['pipeline'] == pipeline2)]['precision']\n",
    "    \n",
    "    # Ensure both series have the same length for paired test\n",
    "    if len(f1_scores1) == len(f1_scores2):\n",
    "        stat, p_value = stats.wilcoxon(f1_scores1, f1_scores2)\n",
    "        if p_value < 0.05:\n",
    "            significant_differences_f1.append((pipeline1, pipeline2, p_value))\n",
    "\n",
    "# Print out the pairs of pipelines that have significantly different F1 scores\n",
    "for diff in significant_differences_f1:\n",
    "    print(f\"Significant difference between {diff[0]} and {diff[1]} with p-value {diff[2]}\")\n"
   ]
  }
 ],
 "metadata": {
  "kernelspec": {
   "display_name": "sm_precursor_predictor",
   "language": "python",
   "name": "python3"
  },
  "language_info": {
   "codemirror_mode": {
    "name": "ipython",
    "version": 3
   },
   "file_extension": ".py",
   "mimetype": "text/x-python",
   "name": "python",
   "nbconvert_exporter": "python",
   "pygments_lexer": "ipython3",
   "version": "3.10.13"
  }
 },
 "nbformat": 4,
 "nbformat_minor": 2
}
