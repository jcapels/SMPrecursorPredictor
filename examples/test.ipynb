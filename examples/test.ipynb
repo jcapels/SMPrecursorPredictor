{
 "cells": [
  {
   "cell_type": "code",
   "execution_count": 1,
   "metadata": {
    "collapsed": true,
    "ExecuteTime": {
     "end_time": "2023-05-19T16:13:36.892858888Z",
     "start_time": "2023-05-19T16:13:36.887501670Z"
    }
   },
   "outputs": [],
   "source": [
    "import networkx as nx"
   ]
  },
  {
   "cell_type": "code",
   "execution_count": 2,
   "outputs": [
    {
     "name": "stdout",
     "output_type": "stream",
     "text": [
      "\n"
     ]
    }
   ],
   "source": [
    "from sm_precursor_predictor.data_integration.generate_kegg_networks import KeggNetworkGenerator\n",
    "\n",
    "graph = KeggNetworkGenerator.get_kegg_network(\"map00902\")"
   ],
   "metadata": {
    "collapsed": false,
    "ExecuteTime": {
     "end_time": "2023-05-19T16:15:26.686890466Z",
     "start_time": "2023-05-19T16:13:36.896239093Z"
    }
   }
  },
  {
   "cell_type": "code",
   "execution_count": 27,
   "outputs": [
    {
     "name": "stdout",
     "output_type": "stream",
     "text": [
      "{}\n"
     ]
    }
   ],
   "source": [
    "print(graph.nodes[\"R02177\"])"
   ],
   "metadata": {
    "collapsed": false,
    "ExecuteTime": {
     "end_time": "2023-05-19T15:59:03.563891058Z",
     "start_time": "2023-05-19T15:59:03.522648218Z"
    }
   }
  },
  {
   "cell_type": "code",
   "execution_count": 3,
   "outputs": [
    {
     "data": {
      "text/plain": "OutEdgeDataView([('C00400', 'R02177')])"
     },
     "execution_count": 3,
     "metadata": {},
     "output_type": "execute_result"
    }
   ],
   "source": [
    "graph.edges(\"C00400\")"
   ],
   "metadata": {
    "collapsed": false,
    "ExecuteTime": {
     "end_time": "2023-05-19T16:15:48.292713976Z",
     "start_time": "2023-05-19T16:15:48.248079881Z"
    }
   }
  },
  {
   "cell_type": "code",
   "execution_count": 5,
   "outputs": [
    {
     "name": "stdout",
     "output_type": "stream",
     "text": [
      "['C00341', 'R02004', 'C00001', 'R02995', 'C00006', 'R02177', 'C00400']\n"
     ]
    }
   ],
   "source": [
    "print(list(nx.shortest_path(graph, \"C00341\", \"C00400\")))"
   ],
   "metadata": {
    "collapsed": false,
    "ExecuteTime": {
     "end_time": "2023-05-19T16:16:13.328051664Z",
     "start_time": "2023-05-19T16:16:13.285030915Z"
    }
   }
  },
  {
   "cell_type": "code",
   "execution_count": 14,
   "outputs": [
    {
     "ename": "ModuleNotFoundError",
     "evalue": "No module named 'scipy'",
     "output_type": "error",
     "traceback": [
      "\u001B[0;31m---------------------------------------------------------------------------\u001B[0m",
      "\u001B[0;31mModuleNotFoundError\u001B[0m                       Traceback (most recent call last)",
      "Cell \u001B[0;32mIn[14], line 1\u001B[0m\n\u001B[0;32m----> 1\u001B[0m \u001B[43mnx\u001B[49m\u001B[38;5;241;43m.\u001B[39;49m\u001B[43mkamada_kawai_layout\u001B[49m\u001B[43m(\u001B[49m\u001B[43mgraph\u001B[49m\u001B[43m)\u001B[49m\n",
      "File \u001B[0;32m~/miniconda3/envs/sm_precursor_predictor/lib/python3.9/site-packages/networkx/drawing/layout.py:710\u001B[0m, in \u001B[0;36mkamada_kawai_layout\u001B[0;34m(G, dist, pos, weight, scale, center, dim)\u001B[0m\n\u001B[1;32m    707\u001B[0m         pos \u001B[38;5;241m=\u001B[39m \u001B[38;5;28mdict\u001B[39m(\u001B[38;5;28mzip\u001B[39m(G, np\u001B[38;5;241m.\u001B[39mlinspace(\u001B[38;5;241m0\u001B[39m, \u001B[38;5;241m1\u001B[39m, \u001B[38;5;28mlen\u001B[39m(G))))\n\u001B[1;32m    708\u001B[0m pos_arr \u001B[38;5;241m=\u001B[39m np\u001B[38;5;241m.\u001B[39marray([pos[n] \u001B[38;5;28;01mfor\u001B[39;00m n \u001B[38;5;129;01min\u001B[39;00m G])\n\u001B[0;32m--> 710\u001B[0m pos \u001B[38;5;241m=\u001B[39m \u001B[43m_kamada_kawai_solve\u001B[49m\u001B[43m(\u001B[49m\u001B[43mdist_mtx\u001B[49m\u001B[43m,\u001B[49m\u001B[43m \u001B[49m\u001B[43mpos_arr\u001B[49m\u001B[43m,\u001B[49m\u001B[43m \u001B[49m\u001B[43mdim\u001B[49m\u001B[43m)\u001B[49m\n\u001B[1;32m    712\u001B[0m pos \u001B[38;5;241m=\u001B[39m rescale_layout(pos, scale\u001B[38;5;241m=\u001B[39mscale) \u001B[38;5;241m+\u001B[39m center\n\u001B[1;32m    713\u001B[0m \u001B[38;5;28;01mreturn\u001B[39;00m \u001B[38;5;28mdict\u001B[39m(\u001B[38;5;28mzip\u001B[39m(G, pos))\n",
      "File \u001B[0;32m~/miniconda3/envs/sm_precursor_predictor/lib/python3.9/site-packages/networkx/drawing/layout.py:722\u001B[0m, in \u001B[0;36m_kamada_kawai_solve\u001B[0;34m(dist_mtx, pos_arr, dim)\u001B[0m\n\u001B[1;32m    716\u001B[0m \u001B[38;5;28;01mdef\u001B[39;00m \u001B[38;5;21m_kamada_kawai_solve\u001B[39m(dist_mtx, pos_arr, dim):\n\u001B[1;32m    717\u001B[0m     \u001B[38;5;66;03m# Anneal node locations based on the Kamada-Kawai cost-function,\u001B[39;00m\n\u001B[1;32m    718\u001B[0m     \u001B[38;5;66;03m# using the supplied matrix of preferred inter-node distances,\u001B[39;00m\n\u001B[1;32m    719\u001B[0m     \u001B[38;5;66;03m# and starting locations.\u001B[39;00m\n\u001B[1;32m    721\u001B[0m     \u001B[38;5;28;01mimport\u001B[39;00m \u001B[38;5;21;01mnumpy\u001B[39;00m \u001B[38;5;28;01mas\u001B[39;00m \u001B[38;5;21;01mnp\u001B[39;00m\n\u001B[0;32m--> 722\u001B[0m     \u001B[38;5;28;01mimport\u001B[39;00m \u001B[38;5;21;01mscipy\u001B[39;00m \u001B[38;5;28;01mas\u001B[39;00m \u001B[38;5;21;01msp\u001B[39;00m\n\u001B[1;32m    723\u001B[0m     \u001B[38;5;28;01mimport\u001B[39;00m \u001B[38;5;21;01mscipy\u001B[39;00m\u001B[38;5;21;01m.\u001B[39;00m\u001B[38;5;21;01moptimize\u001B[39;00m  \u001B[38;5;66;03m# call as sp.optimize\u001B[39;00m\n\u001B[1;32m    725\u001B[0m     meanwt \u001B[38;5;241m=\u001B[39m \u001B[38;5;241m1e-3\u001B[39m\n",
      "\u001B[0;31mModuleNotFoundError\u001B[0m: No module named 'scipy'"
     ]
    }
   ],
   "source": [
    "\n",
    "\n",
    "nx.kamada_kawai_layout(graph)"
   ],
   "metadata": {
    "collapsed": false,
    "ExecuteTime": {
     "end_time": "2023-05-19T15:50:32.542902859Z",
     "start_time": "2023-05-19T15:50:32.468437451Z"
    }
   }
  }
 ],
 "metadata": {
  "kernelspec": {
   "display_name": "Python 3",
   "language": "python",
   "name": "python3"
  },
  "language_info": {
   "codemirror_mode": {
    "name": "ipython",
    "version": 2
   },
   "file_extension": ".py",
   "mimetype": "text/x-python",
   "name": "python",
   "nbconvert_exporter": "python",
   "pygments_lexer": "ipython2",
   "version": "2.7.6"
  }
 },
 "nbformat": 4,
 "nbformat_minor": 0
}
