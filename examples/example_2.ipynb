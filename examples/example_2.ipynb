{
 "cells": [
  {
   "cell_type": "code",
   "execution_count": 2,
   "metadata": {
    "collapsed": true,
    "ExecuteTime": {
     "start_time": "2023-04-18T18:04:54.242801Z",
     "end_time": "2023-04-18T18:04:55.148702Z"
    }
   },
   "outputs": [
    {
     "data": {
      "text/plain": "0     rn:R02004\n1     rn:R02006\n2     rn:R02007\n3     rn:R02009\n4     rn:R02013\n        ...    \n63    rn:R12231\n64    rn:R12253\n65    rn:R12517\n66    rn:R12518\n67    rn:R12520\nName: 1, Length: 68, dtype: object"
     },
     "execution_count": 2,
     "metadata": {},
     "output_type": "execute_result"
    }
   ],
   "source": [
    "from sm_precursor_predictor.data_integration.kegg_api import KeggApi\n",
    "\n",
    "df_reactions_in_map = KeggApi.get_links(\"reaction\", \"path:map00902\")\n",
    "df_reactions_in_map.iloc[:, 1]"
   ]
  },
  {
   "cell_type": "code",
   "execution_count": 11,
   "outputs": [],
   "source": [
    "import pandas as pd\n",
    "\n",
    "secondary_metabolites = pd.read_html(\"https://www.genome.jp/kegg/compound/br08011.html\", header=0)"
   ],
   "metadata": {
    "collapsed": false,
    "ExecuteTime": {
     "start_time": "2023-04-19T01:17:34.003107Z",
     "end_time": "2023-04-19T01:17:36.083876Z"
    }
   }
  },
  {
   "cell_type": "code",
   "execution_count": 8,
   "outputs": [],
   "source": [
    "table = secondary_metabolites[0]"
   ],
   "metadata": {
    "collapsed": false,
    "ExecuteTime": {
     "start_time": "2023-04-19T01:16:54.813817Z",
     "end_time": "2023-04-19T01:16:54.854769Z"
    }
   }
  },
  {
   "cell_type": "code",
   "execution_count": 9,
   "outputs": [
    {
     "name": "stderr",
     "output_type": "stream",
     "text": [
      "/tmp/ipykernel_145453/161140866.py:1: UserWarning: Pandas doesn't allow columns to be created via a new attribute name - see https://pandas.pydata.org/pandas-docs/stable/indexing.html#attribute-access\n",
      "  table.header = table.iloc[0]\n"
     ]
    }
   ],
   "source": [
    "table.header = table.iloc[0]"
   ],
   "metadata": {
    "collapsed": false,
    "ExecuteTime": {
     "start_time": "2023-04-19T01:17:11.405669Z",
     "end_time": "2023-04-19T01:17:11.410245Z"
    }
   }
  },
  {
   "cell_type": "code",
   "execution_count": 15,
   "outputs": [
    {
     "data": {
      "text/plain": "array(['Map', '00902', '00909', '00904', '00906', '00905', '00981',\n       '00908', '00522', '01051', '01059', '01057 \\u202800253', '01053',\n       '01055', '00940', '00940 00941', '00941 00944', '00941 00942',\n       '00943', '00945', '00901', '00403', '00950', '00960', '00965',\n       '00966', '00402', '00311', '00332', '00261', '00331', '00521',\n       '00524', '00525', '00401', '00404', '00405', '00333', '00254',\n       '00996', '00998', '00999', '00997'], dtype=object)"
     },
     "execution_count": 15,
     "metadata": {},
     "output_type": "execute_result"
    }
   ],
   "source": [
    "table.iloc[:, 0].unique()"
   ],
   "metadata": {
    "collapsed": false,
    "ExecuteTime": {
     "start_time": "2023-04-19T01:19:44.845764Z",
     "end_time": "2023-04-19T01:19:44.850189Z"
    }
   }
  },
  {
   "cell_type": "code",
   "execution_count": 4,
   "outputs": [
    {
     "data": {
      "text/plain": "                                                    0\n0    ENTRY       R02004                      Reaction\n1   NAME        geranyl-diphosphate diphosphate-ly...\n2   DEFINITION  Geranyl diphosphate + H2O <=> (-)-...\n3     EQUATION    C00341 + C00001 <=> C02344 + C00013\n4                  RCLASS      RC00634  C00341_C02344\n5                                ENZYME      4.2.3.10\n6     PATHWAY     rn00902  Monoterpenoid biosynthesis\n7               rn01110  Biosynthesis of secondary...\n8   ORTHOLOGY   K15097  (-)-endo-fenchol synthase ...\n9                             DBLINKS     RHEA: 20568\n10                                                ///",
      "text/html": "<div>\n<style scoped>\n    .dataframe tbody tr th:only-of-type {\n        vertical-align: middle;\n    }\n\n    .dataframe tbody tr th {\n        vertical-align: top;\n    }\n\n    .dataframe thead th {\n        text-align: right;\n    }\n</style>\n<table border=\"1\" class=\"dataframe\">\n  <thead>\n    <tr style=\"text-align: right;\">\n      <th></th>\n      <th>0</th>\n    </tr>\n  </thead>\n  <tbody>\n    <tr>\n      <th>0</th>\n      <td>ENTRY       R02004                      Reaction</td>\n    </tr>\n    <tr>\n      <th>1</th>\n      <td>NAME        geranyl-diphosphate diphosphate-ly...</td>\n    </tr>\n    <tr>\n      <th>2</th>\n      <td>DEFINITION  Geranyl diphosphate + H2O &lt;=&gt; (-)-...</td>\n    </tr>\n    <tr>\n      <th>3</th>\n      <td>EQUATION    C00341 + C00001 &lt;=&gt; C02344 + C00013</td>\n    </tr>\n    <tr>\n      <th>4</th>\n      <td>RCLASS      RC00634  C00341_C02344</td>\n    </tr>\n    <tr>\n      <th>5</th>\n      <td>ENZYME      4.2.3.10</td>\n    </tr>\n    <tr>\n      <th>6</th>\n      <td>PATHWAY     rn00902  Monoterpenoid biosynthesis</td>\n    </tr>\n    <tr>\n      <th>7</th>\n      <td>rn01110  Biosynthesis of secondary...</td>\n    </tr>\n    <tr>\n      <th>8</th>\n      <td>ORTHOLOGY   K15097  (-)-endo-fenchol synthase ...</td>\n    </tr>\n    <tr>\n      <th>9</th>\n      <td>DBLINKS     RHEA: 20568</td>\n    </tr>\n    <tr>\n      <th>10</th>\n      <td>///</td>\n    </tr>\n  </tbody>\n</table>\n</div>"
     },
     "execution_count": 4,
     "metadata": {},
     "output_type": "execute_result"
    }
   ],
   "source": [
    "KeggApi.to_df(KeggApi.get(\"rn:R02004\"))"
   ],
   "metadata": {
    "collapsed": false,
    "ExecuteTime": {
     "start_time": "2023-04-18T18:05:34.542141Z",
     "end_time": "2023-04-18T18:05:35.422795Z"
    }
   }
  },
  {
   "cell_type": "code",
   "execution_count": 1,
   "outputs": [],
   "source": [
    "from sm_precursor_predictor.data_integration.generate_kegg_networks import KeggNetworkGenerator\n",
    "\n",
    "graph = KeggNetworkGenerator.get_kegg_network(\"map00902\")"
   ],
   "metadata": {
    "collapsed": false,
    "ExecuteTime": {
     "start_time": "2023-04-19T01:11:24.190112Z",
     "end_time": "2023-04-19T01:12:50.065848Z"
    }
   }
  },
  {
   "cell_type": "code",
   "execution_count": 2,
   "outputs": [],
   "source": [
    "precursors = []\n",
    "for node in graph.nodes:\n",
    "    predecessors = graph.predecessors(node)\n",
    "    counter = 0\n",
    "    for predecessor in predecessors:\n",
    "        counter += 1\n",
    "        break\n",
    "    if counter == 0:\n",
    "        precursors.append(node)"
   ],
   "metadata": {
    "collapsed": false,
    "ExecuteTime": {
     "start_time": "2023-04-19T01:13:35.517364Z",
     "end_time": "2023-04-19T01:13:35.559256Z"
    }
   }
  },
  {
   "cell_type": "code",
   "execution_count": 3,
   "outputs": [
    {
     "data": {
      "text/plain": "['C00341',\n 'C00005',\n 'C00003',\n 'C00019',\n 'C01433',\n 'C04718',\n 'C01512',\n 'C09769',\n 'C09893',\n 'C01765',\n 'C03092',\n 'C04433',\n 'C00015',\n 'C09804']"
     },
     "execution_count": 3,
     "metadata": {},
     "output_type": "execute_result"
    }
   ],
   "source": [
    "precursors"
   ],
   "metadata": {
    "collapsed": false,
    "ExecuteTime": {
     "start_time": "2023-04-19T01:13:37.580861Z",
     "end_time": "2023-04-19T01:13:37.584206Z"
    }
   }
  },
  {
   "cell_type": "code",
   "execution_count": 5,
   "outputs": [
    {
     "name": "stdout",
     "output_type": "stream",
     "text": [
      "R02177\n",
      "R02469\n",
      "R02470\n",
      "R02548\n",
      "R02995\n",
      "R03114\n",
      "R06119\n",
      "R06417\n",
      "R06419\n",
      "R08499\n",
      "R08925\n",
      "R10919\n"
     ]
    }
   ],
   "source": [
    "for successor in graph.successors('C00005'):\n",
    "    print(successor)"
   ],
   "metadata": {
    "collapsed": false,
    "ExecuteTime": {
     "start_time": "2023-04-19T00:58:55.555942Z",
     "end_time": "2023-04-19T00:58:55.609132Z"
    }
   }
  },
  {
   "cell_type": "code",
   "execution_count": 3,
   "outputs": [
    {
     "name": "stdout",
     "output_type": "stream",
     "text": [
      "R02004\n"
     ]
    }
   ],
   "source": [
    "for edge in graph.edges:\n",
    "    node1, node2 = edge\n",
    "    if node2 == \"C00341\":\n",
    "        print(node1)"
   ],
   "metadata": {
    "collapsed": false,
    "ExecuteTime": {
     "start_time": "2023-04-19T00:25:15.566876Z",
     "end_time": "2023-04-19T00:25:15.570982Z"
    }
   }
  }
 ],
 "metadata": {
  "kernelspec": {
   "display_name": "Python 3",
   "language": "python",
   "name": "python3"
  },
  "language_info": {
   "codemirror_mode": {
    "name": "ipython",
    "version": 2
   },
   "file_extension": ".py",
   "mimetype": "text/x-python",
   "name": "python",
   "nbconvert_exporter": "python",
   "pygments_lexer": "ipython2",
   "version": "2.7.6"
  }
 },
 "nbformat": 4,
 "nbformat_minor": 0
}
