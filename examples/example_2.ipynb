{
 "cells": [
  {
   "cell_type": "code",
   "execution_count": 2,
   "metadata": {
    "collapsed": true,
    "ExecuteTime": {
     "start_time": "2023-04-18T18:04:54.242801Z",
     "end_time": "2023-04-18T18:04:55.148702Z"
    }
   },
   "outputs": [
    {
     "data": {
      "text/plain": "0     rn:R02004\n1     rn:R02006\n2     rn:R02007\n3     rn:R02009\n4     rn:R02013\n        ...    \n63    rn:R12231\n64    rn:R12253\n65    rn:R12517\n66    rn:R12518\n67    rn:R12520\nName: 1, Length: 68, dtype: object"
     },
     "execution_count": 2,
     "metadata": {},
     "output_type": "execute_result"
    }
   ],
   "source": [
    "from sm_precursor_predictor.data_integration.kegg_api import KeggApi\n",
    "\n",
    "df_reactions_in_map = KeggApi.get_links(\"reaction\", \"path:map00902\")\n",
    "df_reactions_in_map.iloc[:, 1]"
   ]
  },
  {
   "cell_type": "code",
   "execution_count": 4,
   "outputs": [
    {
     "data": {
      "text/plain": "                                                    0\n0    ENTRY       R02004                      Reaction\n1   NAME        geranyl-diphosphate diphosphate-ly...\n2   DEFINITION  Geranyl diphosphate + H2O <=> (-)-...\n3     EQUATION    C00341 + C00001 <=> C02344 + C00013\n4                  RCLASS      RC00634  C00341_C02344\n5                                ENZYME      4.2.3.10\n6     PATHWAY     rn00902  Monoterpenoid biosynthesis\n7               rn01110  Biosynthesis of secondary...\n8   ORTHOLOGY   K15097  (-)-endo-fenchol synthase ...\n9                             DBLINKS     RHEA: 20568\n10                                                ///",
      "text/html": "<div>\n<style scoped>\n    .dataframe tbody tr th:only-of-type {\n        vertical-align: middle;\n    }\n\n    .dataframe tbody tr th {\n        vertical-align: top;\n    }\n\n    .dataframe thead th {\n        text-align: right;\n    }\n</style>\n<table border=\"1\" class=\"dataframe\">\n  <thead>\n    <tr style=\"text-align: right;\">\n      <th></th>\n      <th>0</th>\n    </tr>\n  </thead>\n  <tbody>\n    <tr>\n      <th>0</th>\n      <td>ENTRY       R02004                      Reaction</td>\n    </tr>\n    <tr>\n      <th>1</th>\n      <td>NAME        geranyl-diphosphate diphosphate-ly...</td>\n    </tr>\n    <tr>\n      <th>2</th>\n      <td>DEFINITION  Geranyl diphosphate + H2O &lt;=&gt; (-)-...</td>\n    </tr>\n    <tr>\n      <th>3</th>\n      <td>EQUATION    C00341 + C00001 &lt;=&gt; C02344 + C00013</td>\n    </tr>\n    <tr>\n      <th>4</th>\n      <td>RCLASS      RC00634  C00341_C02344</td>\n    </tr>\n    <tr>\n      <th>5</th>\n      <td>ENZYME      4.2.3.10</td>\n    </tr>\n    <tr>\n      <th>6</th>\n      <td>PATHWAY     rn00902  Monoterpenoid biosynthesis</td>\n    </tr>\n    <tr>\n      <th>7</th>\n      <td>rn01110  Biosynthesis of secondary...</td>\n    </tr>\n    <tr>\n      <th>8</th>\n      <td>ORTHOLOGY   K15097  (-)-endo-fenchol synthase ...</td>\n    </tr>\n    <tr>\n      <th>9</th>\n      <td>DBLINKS     RHEA: 20568</td>\n    </tr>\n    <tr>\n      <th>10</th>\n      <td>///</td>\n    </tr>\n  </tbody>\n</table>\n</div>"
     },
     "execution_count": 4,
     "metadata": {},
     "output_type": "execute_result"
    }
   ],
   "source": [
    "KeggApi.to_df(KeggApi.get(\"rn:R02004\"))"
   ],
   "metadata": {
    "collapsed": false,
    "ExecuteTime": {
     "start_time": "2023-04-18T18:05:34.542141Z",
     "end_time": "2023-04-18T18:05:35.422795Z"
    }
   }
  },
  {
   "cell_type": "code",
   "execution_count": 5,
   "outputs": [
    {
     "data": {
      "text/plain": "           0           1\n0  rn:R02004  cpd:C00001\n1  rn:R02004  cpd:C00013\n2  rn:R02004  cpd:C00341\n3  rn:R02004  cpd:C02344",
      "text/html": "<div>\n<style scoped>\n    .dataframe tbody tr th:only-of-type {\n        vertical-align: middle;\n    }\n\n    .dataframe tbody tr th {\n        vertical-align: top;\n    }\n\n    .dataframe thead th {\n        text-align: right;\n    }\n</style>\n<table border=\"1\" class=\"dataframe\">\n  <thead>\n    <tr style=\"text-align: right;\">\n      <th></th>\n      <th>0</th>\n      <th>1</th>\n    </tr>\n  </thead>\n  <tbody>\n    <tr>\n      <th>0</th>\n      <td>rn:R02004</td>\n      <td>cpd:C00001</td>\n    </tr>\n    <tr>\n      <th>1</th>\n      <td>rn:R02004</td>\n      <td>cpd:C00013</td>\n    </tr>\n    <tr>\n      <th>2</th>\n      <td>rn:R02004</td>\n      <td>cpd:C00341</td>\n    </tr>\n    <tr>\n      <th>3</th>\n      <td>rn:R02004</td>\n      <td>cpd:C02344</td>\n    </tr>\n  </tbody>\n</table>\n</div>"
     },
     "execution_count": 5,
     "metadata": {},
     "output_type": "execute_result"
    }
   ],
   "source": [
    "KeggApi.get_links(\"compound\", \"rn:R02004\")"
   ],
   "metadata": {
    "collapsed": false,
    "ExecuteTime": {
     "start_time": "2023-04-18T18:06:24.228638Z",
     "end_time": "2023-04-18T18:06:25.147294Z"
    }
   }
  }
 ],
 "metadata": {
  "kernelspec": {
   "display_name": "Python 3",
   "language": "python",
   "name": "python3"
  },
  "language_info": {
   "codemirror_mode": {
    "name": "ipython",
    "version": 2
   },
   "file_extension": ".py",
   "mimetype": "text/x-python",
   "name": "python",
   "nbconvert_exporter": "python",
   "pygments_lexer": "ipython2",
   "version": "2.7.6"
  }
 },
 "nbformat": 4,
 "nbformat_minor": 0
}
