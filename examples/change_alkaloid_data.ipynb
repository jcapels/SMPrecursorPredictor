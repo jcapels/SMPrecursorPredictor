{
 "cells": [
  {
   "cell_type": "code",
   "execution_count": null,
   "metadata": {
    "collapsed": true
   },
   "outputs": [],
   "source": []
  },
  {
   "cell_type": "code",
   "execution_count": 5,
   "outputs": [
    {
     "name": "stderr",
     "output_type": "stream",
     "text": [
      "2023-07-03 16:11:26.367732: I tensorflow/tsl/cuda/cudart_stub.cc:28] Could not find cuda drivers on your machine, GPU will not be used.\n",
      "2023-07-03 16:11:26.396924: I tensorflow/tsl/cuda/cudart_stub.cc:28] Could not find cuda drivers on your machine, GPU will not be used.\n",
      "2023-07-03 16:11:26.397338: I tensorflow/core/platform/cpu_feature_guard.cc:182] This TensorFlow binary is optimized to use available CPU instructions in performance-critical operations.\n",
      "To enable the following instructions: AVX2 FMA, in other operations, rebuild TensorFlow with the appropriate compiler flags.\n",
      "2023-07-03 16:11:26.895826: W tensorflow/compiler/tf2tensorrt/utils/py_utils.cc:38] TF-TRT Warning: Could not find TensorRT\n",
      "Skipped loading modules with pytorch-lightning dependency, missing a dependency. No module named 'pytorch_lightning'\n",
      "Skipped loading some Jax models, missing a dependency. jax requires jaxlib to be installed. See https://github.com/google/jax#installation for installation instructions.\n"
     ]
    },
    {
     "name": "stdout",
     "output_type": "stream",
     "text": [
      "2023-07-03 16:11:28,496 — INFO — Assuming multitask since y has more than one dimension. If otherwise, explicitly set the mode to 'classification' or 'regression'!\n"
     ]
    },
    {
     "name": "stderr",
     "output_type": "stream",
     "text": [
      "/home/bisbii/anaconda3/envs/sm_precursor_predictor/lib/python3.9/site-packages/deepmol/compound_featurization/__init__.py:20: UserWarning: Mol2Vec not available. Please install it to use it.\n",
      "  warnings.warn(\"Mol2Vec not available. Please install it to use it.\")\n"
     ]
    }
   ],
   "source": [
    "import pandas as pd\n",
    "\n",
    "from deepmol.compound_featurization import generate_conformers_to_sdf_file\n",
    "from deepmol.loaders import CSVLoader\n",
    "\n",
    "dataset = CSVLoader(\"alkaloid_data_processed.csv\", id_field=\"CID\",\n",
    "                    smiles_field=\"SMILES\", labels_fields=['C00078', 'C00082', 'C00148', 'C00108', 'C00047',\n",
    "                                                          'C00062', 'C03506', 'C00353', 'C00041', 'C00049',\n",
    "                                                          'C01852', 'C00079','C00129', 'C00135', 'C00187']).create_dataset()\n"
   ],
   "metadata": {
    "collapsed": false,
    "ExecuteTime": {
     "end_time": "2023-07-03T15:11:28.512203438Z",
     "start_time": "2023-07-03T15:11:25.934301362Z"
    }
   }
  },
  {
   "cell_type": "code",
   "execution_count": 6,
   "outputs": [
    {
     "data": {
      "text/plain": "576"
     },
     "execution_count": 6,
     "metadata": {},
     "output_type": "execute_result"
    }
   ],
   "source": [
    "len(dataset.mols)"
   ],
   "metadata": {
    "collapsed": false,
    "ExecuteTime": {
     "end_time": "2023-07-03T15:11:29.561786825Z",
     "start_time": "2023-07-03T15:11:29.557551470Z"
    }
   }
  },
  {
   "cell_type": "code",
   "execution_count": 1,
   "outputs": [],
   "source": [
    "import pandas as pd\n",
    "\n",
    "aliases = pd.read_csv(\"alkaloid_data_precursors.csv\")"
   ],
   "metadata": {
    "collapsed": false,
    "ExecuteTime": {
     "end_time": "2023-07-03T15:11:08.935048252Z",
     "start_time": "2023-07-03T15:11:08.792839483Z"
    }
   }
  },
  {
   "cell_type": "code",
   "execution_count": 2,
   "outputs": [],
   "source": [
    "alkaloid_data = pd.read_csv(\"alkaloid_data.csv\")\n",
    "columns = []\n",
    "for column in alkaloid_data.columns:\n",
    "    if column in aliases.columns:\n",
    "        columns.append(aliases[column][0])\n",
    "    else:\n",
    "        columns.append(column)"
   ],
   "metadata": {
    "collapsed": false,
    "ExecuteTime": {
     "end_time": "2023-07-03T15:11:11.171636211Z",
     "start_time": "2023-07-03T15:11:11.166632773Z"
    }
   }
  },
  {
   "cell_type": "code",
   "execution_count": 3,
   "outputs": [
    {
     "data": {
      "text/plain": "['Name',\n 'CID',\n 'PM',\n 'SMILES',\n 'C00078',\n 'C00082',\n 'C00148',\n 'C00108',\n 'C00047',\n 'C00062',\n 'C03506',\n 'C00353',\n 'C00041',\n 'C00049',\n 'C01852',\n 'C00079',\n 'C00129',\n 'C00135',\n 'C00187']"
     },
     "execution_count": 3,
     "metadata": {},
     "output_type": "execute_result"
    }
   ],
   "source": [
    "columns"
   ],
   "metadata": {
    "collapsed": false,
    "ExecuteTime": {
     "end_time": "2023-07-03T15:11:13.250131769Z",
     "start_time": "2023-07-03T15:11:13.248554192Z"
    }
   }
  },
  {
   "cell_type": "code",
   "execution_count": 4,
   "outputs": [],
   "source": [
    "alkaloid_data.columns = columns\n",
    "alkaloid_data.to_csv(\"alkaloid_data_processed.csv\", index=False)"
   ],
   "metadata": {
    "collapsed": false,
    "ExecuteTime": {
     "end_time": "2023-07-03T15:11:17.076080536Z",
     "start_time": "2023-07-03T15:11:17.071221192Z"
    }
   }
  },
  {
   "cell_type": "code",
   "execution_count": 26,
   "outputs": [
    {
     "data": {
      "text/plain": "['Name',\n 'CID',\n 'PM',\n 'SMILES',\n 'C00078',\n 'C00082',\n 'C00148',\n 'C00108',\n 'C00047',\n 'C00062',\n 'C03506 ',\n 'C00353',\n 'C00041',\n 'C00049',\n 'C01852',\n 'C00079',\n 'C00129',\n 'C00135',\n 'C00187']"
     },
     "execution_count": 26,
     "metadata": {},
     "output_type": "execute_result"
    }
   ],
   "source": [
    "columns"
   ],
   "metadata": {
    "collapsed": false,
    "ExecuteTime": {
     "end_time": "2023-06-06T09:56:14.795845152Z",
     "start_time": "2023-06-06T09:56:14.786942166Z"
    }
   }
  },
  {
   "cell_type": "code",
   "execution_count": 2,
   "outputs": [
    {
     "name": "stdout",
     "output_type": "stream",
     "text": [
      " ||||||||||||||||||||||||||||||||||||||||||||||||||||||||||||||||||||||||||||||||||||||||||||||||||||-| 99.8% "
     ]
    }
   ],
   "source": [
    "generate_conformers_to_sdf_file(dataset, \"alkaloid_conformers.sdf\", n_conformations=20, threads=30, max_iterations=500, timeout_per_molecule=1000, etkg_version=3)"
   ],
   "metadata": {
    "collapsed": false,
    "ExecuteTime": {
     "end_time": "2023-06-06T14:25:12.180708364Z",
     "start_time": "2023-06-06T10:59:47.290783659Z"
    }
   }
  },
  {
   "cell_type": "code",
   "execution_count": 1,
   "outputs": [
    {
     "name": "stdout",
     "output_type": "stream",
     "text": [
      "2023-06-07 10:09:47,911 — INFO — Assuming multitask since y has more than one dimension. If otherwise, explicitly set the mode to 'classification' or 'regression'!\n"
     ]
    }
   ],
   "source": [
    "from deepmol.loaders import SDFLoader\n",
    "\n",
    "dataset = SDFLoader(\"alkaloid_conformers.sdf\",id_field=\"_ID\", labels_fields=['C00078', 'C00082', 'C00148', 'C00108', 'C00047',\n",
    "                                                          'C00062', 'C03506', 'C00353', 'C00041', 'C00049',\n",
    "                                                          'C01852', 'C00079','C00129', 'C00135', 'C00187']).create_dataset()"
   ],
   "metadata": {
    "collapsed": false,
    "ExecuteTime": {
     "end_time": "2023-06-07T09:09:47.927888188Z",
     "start_time": "2023-06-07T09:09:47.536807302Z"
    }
   }
  },
  {
   "cell_type": "code",
   "execution_count": 11,
   "outputs": [
    {
     "data": {
      "text/plain": "<rdkit.Chem.rdchem.Mol at 0x7f2d2d919dd0>",
      "text/html": "<table><tr><td colspan=\"2\" style=\"text-align: center;\"><image src=\"data:image/png;base64,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\"></td></tr>\n<tr><th style=\"text-align: right\">C00078</th><td style=\"text-align: left\">1.0</td></tr>\n<tr><th style=\"text-align: right\">C00082</th><td style=\"text-align: left\">0.0</td></tr>\n<tr><th style=\"text-align: right\">C00148</th><td style=\"text-align: left\">0.0</td></tr>\n<tr><th style=\"text-align: right\">C00108</th><td style=\"text-align: left\">0.0</td></tr>\n<tr><th style=\"text-align: right\">C00047</th><td style=\"text-align: left\">0.0</td></tr>\n<tr><th style=\"text-align: right\">C00062</th><td style=\"text-align: left\">0.0</td></tr>\n<tr><th style=\"text-align: right\">C03506</th><td style=\"text-align: left\">0.0</td></tr>\n<tr><th style=\"text-align: right\">C00353</th><td style=\"text-align: left\">0.0</td></tr>\n<tr><th style=\"text-align: right\">C00041</th><td style=\"text-align: left\">0.0</td></tr>\n<tr><th style=\"text-align: right\">C00049</th><td style=\"text-align: left\">0.0</td></tr>\n<tr><td colspan=\"2\" style=\"text-align: center\">Property list truncated.<br />Increase IPythonConsole.ipython_maxProperties (or set it to -1) to see more properties.</td></tr></table>",
      "image/png": "[encoded data removed]"
     },
     "execution_count": 11,
     "metadata": {},
     "output_type": "execute_result"
    }
   ],
   "source": [
    "dataset.mols[217]"
   ],
   "metadata": {
    "collapsed": false,
    "ExecuteTime": {
     "end_time": "2023-06-06T14:40:13.803970781Z",
     "start_time": "2023-06-06T14:40:13.798667139Z"
    }
   }
  },
  {
   "cell_type": "code",
   "execution_count": 4,
   "outputs": [
    {
     "name": "stdout",
     "output_type": "stream",
     "text": [
      "2023-06-07 09:10:37,725 — INFO — Assuming multitask since y has more than one dimension. If otherwise, explicitly set the mode to 'classification' or 'regression'!\n"
     ]
    },
    {
     "name": "stderr",
     "output_type": "stream",
     "text": [
      "[09:10:37] WARNING: not removing hydrogen atom without neighbors\n"
     ]
    }
   ],
   "source": [
    "dataset = SDFLoader(\"terpenoids_phenolics.sdf\",labels_fields=['C00078', 'C00082', 'C00148', 'C00108', 'C00047',\n",
    "                                                          'C00062', 'C03506', 'C00353', 'C00041', 'C00049',\n",
    "                                                          'C01852', 'C00079','C00129', 'C00135', 'C00187']).create_dataset()"
   ],
   "metadata": {
    "collapsed": false,
    "ExecuteTime": {
     "end_time": "2023-06-07T08:10:37.740849106Z",
     "start_time": "2023-06-07T08:10:37.700841959Z"
    }
   }
  },
  {
   "cell_type": "code",
   "execution_count": null,
   "outputs": [
    {
     "name": "stdout",
     "output_type": "stream",
     "text": [
      " |----------------------------------------------------------------------------------------------------| 0.9% "
     ]
    },
    {
     "name": "stderr",
     "output_type": "stream",
     "text": [
      "[09:11:23] WARNING: not removing hydrogen atom without neighbors\n"
     ]
    },
    {
     "name": "stdout",
     "output_type": "stream",
     "text": [
      " |||||||----------------------------------------------------------------------------------------------| 6.9% 2023-06-07 09:18:49,113 — INFO — Timeout for molecule 61\n",
      " ||||||||---------------------------------------------------------------------------------------------| 7.5% 2023-06-07 09:20:18,344 — INFO — Timeout for molecule 66\n",
      " ||||||||---------------------------------------------------------------------------------------------| 7.6% 2023-06-07 09:21:37,315 — INFO — Timeout for molecule 67\n",
      " ||||||||---------------------------------------------------------------------------------------------| 7.7% 2023-06-07 09:23:31,042 — INFO — Timeout for molecule 68\n",
      " |||||||||--------------------------------------------------------------------------------------------| 8.3% 2023-06-07 09:26:10,957 — INFO — Timeout for molecule 73\n",
      " |||||||||--------------------------------------------------------------------------------------------| 8.4% 2023-06-07 09:27:58,713 — INFO — Timeout for molecule 74\n",
      " |||||||||--------------------------------------------------------------------------------------------| 8.5% 2023-06-07 09:29:51,450 — INFO — Timeout for molecule 75\n",
      " |||||||||--------------------------------------------------------------------------------------------| 8.7% 2023-06-07 09:32:09,774 — INFO — Timeout for molecule 77\n",
      " |||||||||--------------------------------------------------------------------------------------------| 8.8% 2023-06-07 09:34:13,723 — INFO — Timeout for molecule 78\n",
      " ||||||||||-------------------------------------------------------------------------------------------| 9.6% 2023-06-07 09:36:13,460 — INFO — Timeout for molecule 85\n",
      " ||||||||||||-----------------------------------------------------------------------------------------| 11.3% 2023-06-07 09:40:04,883 — INFO — Timeout for molecule 100\n",
      " |||||||||||||----------------------------------------------------------------------------------------| 12.4% 2023-06-07 09:43:30,829 — INFO — Timeout for molecule 110\n",
      " ||||||||||||||---------------------------------------------------------------------------------------| 13.9% 2023-06-07 09:47:39,692 — INFO — Timeout for molecule 123\n",
      " |||||||||||||||--------------------------------------------------------------------------------------| 14.0% 2023-06-07 09:49:12,795 — INFO — Timeout for molecule 124\n",
      " |||||||||||||||--------------------------------------------------------------------------------------| 14.1% 2023-06-07 09:51:07,211 — INFO — Timeout for molecule 125\n",
      " |||||||||||||||--------------------------------------------------------------------------------------| 14.3% 2023-06-07 09:53:18,880 — INFO — Timeout for molecule 126\n",
      " |||||||||||||||--------------------------------------------------------------------------------------| 14.4% 2023-06-07 09:54:51,141 — INFO — Timeout for molecule 127\n",
      " |||||||||||||||--------------------------------------------------------------------------------------| 14.5% 2023-06-07 09:56:38,850 — INFO — Timeout for molecule 128\n",
      " |||||||||||||||--------------------------------------------------------------------------------------| 14.6% 2023-06-07 09:58:32,798 — INFO — Timeout for molecule 129\n",
      " |||||||||||||||--------------------------------------------------------------------------------------| 14.7% 2023-06-07 10:00:38,392 — INFO — Timeout for molecule 130\n",
      " |||||||||||||||--------------------------------------------------------------------------------------| 14.8% 2023-06-07 10:01:57,495 — INFO — Timeout for molecule 131\n",
      " |||||||||||||||--------------------------------------------------------------------------------------| 14.9% 2023-06-07 10:04:08,676 — INFO — Timeout for molecule 132\n",
      " ||||||||||||||||-------------------------------------------------------------------------------------| 15.3% 2023-06-07 10:04:40,804 — INFO — Timeout for molecule 135\n",
      " ||||||||||||||||-------------------------------------------------------------------------------------| 15.4% "
     ]
    }
   ],
   "source": [
    "generate_conformers_to_sdf_file(dataset, \"terpenoids_phenolics_conformers.sdf\", n_conformations=20, threads=30, max_iterations=500, timeout_per_molecule=30, etkg_version=3)"
   ],
   "metadata": {
    "collapsed": false,
    "ExecuteTime": {
     "start_time": "2023-06-07T08:10:51.229053592Z"
    }
   }
  }
 ],
 "metadata": {
  "kernelspec": {
   "display_name": "Python 3",
   "language": "python",
   "name": "python3"
  },
  "language_info": {
   "codemirror_mode": {
    "name": "ipython",
    "version": 2
   },
   "file_extension": ".py",
   "mimetype": "text/x-python",
   "name": "python",
   "nbconvert_exporter": "python",
   "pygments_lexer": "ipython2",
   "version": "2.7.6"
  }
 },
 "nbformat": 4,
 "nbformat_minor": 0
}
