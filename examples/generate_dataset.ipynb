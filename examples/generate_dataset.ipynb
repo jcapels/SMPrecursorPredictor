{
 "cells": [
  {
   "cell_type": "code",
   "execution_count": 1,
   "metadata": {
    "collapsed": true,
    "ExecuteTime": {
     "end_time": "2023-06-05T17:48:59.723203134Z",
     "start_time": "2023-06-05T17:48:59.564192436Z"
    }
   },
   "outputs": [],
   "source": [
    "import pickle\n",
    "import pandas as pd\n",
    "\n",
    "precursors_data = pd.read_csv('precursors_map_curated_3.csv')\n",
    "\n",
    "# read pickle\n",
    "with open('graphs.pkl', 'rb') as handle:\n",
    "    graphs = pickle.load(handle)"
   ]
  },
  {
   "cell_type": "code",
   "execution_count": 2,
   "outputs": [
    {
     "data": {
      "text/plain": "    pathway     precursors\n3  map00906  C00353;C00448",
      "text/html": "<div>\n<style scoped>\n    .dataframe tbody tr th:only-of-type {\n        vertical-align: middle;\n    }\n\n    .dataframe tbody tr th {\n        vertical-align: top;\n    }\n\n    .dataframe thead th {\n        text-align: right;\n    }\n</style>\n<table border=\"1\" class=\"dataframe\">\n  <thead>\n    <tr style=\"text-align: right;\">\n      <th></th>\n      <th>pathway</th>\n      <th>precursors</th>\n    </tr>\n  </thead>\n  <tbody>\n    <tr>\n      <th>3</th>\n      <td>map00906</td>\n      <td>C00353;C00448</td>\n    </tr>\n  </tbody>\n</table>\n</div>"
     },
     "execution_count": 2,
     "metadata": {},
     "output_type": "execute_result"
    }
   ],
   "source": [
    "precursors_data[precursors_data['pathway'] == 'map00906']"
   ],
   "metadata": {
    "collapsed": false,
    "ExecuteTime": {
     "end_time": "2023-06-05T17:48:59.731831764Z",
     "start_time": "2023-06-05T17:48:59.729619708Z"
    }
   }
  },
  {
   "cell_type": "code",
   "execution_count": 3,
   "outputs": [
    {
     "data": {
      "text/plain": "array(['map00902', 'map00909', 'map00904', 'map00906', 'map00905',\n       'map00908', 'map00940', 'map00941', 'map00944', 'map00942',\n       'map00943', 'map00945', 'map00965', 'map00966', 'map00402'],\n      dtype=object)"
     },
     "execution_count": 3,
     "metadata": {},
     "output_type": "execute_result"
    }
   ],
   "source": [
    "maps = precursors_data['pathway'].unique()\n",
    "maps"
   ],
   "metadata": {
    "collapsed": false,
    "ExecuteTime": {
     "end_time": "2023-06-05T17:48:59.738330841Z",
     "start_time": "2023-06-05T17:48:59.732576673Z"
    }
   }
  },
  {
   "cell_type": "code",
   "execution_count": 6,
   "outputs": [],
   "source": [
    "from sm_precursor_predictor.data_integration.kegg_get_all_for_compound import KEGGAllCompoundInfoExtractor\n",
    "\n",
    "precursor_to_compounds = KEGGAllCompoundInfoExtractor.get_compounds_for_precursors(graphs, maps, precursors_data)"
   ],
   "metadata": {
    "collapsed": false
   }
  },
  {
   "cell_type": "code",
   "execution_count": 5,
   "outputs": [
    {
     "data": {
      "text/plain": "['C00540',\n 'C17225',\n 'C00323',\n 'C17212',\n 'C00161',\n 'C05901',\n 'C17222',\n 'C17741',\n 'C16517',\n 'C17255',\n 'C00233',\n 'C17238',\n 'C00080',\n 'C00053',\n 'C01180',\n 'C19714',\n 'C10434',\n 'C17244',\n 'C10462',\n 'C00151',\n 'C17742',\n 'C17245',\n 'C21746',\n 'C03582',\n 'C17230',\n 'C17243',\n 'C17740',\n 'C12208',\n 'C17253',\n 'C00223',\n 'C17749',\n 'C08426',\n 'C17218',\n 'C00852',\n 'C01069',\n 'C17748',\n 'C17750',\n 'C00078',\n 'C17216',\n 'C00083',\n 'C17219',\n 'C17214',\n 'C02153',\n 'C17226',\n 'C16518',\n 'C17232',\n 'C17221',\n 'C17229',\n 'C17249',\n 'C17213',\n 'C17233',\n 'C10287',\n 'C17746',\n 'C17252',\n 'C17251',\n 'C17223',\n 'C05837',\n 'C17744',\n 'C00082',\n 'C00073',\n 'C04350',\n 'C10443',\n 'C00493',\n 'C17254',\n 'C16516',\n 'C17240',\n 'C17231',\n 'C17236',\n 'C00296',\n 'C17237',\n 'C08412',\n 'C17211',\n 'C17248',\n 'C17235',\n 'C17210',\n 'C00054',\n 'C17241',\n 'C01745',\n 'C17217',\n 'C17224',\n 'C21650',\n 'C02937',\n 'C17242',\n 'C02947',\n 'C17747',\n 'C05270',\n 'C03719',\n 'C17239',\n 'C17246',\n 'C00406',\n 'C08409',\n 'C17743',\n 'C17228',\n 'C00123',\n 'C00079',\n 'C00097',\n 'C17215',\n 'C17220',\n 'C17227',\n 'C17745']"
     },
     "execution_count": 5,
     "metadata": {},
     "output_type": "execute_result"
    }
   ],
   "source": [
    "precursor_to_compounds[\"C00079\"]"
   ],
   "metadata": {
    "collapsed": false,
    "ExecuteTime": {
     "end_time": "2023-06-05T17:49:09.644706845Z",
     "start_time": "2023-06-05T17:49:09.641161651Z"
    }
   }
  },
  {
   "cell_type": "code",
   "execution_count": 28,
   "outputs": [],
   "source": [
    "graph = graphs[\"map00906\"]\n",
    "graph.remove_node(\"C00080\")"
   ],
   "metadata": {
    "collapsed": false,
    "ExecuteTime": {
     "end_time": "2023-06-05T17:13:40.120392831Z",
     "start_time": "2023-06-05T17:13:40.076990327Z"
    }
   }
  },
  {
   "cell_type": "code",
   "execution_count": 29,
   "outputs": [
    {
     "ename": "NetworkXNoPath",
     "evalue": "No path between C00448 and C08614.",
     "output_type": "error",
     "traceback": [
      "\u001B[0;31m---------------------------------------------------------------------------\u001B[0m",
      "\u001B[0;31mNetworkXNoPath\u001B[0m                            Traceback (most recent call last)",
      "Cell \u001B[0;32mIn[29], line 5\u001B[0m\n\u001B[1;32m      3\u001B[0m kegg_precursors_finder \u001B[38;5;241m=\u001B[39m KEGGPrecursorFinder(\u001B[38;5;124m\"\u001B[39m\u001B[38;5;124mmap00906\u001B[39m\u001B[38;5;124m\"\u001B[39m, precursors_data, create_graph\u001B[38;5;241m=\u001B[39m\u001B[38;5;28;01mFalse\u001B[39;00m)\n\u001B[1;32m      4\u001B[0m kegg_precursors_finder\u001B[38;5;241m.\u001B[39mgraph \u001B[38;5;241m=\u001B[39m graph\n\u001B[0;32m----> 5\u001B[0m path \u001B[38;5;241m=\u001B[39m \u001B[43mkegg_precursors_finder\u001B[49m\u001B[38;5;241;43m.\u001B[39;49m\u001B[43mfind_path_from_source_to_target\u001B[49m\u001B[43m(\u001B[49m\u001B[38;5;124;43m\"\u001B[39;49m\u001B[38;5;124;43mC00448\u001B[39;49m\u001B[38;5;124;43m\"\u001B[39;49m\u001B[43m,\u001B[49m\u001B[43m \u001B[49m\u001B[38;5;124;43m\"\u001B[39;49m\u001B[38;5;124;43mC08614\u001B[39;49m\u001B[38;5;124;43m\"\u001B[39;49m\u001B[43m)\u001B[49m\n\u001B[1;32m      6\u001B[0m path\n",
      "File \u001B[0;32m~/Desktop/PHD/SMPrecursorPredictor/src/sm_precursor_predictor/data_integration/kegg_precursor_finder.py:30\u001B[0m, in \u001B[0;36mKEGGPrecursorFinder.find_path_from_source_to_target\u001B[0;34m(self, source_compound, target_compound)\u001B[0m\n\u001B[1;32m     26\u001B[0m \u001B[38;5;28;01mdef\u001B[39;00m \u001B[38;5;21mfind_path_from_source_to_target\u001B[39m(\u001B[38;5;28mself\u001B[39m, source_compound, target_compound):\n\u001B[1;32m     27\u001B[0m     \u001B[38;5;124;03m\"\"\"\u001B[39;00m\n\u001B[1;32m     28\u001B[0m \u001B[38;5;124;03m    Find a path from the source compound to the target compound in the graph.\u001B[39;00m\n\u001B[1;32m     29\u001B[0m \u001B[38;5;124;03m    \"\"\"\u001B[39;00m\n\u001B[0;32m---> 30\u001B[0m     paths \u001B[38;5;241m=\u001B[39m \u001B[43mnx\u001B[49m\u001B[38;5;241;43m.\u001B[39;49m\u001B[43mshortest_path\u001B[49m\u001B[43m(\u001B[49m\u001B[38;5;28;43mself\u001B[39;49m\u001B[38;5;241;43m.\u001B[39;49m\u001B[43mgraph\u001B[49m\u001B[43m,\u001B[49m\u001B[43m \u001B[49m\u001B[43msource_compound\u001B[49m\u001B[43m,\u001B[49m\u001B[43m \u001B[49m\u001B[43mtarget_compound\u001B[49m\u001B[43m)\u001B[49m\n\u001B[1;32m     32\u001B[0m     \u001B[38;5;28;01mreturn\u001B[39;00m paths\n",
      "File \u001B[0;32m~/anaconda3/envs/sm_precursor_predictor/lib/python3.9/site-packages/networkx/classes/backends.py:148\u001B[0m, in \u001B[0;36m_dispatch.<locals>.wrapper\u001B[0;34m(*args, **kwds)\u001B[0m\n\u001B[1;32m    144\u001B[0m         \u001B[38;5;28;01melse\u001B[39;00m:\n\u001B[1;32m    145\u001B[0m             \u001B[38;5;28;01mraise\u001B[39;00m NetworkXNotImplemented(\n\u001B[1;32m    146\u001B[0m                 \u001B[38;5;124mf\u001B[39m\u001B[38;5;124m\"\u001B[39m\u001B[38;5;124m'\u001B[39m\u001B[38;5;132;01m{\u001B[39;00mname\u001B[38;5;132;01m}\u001B[39;00m\u001B[38;5;124m'\u001B[39m\u001B[38;5;124m not implemented by \u001B[39m\u001B[38;5;132;01m{\u001B[39;00mplugin_name\u001B[38;5;132;01m}\u001B[39;00m\u001B[38;5;124m\"\u001B[39m\n\u001B[1;32m    147\u001B[0m             )\n\u001B[0;32m--> 148\u001B[0m \u001B[38;5;28;01mreturn\u001B[39;00m \u001B[43mfunc\u001B[49m\u001B[43m(\u001B[49m\u001B[38;5;241;43m*\u001B[39;49m\u001B[43margs\u001B[49m\u001B[43m,\u001B[49m\u001B[43m \u001B[49m\u001B[38;5;241;43m*\u001B[39;49m\u001B[38;5;241;43m*\u001B[39;49m\u001B[43mkwds\u001B[49m\u001B[43m)\u001B[49m\n",
      "File \u001B[0;32m~/anaconda3/envs/sm_precursor_predictor/lib/python3.9/site-packages/networkx/algorithms/shortest_paths/generic.py:171\u001B[0m, in \u001B[0;36mshortest_path\u001B[0;34m(G, source, target, weight, method)\u001B[0m\n\u001B[1;32m    168\u001B[0m \u001B[38;5;28;01melse\u001B[39;00m:\n\u001B[1;32m    169\u001B[0m     \u001B[38;5;66;03m# Find shortest source-target path.\u001B[39;00m\n\u001B[1;32m    170\u001B[0m     \u001B[38;5;28;01mif\u001B[39;00m method \u001B[38;5;241m==\u001B[39m \u001B[38;5;124m\"\u001B[39m\u001B[38;5;124munweighted\u001B[39m\u001B[38;5;124m\"\u001B[39m:\n\u001B[0;32m--> 171\u001B[0m         paths \u001B[38;5;241m=\u001B[39m \u001B[43mnx\u001B[49m\u001B[38;5;241;43m.\u001B[39;49m\u001B[43mbidirectional_shortest_path\u001B[49m\u001B[43m(\u001B[49m\u001B[43mG\u001B[49m\u001B[43m,\u001B[49m\u001B[43m \u001B[49m\u001B[43msource\u001B[49m\u001B[43m,\u001B[49m\u001B[43m \u001B[49m\u001B[43mtarget\u001B[49m\u001B[43m)\u001B[49m\n\u001B[1;32m    172\u001B[0m     \u001B[38;5;28;01melif\u001B[39;00m method \u001B[38;5;241m==\u001B[39m \u001B[38;5;124m\"\u001B[39m\u001B[38;5;124mdijkstra\u001B[39m\u001B[38;5;124m\"\u001B[39m:\n\u001B[1;32m    173\u001B[0m         _, paths \u001B[38;5;241m=\u001B[39m nx\u001B[38;5;241m.\u001B[39mbidirectional_dijkstra(G, source, target, weight)\n",
      "File \u001B[0;32m~/anaconda3/envs/sm_precursor_predictor/lib/python3.9/site-packages/networkx/algorithms/shortest_paths/unweighted.py:240\u001B[0m, in \u001B[0;36mbidirectional_shortest_path\u001B[0;34m(G, source, target)\u001B[0m\n\u001B[1;32m    237\u001B[0m     \u001B[38;5;28;01mraise\u001B[39;00m nx\u001B[38;5;241m.\u001B[39mNodeNotFound(msg)\n\u001B[1;32m    239\u001B[0m \u001B[38;5;66;03m# call helper to do the real work\u001B[39;00m\n\u001B[0;32m--> 240\u001B[0m results \u001B[38;5;241m=\u001B[39m \u001B[43m_bidirectional_pred_succ\u001B[49m\u001B[43m(\u001B[49m\u001B[43mG\u001B[49m\u001B[43m,\u001B[49m\u001B[43m \u001B[49m\u001B[43msource\u001B[49m\u001B[43m,\u001B[49m\u001B[43m \u001B[49m\u001B[43mtarget\u001B[49m\u001B[43m)\u001B[49m\n\u001B[1;32m    241\u001B[0m pred, succ, w \u001B[38;5;241m=\u001B[39m results\n\u001B[1;32m    243\u001B[0m \u001B[38;5;66;03m# build path from pred+w+succ\u001B[39;00m\n",
      "File \u001B[0;32m~/anaconda3/envs/sm_precursor_predictor/lib/python3.9/site-packages/networkx/algorithms/shortest_paths/unweighted.py:308\u001B[0m, in \u001B[0;36m_bidirectional_pred_succ\u001B[0;34m(G, source, target)\u001B[0m\n\u001B[1;32m    305\u001B[0m                 \u001B[38;5;28;01mif\u001B[39;00m w \u001B[38;5;129;01min\u001B[39;00m pred:  \u001B[38;5;66;03m# found path\u001B[39;00m\n\u001B[1;32m    306\u001B[0m                     \u001B[38;5;28;01mreturn\u001B[39;00m pred, succ, w\n\u001B[0;32m--> 308\u001B[0m \u001B[38;5;28;01mraise\u001B[39;00m nx\u001B[38;5;241m.\u001B[39mNetworkXNoPath(\u001B[38;5;124mf\u001B[39m\u001B[38;5;124m\"\u001B[39m\u001B[38;5;124mNo path between \u001B[39m\u001B[38;5;132;01m{\u001B[39;00msource\u001B[38;5;132;01m}\u001B[39;00m\u001B[38;5;124m and \u001B[39m\u001B[38;5;132;01m{\u001B[39;00mtarget\u001B[38;5;132;01m}\u001B[39;00m\u001B[38;5;124m.\u001B[39m\u001B[38;5;124m\"\u001B[39m)\n",
      "\u001B[0;31mNetworkXNoPath\u001B[0m: No path between C00448 and C08614."
     ]
    }
   ],
   "source": [
    "from sm_precursor_predictor.data_integration.kegg_precursor_finder import KEGGPrecursorFinder\n",
    "\n",
    "kegg_precursors_finder = KEGGPrecursorFinder(\"map00906\", precursors_data, create_graph=False)\n",
    "kegg_precursors_finder.graph = graph\n",
    "path = kegg_precursors_finder.find_path_from_source_to_target(\"C00448\", \"C08614\")\n",
    "path"
   ],
   "metadata": {
    "collapsed": false,
    "ExecuteTime": {
     "end_time": "2023-06-05T17:13:42.161688482Z",
     "start_time": "2023-06-05T17:13:42.074950269Z"
    }
   }
  }
 ],
 "metadata": {
  "kernelspec": {
   "display_name": "Python 3",
   "language": "python",
   "name": "python3"
  },
  "language_info": {
   "codemirror_mode": {
    "name": "ipython",
    "version": 2
   },
   "file_extension": ".py",
   "mimetype": "text/x-python",
   "name": "python",
   "nbconvert_exporter": "python",
   "pygments_lexer": "ipython2",
   "version": "2.7.6"
  }
 },
 "nbformat": 4,
 "nbformat_minor": 0
}
